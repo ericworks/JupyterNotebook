{
 "cells": [
  {
   "cell_type": "markdown",
   "metadata": {},
   "source": [
    "# Prepare Dataset"
   ]
  },
  {
   "cell_type": "markdown",
   "metadata": {},
   "source": [
    "## Helper function"
   ]
  },
  {
   "cell_type": "markdown",
   "metadata": {},
   "source": [
    "getLaterDx: get the diagnosis after 6,12,18 months. \n",
    " - input: \n",
    "   - data: the whole dataset table.\n",
    "   - x :   a table of two column, \"RID\" and \"M\"\n",
    "           which identifying the patient ID and months since base line.\n",
    "   - months_specify: number of month after the diagnosis.\n",
    " - return: \"NA\" if the diagnosis not found.\n",
    "           or a factor of later diagnosis."
   ]
  },
  {
   "cell_type": "code",
   "execution_count": 1,
   "metadata": {},
   "outputs": [],
   "source": [
    "\"\"\"\n",
    "*CHANGE: \n",
    "Here I get the later diagnosis of all entries and mutate the value to a new column. \n",
    "I'll change the structure here to only include baseline, m06, 012, 018 entries.\n",
    "\"\"\"\n",
    "\n",
    "getLaterDx <- function(data, x, months_specify){\n",
    "  RID_in <- as.integer(x[\"RID\"])\n",
    "  M_in <- as.integer(x[\"M\"])\n",
    "  if(!any(data$RID==RID_in&data$M==as.integer(M_in+months_specify))){\n",
    "    return(NA)\n",
    "  }\n",
    "  return(as.factor(data[data$RID==RID_in&data$M==as.integer(M_in+months_specify),]$DX))\n",
    "  \n",
    "}"
   ]
  },
  {
   "cell_type": "code",
   "execution_count": 2,
   "metadata": {},
   "outputs": [
    {
     "name": "stderr",
     "output_type": "stream",
     "text": [
      "── \u001b[1mAttaching packages\u001b[22m ─────────────────────────────────────── tidyverse 1.2.1 ──\n",
      "\u001b[32m✔\u001b[39m \u001b[34mggplot2\u001b[39m 3.2.1     \u001b[32m✔\u001b[39m \u001b[34mpurrr  \u001b[39m 0.3.2\n",
      "\u001b[32m✔\u001b[39m \u001b[34mtibble \u001b[39m 2.1.3     \u001b[32m✔\u001b[39m \u001b[34mdplyr  \u001b[39m 0.8.3\n",
      "\u001b[32m✔\u001b[39m \u001b[34mtidyr  \u001b[39m 1.0.0     \u001b[32m✔\u001b[39m \u001b[34mstringr\u001b[39m 1.4.0\n",
      "\u001b[32m✔\u001b[39m \u001b[34mreadr  \u001b[39m 1.3.1     \u001b[32m✔\u001b[39m \u001b[34mforcats\u001b[39m 0.4.0\n",
      "── \u001b[1mConflicts\u001b[22m ────────────────────────────────────────── tidyverse_conflicts() ──\n",
      "\u001b[31m✖\u001b[39m \u001b[34mdplyr\u001b[39m::\u001b[32mfilter()\u001b[39m masks \u001b[34mstats\u001b[39m::filter()\n",
      "\u001b[31m✖\u001b[39m \u001b[34mdplyr\u001b[39m::\u001b[32mlag()\u001b[39m    masks \u001b[34mstats\u001b[39m::lag()\n",
      "Loading required package: StanHeaders\n",
      "rstan (Version 2.19.2, GitRev: 2e1f913d3ca3)\n",
      "For execution on a local, multicore CPU with excess RAM we recommend calling\n",
      "options(mc.cores = parallel::detectCores()).\n",
      "To avoid recompilation of unchanged Stan programs, we recommend calling\n",
      "rstan_options(auto_write = TRUE)\n",
      "\n",
      "Attaching package: ‘rstan’\n",
      "\n",
      "The following object is masked from ‘package:tidyr’:\n",
      "\n",
      "    extract\n",
      "\n",
      "Loading required package: Hmisc\n",
      "Loading required package: lattice\n",
      "Loading required package: survival\n",
      "Loading required package: Formula\n",
      "\n",
      "Attaching package: ‘Hmisc’\n",
      "\n",
      "The following objects are masked from ‘package:dplyr’:\n",
      "\n",
      "    src, summarize\n",
      "\n",
      "The following objects are masked from ‘package:base’:\n",
      "\n",
      "    format.pval, units\n",
      "\n",
      "\n",
      "Attaching package: ‘caret’\n",
      "\n",
      "The following object is masked from ‘package:survival’:\n",
      "\n",
      "    cluster\n",
      "\n",
      "The following object is masked from ‘package:purrr’:\n",
      "\n",
      "    lift\n",
      "\n"
     ]
    }
   ],
   "source": [
    "library(nycflights13)\n",
    "library(tidyverse)\n",
    "library(rstan)\n",
    "library(ADNIMERGE)\n",
    "library(caret)"
   ]
  },
  {
   "cell_type": "code",
   "execution_count": 3,
   "metadata": {},
   "outputs": [
    {
     "data": {
      "text/html": [
       "<ol class=list-inline>\n",
       "\t<li>2010</li>\n",
       "\t<li>363</li>\n",
       "</ol>\n"
      ],
      "text/latex": [
       "\\begin{enumerate*}\n",
       "\\item 2010\n",
       "\\item 363\n",
       "\\end{enumerate*}\n"
      ],
      "text/markdown": [
       "1. 2010\n",
       "2. 363\n",
       "\n",
       "\n"
      ],
      "text/plain": [
       "[1] 2010  363"
      ]
     },
     "metadata": {},
     "output_type": "display_data"
    },
    {
     "data": {
      "text/html": [
       "<ol class=list-inline>\n",
       "\t<li>3572</li>\n",
       "\t<li>374</li>\n",
       "</ol>\n"
      ],
      "text/latex": [
       "\\begin{enumerate*}\n",
       "\\item 3572\n",
       "\\item 374\n",
       "\\end{enumerate*}\n"
      ],
      "text/markdown": [
       "1. 3572\n",
       "2. 374\n",
       "\n",
       "\n"
      ],
      "text/plain": [
       "[1] 3572  374"
      ]
     },
     "metadata": {},
     "output_type": "display_data"
    }
   ],
   "source": [
    "adnimerge <- ADNIMERGE::adnimerge \n",
    "freesurfer51 <- ADNIMERGE::ucsffsl51all # 2010 entries, freesurfer 5.1\n",
    "freesurfer44 <- ADNIMERGE::ucsffsl # 3572 entries, freesurfer 4.4\n",
    "dim(freesurfer51)\n",
    "dim(freesurfer44)"
   ]
  },
  {
   "cell_type": "markdown",
   "metadata": {},
   "source": [
    "adnimerge_table contains `APEO4`, `Education`, `sex`, `ADAS`, `MMSE`, `CDR-SB`, `RAVLT- immidiate recall`\n",
    "\n",
    "freesurfer table contains several columns with all NA entries. range :\n",
    "  - freesurfer51: col 21 - 363\n",
    "  - freesurfer44: col 29 - 374\n",
    "  "
   ]
  },
  {
   "cell_type": "markdown",
   "metadata": {},
   "source": [
    "## dataset filtering"
   ]
  },
  {
   "cell_type": "markdown",
   "metadata": {},
   "source": [
    "### processing freesurfer table"
   ]
  },
  {
   "cell_type": "code",
   "execution_count": 4,
   "metadata": {},
   "outputs": [
    {
     "name": "stdout",
     "output_type": "stream",
     "text": [
      "[1] 29\n",
      "[1] 3572\n",
      "[1] \"===\"\n",
      "[1] 107\n",
      "[1] 3572\n",
      "[1] \"===\"\n",
      "[1] 113\n",
      "[1] 47\n",
      "[1] \"===\"\n",
      "[1] 114\n",
      "[1] 3572\n",
      "[1] \"===\"\n",
      "[1] 145\n",
      "[1] 3572\n",
      "[1] \"===\"\n",
      "[1] 146\n",
      "[1] 3572\n",
      "[1] \"===\"\n",
      "[1] 147\n",
      "[1] 3572\n",
      "[1] \"===\"\n",
      "[1] 148\n",
      "[1] 3572\n",
      "[1] \"===\"\n",
      "[1] 166\n",
      "[1] 3572\n",
      "[1] \"===\"\n",
      "[1] 178\n",
      "[1] 3572\n",
      "[1] \"===\"\n",
      "[1] 205\n",
      "[1] 3572\n",
      "[1] \"===\"\n",
      "[1] 283\n",
      "[1] 3572\n",
      "[1] \"===\"\n",
      "[1] 289\n",
      "[1] 10\n",
      "[1] \"===\"\n",
      "[1] 290\n",
      "[1] 3572\n",
      "[1] \"===\"\n",
      "[1] 315\n",
      "[1] 3572\n",
      "[1] \"===\"\n",
      "[1] 316\n",
      "[1] 3572\n",
      "[1] \"===\"\n",
      "[1] 317\n",
      "[1] 3572\n",
      "[1] \"===\"\n",
      "[1] 318\n",
      "[1] 3572\n",
      "[1] \"===\"\n",
      "[1] 336\n",
      "[1] 3572\n",
      "[1] \"===\"\n",
      "[1] 338\n",
      "[1] 1\n",
      "[1] \"===\"\n",
      "[1] 339\n",
      "[1] 1660\n",
      "[1] \"===\"\n",
      "[1] 348\n",
      "[1] 3572\n",
      "[1] \"===\"\n"
     ]
    }
   ],
   "source": [
    "\"\"\"\n",
    "Here I make a summary on those columns with too many NAs (probably all NAs)\n",
    "\"\"\"\n",
    "\n",
    "remove_index_col <- c()\n",
    "for (col in 29:374){\n",
    "    if(any(is.na(freesurfer44[,col]))){\n",
    "        \n",
    "        print(col)\n",
    "        print(sum(is.na(freesurfer44[,col])))\n",
    "        print(\"===\")\n",
    "        remove_index_col <- append(remove_index_col, col)\n",
    "    }\n",
    "}"
   ]
  },
  {
   "cell_type": "markdown",
   "metadata": {},
   "source": [
    "should remove these columns(except 338), since they are all NAs.\n",
    "\n",
    "For column 338, there is only one NA. should consider remove that row instead.\n",
    "\n",
    "Later I'll do a NA filter to exclude those rows with NA values."
   ]
  },
  {
   "cell_type": "code",
   "execution_count": 5,
   "metadata": {},
   "outputs": [],
   "source": [
    "remove_index_col <- remove_index_col[!remove_index_col %in% 338] # exclude column 338"
   ]
  },
  {
   "cell_type": "code",
   "execution_count": 6,
   "metadata": {},
   "outputs": [
    {
     "data": {
      "text/html": [
       "<ol class=list-inline>\n",
       "\t<li>3572</li>\n",
       "\t<li>353</li>\n",
       "</ol>\n"
      ],
      "text/latex": [
       "\\begin{enumerate*}\n",
       "\\item 3572\n",
       "\\item 353\n",
       "\\end{enumerate*}\n"
      ],
      "text/markdown": [
       "1. 3572\n",
       "2. 353\n",
       "\n",
       "\n"
      ],
      "text/plain": [
       "[1] 3572  353"
      ]
     },
     "metadata": {},
     "output_type": "display_data"
    }
   ],
   "source": [
    "freesurfer44_mod <- freesurfer44 %>%\n",
    "    select(-remove_index_col)\n",
    "\n",
    "dim(freesurfer44_mod)\n"
   ]
  },
  {
   "cell_type": "code",
   "execution_count": 7,
   "metadata": {},
   "outputs": [
    {
     "name": "stdout",
     "output_type": "stream",
     "text": [
      "[1] 319\n",
      "[1] 52\n",
      "[1] \"===\"\n"
     ]
    }
   ],
   "source": [
    "for (col in 29:353){\n",
    "    if(any(is.na(freesurfer44_mod[,col]))){\n",
    "        \n",
    "        print(col)\n",
    "        print(which(is.na(freesurfer44_mod[,col])))\n",
    "        print(\"===\")\n",
    "    }\n",
    "}"
   ]
  },
  {
   "cell_type": "markdown",
   "metadata": {},
   "source": [
    "There are some rows with NAs.\n",
    "\n",
    "instead of removing columns, we should consider removing rows."
   ]
  },
  {
   "cell_type": "code",
   "execution_count": 8,
   "metadata": {},
   "outputs": [
    {
     "data": {
      "text/html": [
       "<table>\n",
       "<caption>A data.frame: 1 × 29</caption>\n",
       "<thead>\n",
       "\t<tr><th></th><th scope=col>ORIGPROT</th><th scope=col>RID</th><th scope=col>VISCODE</th><th scope=col>EXAMDATE</th><th scope=col>VERSION</th><th scope=col>FLDSTRENG</th><th scope=col>LONISID</th><th scope=col>LONIUID</th><th scope=col>IMAGEUID</th><th scope=col>RUNDATE</th><th scope=col>⋯</th><th scope=col>OVERALLQC</th><th scope=col>TEMPQC</th><th scope=col>FRONTQC</th><th scope=col>PARQC</th><th scope=col>INSULAQC</th><th scope=col>OCCQC</th><th scope=col>BGQC</th><th scope=col>CWMQC</th><th scope=col>VENTQC</th><th scope=col>ST101SV</th></tr>\n",
       "\t<tr><th></th><th scope=col>&lt;fct&gt;</th><th scope=col>&lt;dbl&gt;</th><th scope=col>&lt;labelled&gt;</th><th scope=col>&lt;date&gt;</th><th scope=col>&lt;date&gt;</th><th scope=col>&lt;date&gt;</th><th scope=col>&lt;labelled&gt;</th><th scope=col>&lt;labelled&gt;</th><th scope=col>&lt;labelled&gt;</th><th scope=col>&lt;date&gt;</th><th scope=col>⋯</th><th scope=col>&lt;labelled&gt;</th><th scope=col>&lt;labelled&gt;</th><th scope=col>&lt;labelled&gt;</th><th scope=col>&lt;labelled&gt;</th><th scope=col>&lt;labelled&gt;</th><th scope=col>&lt;labelled&gt;</th><th scope=col>&lt;labelled&gt;</th><th scope=col>&lt;labelled&gt;</th><th scope=col>&lt;labelled&gt;</th><th scope=col>&lt;labelled&gt;</th></tr>\n",
       "</thead>\n",
       "<tbody>\n",
       "\t<tr><th scope=row>4</th><td>ADNI1</td><td>3</td><td>sc</td><td>2005-09-01</td><td>2009-07-01</td><td>NA</td><td>1948</td><td>9127</td><td>32237</td><td>2009-07-01</td><td>⋯</td><td>Pass</td><td>Pass</td><td>Pass</td><td>Pass</td><td>Pass</td><td>Pass</td><td>Pass</td><td>Pass</td><td>Pass</td><td>1661</td></tr>\n",
       "</tbody>\n",
       "</table>\n"
      ],
      "text/latex": [
       "A data.frame: 1 × 29\n",
       "\\begin{tabular}{r|lllllllllllllllllllllllllllll}\n",
       "  & ORIGPROT & RID & VISCODE & EXAMDATE & VERSION & FLDSTRENG & LONISID & LONIUID & IMAGEUID & RUNDATE & STATUS & BASETP1 & BASETP2 & BASETP3 & BASETP4 & BASETP5 & BASETP6 & BASETP7 & BASETP8 & OVERALLQC & TEMPQC & FRONTQC & PARQC & INSULAQC & OCCQC & BGQC & CWMQC & VENTQC & ST101SV\\\\\n",
       "  & <fct> & <dbl> & <labelled> & <date> & <date> & <date> & <labelled> & <labelled> & <labelled> & <date> & <chr> & <fct> & <fct> & <fct> & <fct> & <fct> & <fct> & <fct> & <fct> & <labelled> & <labelled> & <labelled> & <labelled> & <labelled> & <labelled> & <labelled> & <labelled> & <labelled> & <labelled>\\\\\n",
       "\\hline\n",
       "\t4 & ADNI1 & 3 & sc & 2005-09-01 & 2009-07-01 & NA & 1948 & 9127 & 32237 & 2009-07-01 & complete & NA & NA & NA &  No, 1 = Yes & NA &  No, 1 = Yes &  No, 1 = Yes &  No, 1 = Yes & Pass & Pass & Pass & Pass & Pass & Pass & Pass & Pass & Pass & 1661\\\\\n",
       "\\end{tabular}\n"
      ],
      "text/markdown": [
       "\n",
       "A data.frame: 1 × 29\n",
       "\n",
       "| <!--/--> | ORIGPROT &lt;fct&gt; | RID &lt;dbl&gt; | VISCODE &lt;labelled&gt; | EXAMDATE &lt;date&gt; | VERSION &lt;date&gt; | FLDSTRENG &lt;date&gt; | LONISID &lt;labelled&gt; | LONIUID &lt;labelled&gt; | IMAGEUID &lt;labelled&gt; | RUNDATE &lt;date&gt; | ⋯ ⋯ | OVERALLQC &lt;labelled&gt; | TEMPQC &lt;labelled&gt; | FRONTQC &lt;labelled&gt; | PARQC &lt;labelled&gt; | INSULAQC &lt;labelled&gt; | OCCQC &lt;labelled&gt; | BGQC &lt;labelled&gt; | CWMQC &lt;labelled&gt; | VENTQC &lt;labelled&gt; | ST101SV &lt;labelled&gt; |\n",
       "|---|---|---|---|---|---|---|---|---|---|---|---|---|---|---|---|---|---|---|---|---|---|\n",
       "| 4 | ADNI1 | 3 | sc | 2005-09-01 | 2009-07-01 | NA | 1948 | 9127 | 32237 | 2009-07-01 | ⋯ | Pass | Pass | Pass | Pass | Pass | Pass | Pass | Pass | Pass | 1661 |\n",
       "\n"
      ],
      "text/plain": [
       "  ORIGPROT RID VISCODE EXAMDATE   VERSION    FLDSTRENG LONISID LONIUID IMAGEUID\n",
       "4 ADNI1    3   sc      2005-09-01 2009-07-01 <NA>      1948    9127    32237   \n",
       "  RUNDATE    ⋯ OVERALLQC TEMPQC FRONTQC PARQC INSULAQC OCCQC BGQC CWMQC VENTQC\n",
       "4 2009-07-01 ⋯ Pass      Pass   Pass    Pass  Pass     Pass  Pass Pass  Pass  \n",
       "  ST101SV\n",
       "4 1661   "
      ]
     },
     "metadata": {},
     "output_type": "display_data"
    }
   ],
   "source": [
    "freesurfer44_mod[1,1:29]"
   ]
  },
  {
   "cell_type": "code",
   "execution_count": 9,
   "metadata": {},
   "outputs": [],
   "source": [
    "freesurfer44_mod <- freesurfer44_mod[-c(52), ] %>% # remove row 52\n",
    "    select(-c(1,4:28))\n",
    "    "
   ]
  },
  {
   "cell_type": "code",
   "execution_count": 10,
   "metadata": {},
   "outputs": [
    {
     "data": {
      "text/html": [
       "<ol class=list-inline>\n",
       "\t<li>3571</li>\n",
       "\t<li>327</li>\n",
       "</ol>\n"
      ],
      "text/latex": [
       "\\begin{enumerate*}\n",
       "\\item 3571\n",
       "\\item 327\n",
       "\\end{enumerate*}\n"
      ],
      "text/markdown": [
       "1. 3571\n",
       "2. 327\n",
       "\n",
       "\n"
      ],
      "text/plain": [
       "[1] 3571  327"
      ]
     },
     "metadata": {},
     "output_type": "display_data"
    }
   ],
   "source": [
    "dim(freesurfer44_mod)"
   ]
  },
  {
   "cell_type": "code",
   "execution_count": 11,
   "metadata": {},
   "outputs": [
    {
     "data": {
      "text/html": [
       "<table>\n",
       "<caption>A data.frame: 1 × 327</caption>\n",
       "<thead>\n",
       "\t<tr><th></th><th scope=col>RID</th><th scope=col>VISCODE</th><th scope=col>ST101SV</th><th scope=col>ST102CV</th><th scope=col>ST102SA</th><th scope=col>ST102TA</th><th scope=col>ST102TS</th><th scope=col>ST103CV</th><th scope=col>ST103SA</th><th scope=col>ST103TA</th><th scope=col>⋯</th><th scope=col>ST97TS</th><th scope=col>ST98CV</th><th scope=col>ST98SA</th><th scope=col>ST98TA</th><th scope=col>ST98TS</th><th scope=col>ST99CV</th><th scope=col>ST99SA</th><th scope=col>ST99TA</th><th scope=col>ST99TS</th><th scope=col>ST9SV</th></tr>\n",
       "\t<tr><th></th><th scope=col>&lt;dbl&gt;</th><th scope=col>&lt;labelled&gt;</th><th scope=col>&lt;labelled&gt;</th><th scope=col>&lt;labelled&gt;</th><th scope=col>&lt;labelled&gt;</th><th scope=col>&lt;labelled&gt;</th><th scope=col>&lt;labelled&gt;</th><th scope=col>&lt;labelled&gt;</th><th scope=col>&lt;labelled&gt;</th><th scope=col>&lt;labelled&gt;</th><th scope=col>⋯</th><th scope=col>&lt;labelled&gt;</th><th scope=col>&lt;labelled&gt;</th><th scope=col>&lt;labelled&gt;</th><th scope=col>&lt;labelled&gt;</th><th scope=col>&lt;labelled&gt;</th><th scope=col>&lt;labelled&gt;</th><th scope=col>&lt;labelled&gt;</th><th scope=col>&lt;labelled&gt;</th><th scope=col>&lt;labelled&gt;</th><th scope=col>&lt;labelled&gt;</th></tr>\n",
       "</thead>\n",
       "<tbody>\n",
       "\t<tr><th scope=row>4</th><td>3</td><td>sc</td><td>1661</td><td>3261</td><td>1683</td><td>1.912</td><td>0.638</td><td>1936</td><td>722</td><td>2.287</td><td>⋯</td><td>0.608</td><td>4046</td><td>1947</td><td>2.021</td><td>0.745</td><td>10097</td><td>3292</td><td>2.579</td><td>0.659</td><td>2863</td></tr>\n",
       "</tbody>\n",
       "</table>\n"
      ],
      "text/latex": [
       "A data.frame: 1 × 327\n",
       "\\begin{tabular}{r|lllllllllllllllllllllllllllllllllllllllllllllllllllllllllllllllllllllllllllllllllllllllllllllllllllllllllllllllllllllllllllllllllllllllllllllllllllllllllllllllllllllllllllllllllllllllllllllllllllllllllllllllllllllllllllllllllllllllllllllllllllllllllllllllllllllllllllllllllllllllllllllllllllllllllllllllllllllllllllllllllllllll}\n",
       "  & RID & VISCODE & ST101SV & ST102CV & ST102SA & ST102TA & ST102TS & ST103CV & ST103SA & ST103TA & ST103TS & ST104CV & ST104SA & ST104TA & ST104TS & ST105CV & ST105SA & ST105TA & ST105TS & ST106CV & ST106SA & ST106TA & ST106TS & ST107CV & ST107SA & ST107TA & ST107TS & ST108CV & ST108SA & ST108TA & ST108TS & ST109CV & ST109SA & ST109TA & ST109TS & ST10CV & ST110CV & ST110SA & ST110TA & ST110TS & ST111CV & ST111SA & ST111TA & ST111TS & ST112SV & ST113CV & ST113SA & ST113TA & ST113TS & ST114CV & ST114SA & ST114TA & ST114TS & ST115CV & ST115SA & ST115TA & ST115TS & ST116CV & ST116SA & ST116TA & ST116TS & ST117CV & ST117SA & ST117TA & ST117TS & ST118CV & ST118SA & ST118TA & ST118TS & ST119CV & ST119SA & ST119TA & ST119TS & ST11SV & ST120SV & ST121CV & ST121SA & ST121TA & ST121TS & ST123CV & ST123SA & ST123TA & ST123TS & ST124SV & ST127SV & ST128SV & ST129CV & ST129SA & ST129TA & ST129TS & ST12SV & ST130CV & ST130SA & ST130TA & ST130TS & ST13CV & ST13SA & ST13TA & ST13TS & ST14CV & ST14SA & ST14TA & ST14TS & ST15CV & ST15SA & ST15TA & ST15TS & ST16SV & ST17SV & ST18SV & ST19SV & ST1SV & ST20SV & ST21SV & ST23CV & ST23SA & ST23TA & ST23TS & ST24CV & ST24SA & ST24TA & ST24TS & ST25CV & ST25SA & ST25TA & ST25TS & ST26CV & ST26SA & ST26TA & ST26TS & ST27SA & ST29SV & ST2SV & ST30SV & ST31CV & ST31SA & ST31TA & ST31TS & ST32CV & ST32SA & ST32TA & ST32TS & ST34CV & ST34SA & ST34TA & ST34TS & ST35CV & ST35SA & ST35TA & ST35TS & ST36CV & ST36SA & ST36TA & ST36TS & ST37SV & ST38CV & ST38SA & ST38TA & ST38TS & ST39CV & ST39SA & ST39TA & ST39TS & ST3SV & ST40CV & ST40SA & ST40TA & ST40TS & ST42SV & ST43CV & ST43SA & ST43TA & ST43TS & ST44CV & ST44SA & ST44TA & ST44TS & ST45CV & ST45SA & ST45TA & ST45TS & ST46CV & ST46SA & ST46TA & ST46TS & ST47CV & ST47SA & ST47TA & ST47TS & ST48CV & ST48SA & ST48TA & ST48TS & ST49CV & ST49SA & ST49TA & ST49TS & ST4SV & ST50CV & ST50SA & ST50TA & ST50TS & ST51CV & ST51SA & ST51TA & ST51TS & ST52CV & ST52SA & ST52TA & ST52TS & ST53SV & ST54CV & ST54SA & ST54TA & ST54TS & ST55CV & ST55SA & ST55TA & ST55TS & ST56CV & ST56SA & ST56TA & ST56TS & ST57CV & ST57SA & ST57TA & ST57TS & ST58CV & ST58SA & ST58TA & ST58TS & ST59CV & ST59SA & ST59TA & ST59TS & ST5SV & ST60CV & ST60SA & ST60TA & ST60TS & ST61SV & ST62CV & ST62SA & ST62TA & ST62TS & ST64CV & ST64SA & ST64TA & ST64TS & ST65SV & ST68SV & ST69SV & ST6SV & ST70SV & ST71SV & ST72CV & ST72SA & ST72TA & ST72TS & ST73CV & ST73SA & ST73TA & ST73TS & ST74CV & ST74SA & ST74TA & ST74TS & ST75SV & ST76SV & ST77SV & ST78SV & ST79SV & ST7SV & ST80SV & ST82CV & ST82SA & ST82TA & ST82TS & ST83CV & ST83SA & ST83TA & ST83TS & ST84CV & ST84SA & ST84TA & ST84TS & ST85CV & ST85SA & ST85TA & ST85TS & ST86SA & ST88SV & ST89SV & ST90CV & ST90SA & ST90TA & ST90TS & ST91CV & ST91SA & ST91TA & ST91TS & ST93CV & ST93SA & ST93TA & ST93TS & ST94CV & ST94SA & ST94TA & ST94TS & ST95CV & ST95SA & ST95TA & ST95TS & ST96SV & ST97CV & ST97SA & ST97TA & ST97TS & ST98CV & ST98SA & ST98TA & ST98TS & ST99CV & ST99SA & ST99TA & ST99TS & ST9SV\\\\\n",
       "  & <dbl> & <labelled> & <labelled> & <labelled> & <labelled> & <labelled> & <labelled> & <labelled> & <labelled> & <labelled> & <labelled> & <labelled> & <labelled> & <labelled> & <labelled> & <labelled> & <labelled> & <labelled> & <labelled> & <labelled> & <labelled> & <labelled> & <labelled> & <labelled> & <labelled> & <labelled> & <labelled> & <labelled> & <labelled> & <labelled> & <labelled> & <labelled> & <labelled> & <labelled> & <labelled> & <labelled> & <labelled> & <labelled> & <labelled> & <labelled> & <labelled> & <labelled> & <labelled> & <labelled> & <labelled> & <labelled> & <labelled> & <labelled> & <labelled> & <labelled> & <labelled> & <labelled> & <labelled> & <labelled> & <labelled> & <labelled> & <labelled> & <labelled> & <labelled> & <labelled> & <labelled> & <labelled> & <labelled> & <labelled> & <labelled> & <labelled> & <labelled> & <labelled> & <labelled> & <labelled> & <labelled> & <labelled> & <labelled> & <labelled> & <labelled> & <labelled> & <labelled> & <labelled> & <labelled> & <labelled> & <labelled> & <labelled> & <labelled> & <labelled> & <labelled> & <labelled> & <labelled> & <labelled> & <labelled> & <labelled> & <labelled> & <labelled> & <labelled> & <labelled> & <labelled> & <labelled> & <labelled> & <labelled> & <labelled> & <labelled> & <labelled> & <labelled> & <labelled> & <labelled> & <labelled> & <labelled> & <labelled> & <labelled> & <labelled> & <labelled> & <labelled> & <labelled> & <labelled> & <labelled> & <labelled> & <labelled> & <labelled> & <labelled> & <labelled> & <labelled> & <labelled> & <labelled> & <labelled> & <labelled> & <labelled> & <labelled> & <labelled> & <labelled> & <labelled> & <labelled> & <labelled> & <labelled> & <labelled> & <labelled> & <labelled> & <labelled> & <labelled> & <labelled> & <labelled> & <labelled> & <labelled> & <labelled> & <labelled> & <labelled> & <labelled> & <labelled> & <labelled> & <labelled> & <labelled> & <labelled> & <labelled> & <labelled> & <labelled> & <labelled> & <labelled> & <labelled> & <labelled> & <labelled> & <labelled> & <labelled> & <labelled> & <labelled> & <labelled> & <labelled> & <labelled> & <labelled> & <labelled> & <labelled> & <labelled> & <labelled> & <labelled> & <labelled> & <labelled> & <labelled> & <labelled> & <labelled> & <labelled> & <labelled> & <labelled> & <labelled> & <labelled> & <labelled> & <labelled> & <labelled> & <labelled> & <labelled> & <labelled> & <labelled> & <labelled> & <labelled> & <labelled> & <labelled> & <labelled> & <labelled> & <labelled> & <labelled> & <labelled> & <labelled> & <labelled> & <labelled> & <labelled> & <labelled> & <labelled> & <labelled> & <labelled> & <labelled> & <labelled> & <labelled> & <labelled> & <labelled> & <labelled> & <labelled> & <labelled> & <labelled> & <labelled> & <labelled> & <labelled> & <labelled> & <labelled> & <labelled> & <labelled> & <labelled> & <labelled> & <labelled> & <labelled> & <labelled> & <labelled> & <labelled> & <labelled> & <labelled> & <labelled> & <labelled> & <labelled> & <labelled> & <labelled> & <labelled> & <labelled> & <labelled> & <labelled> & <labelled> & <labelled> & <labelled> & <labelled> & <labelled> & <labelled> & <labelled> & <labelled> & <labelled> & <labelled> & <labelled> & <labelled> & <labelled> & <labelled> & <labelled> & <labelled> & <labelled> & <labelled> & <labelled> & <labelled> & <labelled> & <labelled> & <labelled> & <labelled> & <labelled> & <labelled> & <labelled> & <labelled> & <labelled> & <labelled> & <labelled> & <labelled> & <labelled> & <labelled> & <labelled> & <labelled> & <labelled> & <labelled> & <labelled> & <labelled> & <labelled> & <labelled> & <labelled> & <labelled> & <labelled> & <labelled> & <labelled> & <labelled> & <labelled> & <labelled> & <labelled> & <labelled> & <labelled> & <labelled> & <labelled> & <labelled> & <labelled> & <labelled> & <labelled> & <labelled> & <labelled> & <labelled> & <labelled> & <labelled> & <labelled> & <labelled> & <labelled> & <labelled> & <labelled> & <labelled> & <labelled> & <labelled> & <labelled> & <labelled> & <labelled> & <labelled> & <labelled> & <labelled> & <labelled> & <labelled> & <labelled> & <labelled> & <labelled> & <labelled> & <labelled> & <labelled> & <labelled> & <labelled>\\\\\n",
       "\\hline\n",
       "\t4 & 3 & sc & 1661 & 3261 & 1683 & 1.912 & 0.638 & 1936 & 722 & 2.287 & 0.827 & 3278 & 1333 & 2.306 & 0.685 & 2040 & 724 & 2.397 & 0.719 & 4299 & 1668 & 2.313 & 0.599 & 1786 & 1508 & 1.203 & 0.416 & 6376 & 3748 & 1.556 & 0.691 & 4034 & 1560 & 2.323 & 0.812 & 1920691 & 10903 & 5220 & 1.999 & 0.684 & 8478 & 3901 & 2.095 & 0.562 & 5184 & 1398 & 487 & 2.673 & 0.567 & 13257 & 6102 & 2.01 & 0.614 & 19585 & 7412 & 2.42 & 0.722 & 10429 & 4935 & 1.891 & 0.618 & 10063 & 3763 & 2.32 & 0.811 & 9310 & 3797 & 2.278 & 0.71 & 1327 & 368 & 2.701 & 0.645 & 330 & 6557 & 957 & 357 & 2.327 & 0.57 & 6304 & 7047 & 0.834 & 1.148 & 3778 & 3044 & 49468 & 5734 & 2355 & 2.451 & 0.923 & 997 & 5803 & 2270 & 2.547 & 0.845 & 1998 & 904 & 2.283 & 0.514 & 1172 & 514 & 2.306 & 0.818 & 4024 & 1564 & 2.442 & 0.65 & 4796 & 31691 & 36341 & 164479 & 23759 & 308084 & 3569 & 2690 & 1610 & 1.584 & 0.406 & 1267 & 603 & 1.692 & 1.025 & 545 & 157 & 2.526 & 0.657 & 7995 & 3219 & 2.196 & 0.766 & 93989.1 & 2868 & 831 & 6148 & 8550 & 3783 & 2.072 & 0.599 & 9615 & 3480 & 2.487 & 0.655 & 1736 & 818 & 2.053 & 0.694 & 11869 & 5587 & 1.916 & 0.663 & 6507 & 2811 & 2.24 & 0.685 & 43506 & 5991 & 3358 & 1.614 & 0.609 & 4194 & 2071 & 2.087 & 0.615 & 391 & 7947 & 2780 & 2.514 & 0.655 & 1445 & 3705 & 1707 & 2.1 & 0.644 & 1972 & 740 & 2.169 & 0.779 & 3737 & 1531 & 2.237 & 0.639 & 2436 & 679 & 2.699 & 0.743 & 3464 & 1428 & 2.195 & 0.586 & 1708 & 1459 & 1.251 & 0.453 & 8012 & 4045 & 1.757 & 0.746 & 367 & 2822 & 1103 & 2.377 & 0.613 & 10711 & 4798 & 2.097 & 0.795 & 8014 & 3887 & 1.969 & 0.572 & 4718 & 1894 & 738 & 2.479 & 0.626 & 14580 & 6770 & 1.996 & 0.629 & 20304 & 7650 & 2.447 & 0.661 & 11381 & 5133 & 2.035 & 0.621 & 10784 & 4051 & 2.348 & 0.783 & 9978 & 3902 & 2.326 & 0.603 & 329 & 2101 & 436 & 3.379 & 0.806 & 6737 & 925 & 473 & 1.791 & 0.462 & 5894 & 6817 & 0.801 & 1.106 & 3991 & 321 & 421 & 757 & 541 & 902 & 2829 & 1173 & 2.366 & 0.537 & 2328 & 936 & 2.307 & 0.785 & 4694 & 1991 & 2.172 & 0.619 & 4542 & 32583 & 35813 & 182013 & 321681 & 1891 & 3748 & 3703 & 1750 & 1.85 & 0.645 & 1084 & 417 & 2.284 & 0.993 & 860 & 280 & 2.523 & 0.468 & 8243 & 3178 & 2.307 & 0.706 & 95652.8 & 2328 & 5528 & 11836 & 4939 & 2.185 & 0.657 & 8550 & 3002 & 2.454 & 0.794 & 2362 & 982 & 2.155 & 0.877 & 13566 & 6239 & 1.967 & 0.63 & 5892 & 2515 & 2.254 & 0.732 & 28288 & 7079 & 3589 & 1.762 & 0.608 & 4046 & 1947 & 2.021 & 0.745 & 10097 & 3292 & 2.579 & 0.659 & 2863\\\\\n",
       "\\end{tabular}\n"
      ],
      "text/markdown": [
       "\n",
       "A data.frame: 1 × 327\n",
       "\n",
       "| <!--/--> | RID &lt;dbl&gt; | VISCODE &lt;labelled&gt; | ST101SV &lt;labelled&gt; | ST102CV &lt;labelled&gt; | ST102SA &lt;labelled&gt; | ST102TA &lt;labelled&gt; | ST102TS &lt;labelled&gt; | ST103CV &lt;labelled&gt; | ST103SA &lt;labelled&gt; | ST103TA &lt;labelled&gt; | ⋯ ⋯ | ST97TS &lt;labelled&gt; | ST98CV &lt;labelled&gt; | ST98SA &lt;labelled&gt; | ST98TA &lt;labelled&gt; | ST98TS &lt;labelled&gt; | ST99CV &lt;labelled&gt; | ST99SA &lt;labelled&gt; | ST99TA &lt;labelled&gt; | ST99TS &lt;labelled&gt; | ST9SV &lt;labelled&gt; |\n",
       "|---|---|---|---|---|---|---|---|---|---|---|---|---|---|---|---|---|---|---|---|---|---|\n",
       "| 4 | 3 | sc | 1661 | 3261 | 1683 | 1.912 | 0.638 | 1936 | 722 | 2.287 | ⋯ | 0.608 | 4046 | 1947 | 2.021 | 0.745 | 10097 | 3292 | 2.579 | 0.659 | 2863 |\n",
       "\n"
      ],
      "text/plain": [
       "  RID VISCODE ST101SV ST102CV ST102SA ST102TA ST102TS ST103CV ST103SA ST103TA ⋯\n",
       "4 3   sc      1661    3261    1683    1.912   0.638   1936    722     2.287   ⋯\n",
       "  ST97TS ST98CV ST98SA ST98TA ST98TS ST99CV ST99SA ST99TA ST99TS ST9SV\n",
       "4 0.608  4046   1947   2.021  0.745  10097  3292   2.579  0.659  2863 "
      ]
     },
     "metadata": {},
     "output_type": "display_data"
    }
   ],
   "source": [
    "freesurfer44_mod[1,]"
   ]
  },
  {
   "cell_type": "markdown",
   "metadata": {},
   "source": [
    "Change the data type of column between 3 and 327"
   ]
  },
  {
   "cell_type": "code",
   "execution_count": 12,
   "metadata": {},
   "outputs": [],
   "source": [
    "for(col in 3:327){\n",
    "    freesurfer44_mod[,col] <- as.numeric(freesurfer44_mod[,col])\n",
    "}"
   ]
  },
  {
   "cell_type": "code",
   "execution_count": 13,
   "metadata": {},
   "outputs": [
    {
     "data": {
      "text/html": [
       "<table>\n",
       "<caption>A data.frame: 1 × 327</caption>\n",
       "<thead>\n",
       "\t<tr><th></th><th scope=col>RID</th><th scope=col>VISCODE</th><th scope=col>ST101SV</th><th scope=col>ST102CV</th><th scope=col>ST102SA</th><th scope=col>ST102TA</th><th scope=col>ST102TS</th><th scope=col>ST103CV</th><th scope=col>ST103SA</th><th scope=col>ST103TA</th><th scope=col>⋯</th><th scope=col>ST97TS</th><th scope=col>ST98CV</th><th scope=col>ST98SA</th><th scope=col>ST98TA</th><th scope=col>ST98TS</th><th scope=col>ST99CV</th><th scope=col>ST99SA</th><th scope=col>ST99TA</th><th scope=col>ST99TS</th><th scope=col>ST9SV</th></tr>\n",
       "\t<tr><th></th><th scope=col>&lt;dbl&gt;</th><th scope=col>&lt;labelled&gt;</th><th scope=col>&lt;dbl&gt;</th><th scope=col>&lt;dbl&gt;</th><th scope=col>&lt;dbl&gt;</th><th scope=col>&lt;dbl&gt;</th><th scope=col>&lt;dbl&gt;</th><th scope=col>&lt;dbl&gt;</th><th scope=col>&lt;dbl&gt;</th><th scope=col>&lt;dbl&gt;</th><th scope=col>⋯</th><th scope=col>&lt;dbl&gt;</th><th scope=col>&lt;dbl&gt;</th><th scope=col>&lt;dbl&gt;</th><th scope=col>&lt;dbl&gt;</th><th scope=col>&lt;dbl&gt;</th><th scope=col>&lt;dbl&gt;</th><th scope=col>&lt;dbl&gt;</th><th scope=col>&lt;dbl&gt;</th><th scope=col>&lt;dbl&gt;</th><th scope=col>&lt;dbl&gt;</th></tr>\n",
       "</thead>\n",
       "<tbody>\n",
       "\t<tr><th scope=row>4</th><td>3</td><td>sc</td><td>1661</td><td>3261</td><td>1683</td><td>1.912</td><td>0.638</td><td>1936</td><td>722</td><td>2.287</td><td>⋯</td><td>0.608</td><td>4046</td><td>1947</td><td>2.021</td><td>0.745</td><td>10097</td><td>3292</td><td>2.579</td><td>0.659</td><td>2863</td></tr>\n",
       "</tbody>\n",
       "</table>\n"
      ],
      "text/latex": [
       "A data.frame: 1 × 327\n",
       "\\begin{tabular}{r|lllllllllllllllllllllllllllllllllllllllllllllllllllllllllllllllllllllllllllllllllllllllllllllllllllllllllllllllllllllllllllllllllllllllllllllllllllllllllllllllllllllllllllllllllllllllllllllllllllllllllllllllllllllllllllllllllllllllllllllllllllllllllllllllllllllllllllllllllllllllllllllllllllllllllllllllllllllllllllllllllllllll}\n",
       "  & RID & VISCODE & ST101SV & ST102CV & ST102SA & ST102TA & ST102TS & ST103CV & ST103SA & ST103TA & ST103TS & ST104CV & ST104SA & ST104TA & ST104TS & ST105CV & ST105SA & ST105TA & ST105TS & ST106CV & ST106SA & ST106TA & ST106TS & ST107CV & ST107SA & ST107TA & ST107TS & ST108CV & ST108SA & ST108TA & ST108TS & ST109CV & ST109SA & ST109TA & ST109TS & ST10CV & ST110CV & ST110SA & ST110TA & ST110TS & ST111CV & ST111SA & ST111TA & ST111TS & ST112SV & ST113CV & ST113SA & ST113TA & ST113TS & ST114CV & ST114SA & ST114TA & ST114TS & ST115CV & ST115SA & ST115TA & ST115TS & ST116CV & ST116SA & ST116TA & ST116TS & ST117CV & ST117SA & ST117TA & ST117TS & ST118CV & ST118SA & ST118TA & ST118TS & ST119CV & ST119SA & ST119TA & ST119TS & ST11SV & ST120SV & ST121CV & ST121SA & ST121TA & ST121TS & ST123CV & ST123SA & ST123TA & ST123TS & ST124SV & ST127SV & ST128SV & ST129CV & ST129SA & ST129TA & ST129TS & ST12SV & ST130CV & ST130SA & ST130TA & ST130TS & ST13CV & ST13SA & ST13TA & ST13TS & ST14CV & ST14SA & ST14TA & ST14TS & ST15CV & ST15SA & ST15TA & ST15TS & ST16SV & ST17SV & ST18SV & ST19SV & ST1SV & ST20SV & ST21SV & ST23CV & ST23SA & ST23TA & ST23TS & ST24CV & ST24SA & ST24TA & ST24TS & ST25CV & ST25SA & ST25TA & ST25TS & ST26CV & ST26SA & ST26TA & ST26TS & ST27SA & ST29SV & ST2SV & ST30SV & ST31CV & ST31SA & ST31TA & ST31TS & ST32CV & ST32SA & ST32TA & ST32TS & ST34CV & ST34SA & ST34TA & ST34TS & ST35CV & ST35SA & ST35TA & ST35TS & ST36CV & ST36SA & ST36TA & ST36TS & ST37SV & ST38CV & ST38SA & ST38TA & ST38TS & ST39CV & ST39SA & ST39TA & ST39TS & ST3SV & ST40CV & ST40SA & ST40TA & ST40TS & ST42SV & ST43CV & ST43SA & ST43TA & ST43TS & ST44CV & ST44SA & ST44TA & ST44TS & ST45CV & ST45SA & ST45TA & ST45TS & ST46CV & ST46SA & ST46TA & ST46TS & ST47CV & ST47SA & ST47TA & ST47TS & ST48CV & ST48SA & ST48TA & ST48TS & ST49CV & ST49SA & ST49TA & ST49TS & ST4SV & ST50CV & ST50SA & ST50TA & ST50TS & ST51CV & ST51SA & ST51TA & ST51TS & ST52CV & ST52SA & ST52TA & ST52TS & ST53SV & ST54CV & ST54SA & ST54TA & ST54TS & ST55CV & ST55SA & ST55TA & ST55TS & ST56CV & ST56SA & ST56TA & ST56TS & ST57CV & ST57SA & ST57TA & ST57TS & ST58CV & ST58SA & ST58TA & ST58TS & ST59CV & ST59SA & ST59TA & ST59TS & ST5SV & ST60CV & ST60SA & ST60TA & ST60TS & ST61SV & ST62CV & ST62SA & ST62TA & ST62TS & ST64CV & ST64SA & ST64TA & ST64TS & ST65SV & ST68SV & ST69SV & ST6SV & ST70SV & ST71SV & ST72CV & ST72SA & ST72TA & ST72TS & ST73CV & ST73SA & ST73TA & ST73TS & ST74CV & ST74SA & ST74TA & ST74TS & ST75SV & ST76SV & ST77SV & ST78SV & ST79SV & ST7SV & ST80SV & ST82CV & ST82SA & ST82TA & ST82TS & ST83CV & ST83SA & ST83TA & ST83TS & ST84CV & ST84SA & ST84TA & ST84TS & ST85CV & ST85SA & ST85TA & ST85TS & ST86SA & ST88SV & ST89SV & ST90CV & ST90SA & ST90TA & ST90TS & ST91CV & ST91SA & ST91TA & ST91TS & ST93CV & ST93SA & ST93TA & ST93TS & ST94CV & ST94SA & ST94TA & ST94TS & ST95CV & ST95SA & ST95TA & ST95TS & ST96SV & ST97CV & ST97SA & ST97TA & ST97TS & ST98CV & ST98SA & ST98TA & ST98TS & ST99CV & ST99SA & ST99TA & ST99TS & ST9SV\\\\\n",
       "  & <dbl> & <labelled> & <dbl> & <dbl> & <dbl> & <dbl> & <dbl> & <dbl> & <dbl> & <dbl> & <dbl> & <dbl> & <dbl> & <dbl> & <dbl> & <dbl> & <dbl> & <dbl> & <dbl> & <dbl> & <dbl> & <dbl> & <dbl> & <dbl> & <dbl> & <dbl> & <dbl> & <dbl> & <dbl> & <dbl> & <dbl> & <dbl> & <dbl> & <dbl> & <dbl> & <dbl> & <dbl> & <dbl> & <dbl> & <dbl> & <dbl> & <dbl> & <dbl> & <dbl> & <dbl> & <dbl> & <dbl> & <dbl> & <dbl> & <dbl> & <dbl> & <dbl> & <dbl> & <dbl> & <dbl> & <dbl> & <dbl> & <dbl> & <dbl> & <dbl> & <dbl> & <dbl> & <dbl> & <dbl> & <dbl> & <dbl> & <dbl> & <dbl> & <dbl> & <dbl> & <dbl> & <dbl> & <dbl> & <dbl> & <dbl> & <dbl> & <dbl> & <dbl> & <dbl> & <dbl> & <dbl> & <dbl> & <dbl> & <dbl> & <dbl> & <dbl> & <dbl> & <dbl> & <dbl> & <dbl> & <dbl> & <dbl> & <dbl> & <dbl> & <dbl> & <dbl> & <dbl> & <dbl> & <dbl> & <dbl> & <dbl> & <dbl> & <dbl> & <dbl> & <dbl> & <dbl> & <dbl> & <dbl> & <dbl> & <dbl> & <dbl> & <dbl> & <dbl> & <dbl> & <dbl> & <dbl> & <dbl> & <dbl> & <dbl> & <dbl> & <dbl> & <dbl> & <dbl> & <dbl> & <dbl> & <dbl> & <dbl> & <dbl> & <dbl> & <dbl> & <dbl> & <dbl> & <dbl> & <dbl> & <dbl> & <dbl> & <dbl> & <dbl> & <dbl> & <dbl> & <dbl> & <dbl> & <dbl> & <dbl> & <dbl> & <dbl> & <dbl> & <dbl> & <dbl> & <dbl> & <dbl> & <dbl> & <dbl> & <dbl> & <dbl> & <dbl> & <dbl> & <dbl> & <dbl> & <dbl> & <dbl> & <dbl> & <dbl> & <dbl> & <dbl> & <dbl> & <dbl> & <dbl> & <dbl> & <dbl> & <dbl> & <dbl> & <dbl> & <dbl> & <dbl> & <dbl> & <dbl> & <dbl> & <dbl> & <dbl> & <dbl> & <dbl> & <dbl> & <dbl> & <dbl> & <dbl> & <dbl> & <dbl> & <dbl> & <dbl> & <dbl> & <dbl> & <dbl> & <dbl> & <dbl> & <dbl> & <dbl> & <dbl> & <dbl> & <dbl> & <dbl> & <dbl> & <dbl> & <dbl> & <dbl> & <dbl> & <dbl> & <dbl> & <dbl> & <dbl> & <dbl> & <dbl> & <dbl> & <dbl> & <dbl> & <dbl> & <dbl> & <dbl> & <dbl> & <dbl> & <dbl> & <dbl> & <dbl> & <dbl> & <dbl> & <dbl> & <dbl> & <dbl> & <dbl> & <dbl> & <dbl> & <dbl> & <dbl> & <dbl> & <dbl> & <dbl> & <dbl> & <dbl> & <dbl> & <dbl> & <dbl> & <dbl> & <dbl> & <dbl> & <dbl> & <dbl> & <dbl> & <dbl> & <dbl> & <dbl> & <dbl> & <dbl> & <dbl> & <dbl> & <dbl> & <dbl> & <dbl> & <dbl> & <dbl> & <dbl> & <dbl> & <dbl> & <dbl> & <dbl> & <dbl> & <dbl> & <dbl> & <dbl> & <dbl> & <dbl> & <dbl> & <dbl> & <dbl> & <dbl> & <dbl> & <dbl> & <dbl> & <dbl> & <dbl> & <dbl> & <dbl> & <dbl> & <dbl> & <dbl> & <dbl> & <dbl> & <dbl> & <dbl> & <dbl> & <dbl> & <dbl> & <dbl> & <dbl> & <dbl> & <dbl> & <dbl> & <dbl> & <dbl> & <dbl> & <dbl> & <dbl> & <dbl> & <dbl> & <dbl> & <dbl> & <dbl> & <dbl> & <dbl> & <dbl> & <dbl> & <dbl> & <dbl> & <dbl> & <dbl> & <dbl> & <dbl> & <dbl> & <dbl> & <dbl> & <dbl> & <dbl> & <dbl> & <dbl> & <dbl> & <dbl> & <dbl> & <dbl>\\\\\n",
       "\\hline\n",
       "\t4 & 3 & sc & 1661 & 3261 & 1683 & 1.912 & 0.638 & 1936 & 722 & 2.287 & 0.827 & 3278 & 1333 & 2.306 & 0.685 & 2040 & 724 & 2.397 & 0.719 & 4299 & 1668 & 2.313 & 0.599 & 1786 & 1508 & 1.203 & 0.416 & 6376 & 3748 & 1.556 & 0.691 & 4034 & 1560 & 2.323 & 0.812 & 1920691 & 10903 & 5220 & 1.999 & 0.684 & 8478 & 3901 & 2.095 & 0.562 & 5184 & 1398 & 487 & 2.673 & 0.567 & 13257 & 6102 & 2.01 & 0.614 & 19585 & 7412 & 2.42 & 0.722 & 10429 & 4935 & 1.891 & 0.618 & 10063 & 3763 & 2.32 & 0.811 & 9310 & 3797 & 2.278 & 0.71 & 1327 & 368 & 2.701 & 0.645 & 330 & 6557 & 957 & 357 & 2.327 & 0.57 & 6304 & 7047 & 0.834 & 1.148 & 3778 & 3044 & 49468 & 5734 & 2355 & 2.451 & 0.923 & 997 & 5803 & 2270 & 2.547 & 0.845 & 1998 & 904 & 2.283 & 0.514 & 1172 & 514 & 2.306 & 0.818 & 4024 & 1564 & 2.442 & 0.65 & 4796 & 31691 & 36341 & 164479 & 23759 & 308084 & 3569 & 2690 & 1610 & 1.584 & 0.406 & 1267 & 603 & 1.692 & 1.025 & 545 & 157 & 2.526 & 0.657 & 7995 & 3219 & 2.196 & 0.766 & 93989.1 & 2868 & 831 & 6148 & 8550 & 3783 & 2.072 & 0.599 & 9615 & 3480 & 2.487 & 0.655 & 1736 & 818 & 2.053 & 0.694 & 11869 & 5587 & 1.916 & 0.663 & 6507 & 2811 & 2.24 & 0.685 & 43506 & 5991 & 3358 & 1.614 & 0.609 & 4194 & 2071 & 2.087 & 0.615 & 391 & 7947 & 2780 & 2.514 & 0.655 & 1445 & 3705 & 1707 & 2.1 & 0.644 & 1972 & 740 & 2.169 & 0.779 & 3737 & 1531 & 2.237 & 0.639 & 2436 & 679 & 2.699 & 0.743 & 3464 & 1428 & 2.195 & 0.586 & 1708 & 1459 & 1.251 & 0.453 & 8012 & 4045 & 1.757 & 0.746 & 367 & 2822 & 1103 & 2.377 & 0.613 & 10711 & 4798 & 2.097 & 0.795 & 8014 & 3887 & 1.969 & 0.572 & 4718 & 1894 & 738 & 2.479 & 0.626 & 14580 & 6770 & 1.996 & 0.629 & 20304 & 7650 & 2.447 & 0.661 & 11381 & 5133 & 2.035 & 0.621 & 10784 & 4051 & 2.348 & 0.783 & 9978 & 3902 & 2.326 & 0.603 & 329 & 2101 & 436 & 3.379 & 0.806 & 6737 & 925 & 473 & 1.791 & 0.462 & 5894 & 6817 & 0.801 & 1.106 & 3991 & 321 & 421 & 757 & 541 & 902 & 2829 & 1173 & 2.366 & 0.537 & 2328 & 936 & 2.307 & 0.785 & 4694 & 1991 & 2.172 & 0.619 & 4542 & 32583 & 35813 & 182013 & 321681 & 1891 & 3748 & 3703 & 1750 & 1.85 & 0.645 & 1084 & 417 & 2.284 & 0.993 & 860 & 280 & 2.523 & 0.468 & 8243 & 3178 & 2.307 & 0.706 & 95652.8 & 2328 & 5528 & 11836 & 4939 & 2.185 & 0.657 & 8550 & 3002 & 2.454 & 0.794 & 2362 & 982 & 2.155 & 0.877 & 13566 & 6239 & 1.967 & 0.63 & 5892 & 2515 & 2.254 & 0.732 & 28288 & 7079 & 3589 & 1.762 & 0.608 & 4046 & 1947 & 2.021 & 0.745 & 10097 & 3292 & 2.579 & 0.659 & 2863\\\\\n",
       "\\end{tabular}\n"
      ],
      "text/markdown": [
       "\n",
       "A data.frame: 1 × 327\n",
       "\n",
       "| <!--/--> | RID &lt;dbl&gt; | VISCODE &lt;labelled&gt; | ST101SV &lt;dbl&gt; | ST102CV &lt;dbl&gt; | ST102SA &lt;dbl&gt; | ST102TA &lt;dbl&gt; | ST102TS &lt;dbl&gt; | ST103CV &lt;dbl&gt; | ST103SA &lt;dbl&gt; | ST103TA &lt;dbl&gt; | ⋯ ⋯ | ST97TS &lt;dbl&gt; | ST98CV &lt;dbl&gt; | ST98SA &lt;dbl&gt; | ST98TA &lt;dbl&gt; | ST98TS &lt;dbl&gt; | ST99CV &lt;dbl&gt; | ST99SA &lt;dbl&gt; | ST99TA &lt;dbl&gt; | ST99TS &lt;dbl&gt; | ST9SV &lt;dbl&gt; |\n",
       "|---|---|---|---|---|---|---|---|---|---|---|---|---|---|---|---|---|---|---|---|---|---|\n",
       "| 4 | 3 | sc | 1661 | 3261 | 1683 | 1.912 | 0.638 | 1936 | 722 | 2.287 | ⋯ | 0.608 | 4046 | 1947 | 2.021 | 0.745 | 10097 | 3292 | 2.579 | 0.659 | 2863 |\n",
       "\n"
      ],
      "text/plain": [
       "  RID VISCODE ST101SV ST102CV ST102SA ST102TA ST102TS ST103CV ST103SA ST103TA ⋯\n",
       "4 3   sc      1661    3261    1683    1.912   0.638   1936    722     2.287   ⋯\n",
       "  ST97TS ST98CV ST98SA ST98TA ST98TS ST99CV ST99SA ST99TA ST99TS ST9SV\n",
       "4 0.608  4046   1947   2.021  0.745  10097  3292   2.579  0.659  2863 "
      ]
     },
     "metadata": {},
     "output_type": "display_data"
    }
   ],
   "source": [
    "freesurfer44_mod[1,]"
   ]
  },
  {
   "cell_type": "code",
   "execution_count": 14,
   "metadata": {},
   "outputs": [],
   "source": [
    "freesurfer44_mod$VISCODE <- as.factor(gsub(\"sc\", \"bl\", freesurfer44_mod$VISCODE))"
   ]
  },
  {
   "cell_type": "code",
   "execution_count": 15,
   "metadata": {},
   "outputs": [
    {
     "data": {
      "text/html": [
       "<dl class=dl-horizontal>\n",
       "\t<dt>bl</dt>\n",
       "\t\t<dd>773</dd>\n",
       "\t<dt>f</dt>\n",
       "\t\t<dd>10</dd>\n",
       "\t<dt>m06</dt>\n",
       "\t\t<dd>728</dd>\n",
       "\t<dt>m12</dt>\n",
       "\t\t<dd>678</dd>\n",
       "\t<dt>m18</dt>\n",
       "\t\t<dd>303</dd>\n",
       "\t<dt>m24</dt>\n",
       "\t\t<dd>539</dd>\n",
       "\t<dt>m36</dt>\n",
       "\t\t<dd>341</dd>\n",
       "\t<dt>m48</dt>\n",
       "\t\t<dd>170</dd>\n",
       "\t<dt>m60</dt>\n",
       "\t\t<dd>29</dd>\n",
       "</dl>\n"
      ],
      "text/latex": [
       "\\begin{description*}\n",
       "\\item[bl] 773\n",
       "\\item[f] 10\n",
       "\\item[m06] 728\n",
       "\\item[m12] 678\n",
       "\\item[m18] 303\n",
       "\\item[m24] 539\n",
       "\\item[m36] 341\n",
       "\\item[m48] 170\n",
       "\\item[m60] 29\n",
       "\\end{description*}\n"
      ],
      "text/markdown": [
       "bl\n",
       ":   773f\n",
       ":   10m06\n",
       ":   728m12\n",
       ":   678m18\n",
       ":   303m24\n",
       ":   539m36\n",
       ":   341m48\n",
       ":   170m60\n",
       ":   29\n",
       "\n"
      ],
      "text/plain": [
       " bl   f m06 m12 m18 m24 m36 m48 m60 \n",
       "773  10 728 678 303 539 341 170  29 "
      ]
     },
     "metadata": {},
     "output_type": "display_data"
    }
   ],
   "source": [
    "summary(freesurfer44_mod$VISCODE)"
   ]
  },
  {
   "cell_type": "markdown",
   "metadata": {},
   "source": [
    "### processing adnimerge table"
   ]
  },
  {
   "cell_type": "markdown",
   "metadata": {},
   "source": [
    "The process is similar to the process of freesurfer table."
   ]
  },
  {
   "cell_type": "code",
   "execution_count": 16,
   "metadata": {},
   "outputs": [
    {
     "data": {
      "text/html": [
       "<dl class=dl-horizontal>\n",
       "\t<dt>bl</dt>\n",
       "\t\t<dd>2217</dd>\n",
       "\t<dt>m0</dt>\n",
       "\t\t<dd>1</dd>\n",
       "\t<dt>m03</dt>\n",
       "\t\t<dd>793</dd>\n",
       "\t<dt>m06</dt>\n",
       "\t\t<dd>1618</dd>\n",
       "\t<dt>m102</dt>\n",
       "\t\t<dd>7</dd>\n",
       "\t<dt>m108</dt>\n",
       "\t\t<dd>123</dd>\n",
       "\t<dt>m114</dt>\n",
       "\t\t<dd>2</dd>\n",
       "\t<dt>m12</dt>\n",
       "\t\t<dd>1735</dd>\n",
       "\t<dt>m120</dt>\n",
       "\t\t<dd>81</dd>\n",
       "\t<dt>m126</dt>\n",
       "\t\t<dd>5</dd>\n",
       "\t<dt>m132</dt>\n",
       "\t\t<dd>62</dd>\n",
       "\t<dt>m144</dt>\n",
       "\t\t<dd>69</dd>\n",
       "\t<dt>m156</dt>\n",
       "\t\t<dd>34</dd>\n",
       "\t<dt>m18</dt>\n",
       "\t\t<dd>1292</dd>\n",
       "\t<dt>m24</dt>\n",
       "\t\t<dd>1345</dd>\n",
       "\t<dt>m30</dt>\n",
       "\t\t<dd>750</dd>\n",
       "\t<dt>m36</dt>\n",
       "\t\t<dd>853</dd>\n",
       "\t<dt>m42</dt>\n",
       "\t\t<dd>308</dd>\n",
       "\t<dt>m48</dt>\n",
       "\t\t<dd>716</dd>\n",
       "\t<dt>m54</dt>\n",
       "\t\t<dd>201</dd>\n",
       "\t<dt>m60</dt>\n",
       "\t\t<dd>478</dd>\n",
       "\t<dt>m66</dt>\n",
       "\t\t<dd>217</dd>\n",
       "\t<dt>m72</dt>\n",
       "\t\t<dd>485</dd>\n",
       "\t<dt>m78</dt>\n",
       "\t\t<dd>213</dd>\n",
       "\t<dt>m84</dt>\n",
       "\t\t<dd>380</dd>\n",
       "\t<dt>m90</dt>\n",
       "\t\t<dd>129</dd>\n",
       "\t<dt>m96</dt>\n",
       "\t\t<dd>214</dd>\n",
       "\t<dt>y1</dt>\n",
       "\t\t<dd>1</dd>\n",
       "</dl>\n"
      ],
      "text/latex": [
       "\\begin{description*}\n",
       "\\item[bl] 2217\n",
       "\\item[m0] 1\n",
       "\\item[m03] 793\n",
       "\\item[m06] 1618\n",
       "\\item[m102] 7\n",
       "\\item[m108] 123\n",
       "\\item[m114] 2\n",
       "\\item[m12] 1735\n",
       "\\item[m120] 81\n",
       "\\item[m126] 5\n",
       "\\item[m132] 62\n",
       "\\item[m144] 69\n",
       "\\item[m156] 34\n",
       "\\item[m18] 1292\n",
       "\\item[m24] 1345\n",
       "\\item[m30] 750\n",
       "\\item[m36] 853\n",
       "\\item[m42] 308\n",
       "\\item[m48] 716\n",
       "\\item[m54] 201\n",
       "\\item[m60] 478\n",
       "\\item[m66] 217\n",
       "\\item[m72] 485\n",
       "\\item[m78] 213\n",
       "\\item[m84] 380\n",
       "\\item[m90] 129\n",
       "\\item[m96] 214\n",
       "\\item[y1] 1\n",
       "\\end{description*}\n"
      ],
      "text/markdown": [
       "bl\n",
       ":   2217m0\n",
       ":   1m03\n",
       ":   793m06\n",
       ":   1618m102\n",
       ":   7m108\n",
       ":   123m114\n",
       ":   2m12\n",
       ":   1735m120\n",
       ":   81m126\n",
       ":   5m132\n",
       ":   62m144\n",
       ":   69m156\n",
       ":   34m18\n",
       ":   1292m24\n",
       ":   1345m30\n",
       ":   750m36\n",
       ":   853m42\n",
       ":   308m48\n",
       ":   716m54\n",
       ":   201m60\n",
       ":   478m66\n",
       ":   217m72\n",
       ":   485m78\n",
       ":   213m84\n",
       ":   380m90\n",
       ":   129m96\n",
       ":   214y1\n",
       ":   1\n",
       "\n"
      ],
      "text/plain": [
       "  bl   m0  m03  m06 m102 m108 m114  m12 m120 m126 m132 m144 m156  m18  m24  m30 \n",
       "2217    1  793 1618    7  123    2 1735   81    5   62   69   34 1292 1345  750 \n",
       " m36  m42  m48  m54  m60  m66  m72  m78  m84  m90  m96   y1 \n",
       " 853  308  716  201  478  217  485  213  380  129  214    1 "
      ]
     },
     "metadata": {},
     "output_type": "display_data"
    }
   ],
   "source": [
    "summary(as.factor(adnimerge$VISCODE))"
   ]
  },
  {
   "cell_type": "markdown",
   "metadata": {},
   "source": [
    "select the diagnosis and AGE, GENDER, EDUCATION LEVEL and APOE4 and cognition scores.\n",
    "\n",
    "there are total 3558 entries.\n",
    "\n",
    "- AV45 has 3483 NAs. (only 75 entries)\n",
    "- FDG has 1869 NAs.\n",
    "- ABETA, TAU, PTAU has 2665 NAs. "
   ]
  },
  {
   "cell_type": "code",
   "execution_count": 17,
   "metadata": {},
   "outputs": [],
   "source": [
    "adnimerge_mod <- adnimerge %>%\n",
    "    select(c(RID, VISCODE, DX, AGE, PTGENDER, PTEDUCAT, APOE4, CDRSB, ADAS11, ADAS13, MMSE, RAVLT.immediate, M)) \n"
   ]
  },
  {
   "cell_type": "markdown",
   "metadata": {},
   "source": [
    "join the freesurfer table with the adnimerge according to the `RID` and `VISCODE` columns"
   ]
  },
  {
   "cell_type": "code",
   "execution_count": 18,
   "metadata": {},
   "outputs": [],
   "source": [
    "test_merge <- merge(adnimerge_mod, freesurfer44_mod, by = c(\"RID\",\"VISCODE\"))"
   ]
  },
  {
   "cell_type": "code",
   "execution_count": 19,
   "metadata": {},
   "outputs": [
    {
     "data": {
      "text/html": [
       "<ol class=list-inline>\n",
       "\t<li>3558</li>\n",
       "\t<li>338</li>\n",
       "</ol>\n"
      ],
      "text/latex": [
       "\\begin{enumerate*}\n",
       "\\item 3558\n",
       "\\item 338\n",
       "\\end{enumerate*}\n"
      ],
      "text/markdown": [
       "1. 3558\n",
       "2. 338\n",
       "\n",
       "\n"
      ],
      "text/plain": [
       "[1] 3558  338"
      ]
     },
     "metadata": {},
     "output_type": "display_data"
    }
   ],
   "source": [
    "dim(test_merge)"
   ]
  },
  {
   "cell_type": "code",
   "execution_count": 20,
   "metadata": {},
   "outputs": [
    {
     "data": {
      "text/html": [
       "33"
      ],
      "text/latex": [
       "33"
      ],
      "text/markdown": [
       "33"
      ],
      "text/plain": [
       "[1] 33"
      ]
     },
     "metadata": {},
     "output_type": "display_data"
    }
   ],
   "source": [
    "sum(is.na(test_merge$RAVLT.immediate))"
   ]
  },
  {
   "cell_type": "markdown",
   "metadata": {},
   "source": [
    "process the 6, 12, 18 month diagnosis outcome. "
   ]
  },
  {
   "cell_type": "code",
   "execution_count": 21,
   "metadata": {},
   "outputs": [],
   "source": [
    "\"\"\"\n",
    "*CHANGE: \n",
    "Here I get the later diagnosis of all entries and mutate the value to a new column. \n",
    "I'll change the structure here to only include baseline, m06, 012, 018 entries.\n",
    "\"\"\"\n",
    "\n",
    "test_merge.bl <- test_merge[test_merge$DX %in% c(\"CN\",\"Dementia\"), ] %>%\n",
    "    na.omit()\n",
    "\n",
    "test_merge.M06 <- test_merge[test_merge$DX %in% c(\"CN\",\"Dementia\"), ] %>%    \n",
    "    mutate( DX.6 = \n",
    "            apply( cbind(RID,M) ,1, function(x) getLaterDx(test_merge,x,6) ) \n",
    "          ) %>%\n",
    "    na.omit()\n",
    "test_merge.M06 <- test_merge.M06[!is.na(test_merge.M06$DX.6), ]\n",
    "\n",
    "test_merge.M12 <- test_merge[test_merge$DX %in% c(\"CN\",\"Dementia\"), ] %>%    \n",
    "    mutate( DX.12 = \n",
    "            apply( cbind(RID,M) ,1, function(x) getLaterDx(test_merge,x,12) ) \n",
    "          ) %>%\n",
    "    na.omit()\n",
    "test_merge.M12 <- test_merge.M12[!is.na(test_merge.M12$DX.12), ]\n",
    "           \n",
    "test_merge.M18 <- test_merge[test_merge$DX %in% c(\"CN\",\"Dementia\"), ]  \n",
    "test_merge.M18 <- mutate(test_merge.M18, DX.18 = \n",
    "            apply( cbind(RID,M) ,1, function(x) getLaterDx(test_merge.M18,x,18) ) \n",
    "          ) %>%\n",
    "    na.omit()\n",
    "test_merge.M18 <- test_merge.M18[!is.na(test_merge.M18$DX.18), ]"
   ]
  },
  {
   "cell_type": "code",
   "execution_count": 22,
   "metadata": {},
   "outputs": [
    {
     "data": {
      "text/html": [
       "<ol class=list-inline>\n",
       "\t<li>852</li>\n",
       "\t<li>339</li>\n",
       "</ol>\n"
      ],
      "text/latex": [
       "\\begin{enumerate*}\n",
       "\\item 852\n",
       "\\item 339\n",
       "\\end{enumerate*}\n"
      ],
      "text/markdown": [
       "1. 852\n",
       "2. 339\n",
       "\n",
       "\n"
      ],
      "text/plain": [
       "[1] 852 339"
      ]
     },
     "metadata": {},
     "output_type": "display_data"
    },
    {
     "data": {
      "text/html": [
       "<ol class=list-inline>\n",
       "\t<li>973</li>\n",
       "\t<li>339</li>\n",
       "</ol>\n"
      ],
      "text/latex": [
       "\\begin{enumerate*}\n",
       "\\item 973\n",
       "\\item 339\n",
       "\\end{enumerate*}\n"
      ],
      "text/markdown": [
       "1. 973\n",
       "2. 339\n",
       "\n",
       "\n"
      ],
      "text/plain": [
       "[1] 973 339"
      ]
     },
     "metadata": {},
     "output_type": "display_data"
    },
    {
     "data": {
      "text/html": [
       "<ol class=list-inline>\n",
       "\t<li>325</li>\n",
       "\t<li>339</li>\n",
       "</ol>\n"
      ],
      "text/latex": [
       "\\begin{enumerate*}\n",
       "\\item 325\n",
       "\\item 339\n",
       "\\end{enumerate*}\n"
      ],
      "text/markdown": [
       "1. 325\n",
       "2. 339\n",
       "\n",
       "\n"
      ],
      "text/plain": [
       "[1] 325 339"
      ]
     },
     "metadata": {},
     "output_type": "display_data"
    }
   ],
   "source": [
    "dim(test_merge.M06)\n",
    "dim(test_merge.M12)\n",
    "dim(test_merge.M18)"
   ]
  },
  {
   "cell_type": "markdown",
   "metadata": {},
   "source": [
    "# Predict Diagnosis Class"
   ]
  },
  {
   "cell_type": "markdown",
   "metadata": {},
   "source": [
    "## Predict Diagnosis Class on 6,12,18 month later"
   ]
  },
  {
   "cell_type": "code",
   "execution_count": null,
   "metadata": {},
   "outputs": [],
   "source": [
    "\"\"\"\n",
    "*CHANGE: \n",
    "Here I should plot some figures to show the result, and then include those important variables to train a glm model. \n",
    "\"\"\""
   ]
  },
  {
   "cell_type": "code",
   "execution_count": 23,
   "metadata": {},
   "outputs": [],
   "source": [
    "cctrl1 <- trainControl(method=\"cv\", number=10, returnResamp=\"all\",classProbs=TRUE, summaryFunction=twoClassSummary) "
   ]
  },
  {
   "cell_type": "code",
   "execution_count": 24,
   "metadata": {},
   "outputs": [
    {
     "name": "stderr",
     "output_type": "stream",
     "text": [
      "Warning message in `[<-.data.frame`(`*tmp*`, inx[matched], value = list(DX.6 = structure(c(3L, :\n",
      "“replacement element 1 has 857 rows to replace 852 rows”"
     ]
    },
    {
     "data": {
      "text/html": [
       "<table>\n",
       "<caption>A data.frame: 5 × 336</caption>\n",
       "<thead>\n",
       "\t<tr><th></th><th scope=col>AGE</th><th scope=col>PTGENDER</th><th scope=col>PTEDUCAT</th><th scope=col>APOE4</th><th scope=col>CDRSB</th><th scope=col>ADAS11</th><th scope=col>ADAS13</th><th scope=col>MMSE</th><th scope=col>RAVLT.immediate</th><th scope=col>M</th><th scope=col>⋯</th><th scope=col>ST98CV</th><th scope=col>ST98SA</th><th scope=col>ST98TA</th><th scope=col>ST98TS</th><th scope=col>ST99CV</th><th scope=col>ST99SA</th><th scope=col>ST99TA</th><th scope=col>ST99TS</th><th scope=col>ST9SV</th><th scope=col>DX.6</th></tr>\n",
       "\t<tr><th></th><th scope=col>&lt;labelled&gt;</th><th scope=col>&lt;labelled&gt;</th><th scope=col>&lt;labelled&gt;</th><th scope=col>&lt;labelled&gt;</th><th scope=col>&lt;labelled&gt;</th><th scope=col>&lt;labelled&gt;</th><th scope=col>&lt;labelled&gt;</th><th scope=col>&lt;labelled&gt;</th><th scope=col>&lt;labelled&gt;</th><th scope=col>&lt;labelled&gt;</th><th scope=col>⋯</th><th scope=col>&lt;dbl&gt;</th><th scope=col>&lt;dbl&gt;</th><th scope=col>&lt;dbl&gt;</th><th scope=col>&lt;dbl&gt;</th><th scope=col>&lt;dbl&gt;</th><th scope=col>&lt;dbl&gt;</th><th scope=col>&lt;dbl&gt;</th><th scope=col>&lt;dbl&gt;</th><th scope=col>&lt;dbl&gt;</th><th scope=col>&lt;fct&gt;</th></tr>\n",
       "</thead>\n",
       "<tbody>\n",
       "\t<tr><th scope=row>1</th><td>73.9</td><td>Female</td><td>12</td><td>1</td><td>5.0</td><td>12.33</td><td>24.33</td><td>24</td><td>20</td><td>0</td><td>⋯</td><td>2999</td><td>1341</td><td>2.122</td><td>0.532</td><td>10626</td><td>3535</td><td>2.620</td><td>0.613</td><td> 963</td><td>Dementia</td></tr>\n",
       "\t<tr><th scope=row>2</th><td>73.9</td><td>Female</td><td>12</td><td>1</td><td>2.5</td><td>14.33</td><td>24.33</td><td>26</td><td>20</td><td>6</td><td>⋯</td><td>3073</td><td>1356</td><td>2.161</td><td>0.506</td><td>10045</td><td>3497</td><td>2.517</td><td>0.684</td><td>1021</td><td>Dementia</td></tr>\n",
       "\t<tr><th scope=row>5</th><td>69.3</td><td>Male  </td><td>14</td><td>1</td><td>4.5</td><td>26.67</td><td>38.67</td><td>22</td><td>19</td><td>0</td><td>⋯</td><td>3197</td><td>1430</td><td>2.081</td><td>0.823</td><td> 8220</td><td>3247</td><td>2.306</td><td>0.666</td><td>2259</td><td>Dementia</td></tr>\n",
       "\t<tr><th scope=row>6</th><td>69.3</td><td>Male  </td><td>14</td><td>1</td><td>8.0</td><td>31.00</td><td>42.00</td><td>17</td><td>13</td><td>6</td><td>⋯</td><td>2879</td><td>1467</td><td>1.858</td><td>0.709</td><td> 7974</td><td>3343</td><td>2.206</td><td>0.611</td><td>2372</td><td>Dementia</td></tr>\n",
       "\t<tr><th scope=row>8</th><td>76.3</td><td>Female</td><td>18</td><td>0</td><td>0.0</td><td> 4.33</td><td> 9.33</td><td>30</td><td>41</td><td>0</td><td>⋯</td><td>4610</td><td>2059</td><td>2.120</td><td>0.689</td><td>13199</td><td>4061</td><td>2.790</td><td>0.772</td><td> 893</td><td>CN      </td></tr>\n",
       "</tbody>\n",
       "</table>\n"
      ],
      "text/latex": [
       "A data.frame: 5 × 336\n",
       "\\begin{tabular}{r|llllllllllllllllllllllllllllllllllllllllllllllllllllllllllllllllllllllllllllllllllllllllllllllllllllllllllllllllllllllllllllllllllllllllllllllllllllllllllllllllllllllllllllllllllllllllllllllllllllllllllllllllllllllllllllllllllllllllllllllllllllllllllllllllllllllllllllllllllllllllllllllllllllllllllllllllllllllllllllllllllllllllllllllll}\n",
       "  & AGE & PTGENDER & PTEDUCAT & APOE4 & CDRSB & ADAS11 & ADAS13 & MMSE & RAVLT.immediate & M & ST101SV & ST102CV & ST102SA & ST102TA & ST102TS & ST103CV & ST103SA & ST103TA & ST103TS & ST104CV & ST104SA & ST104TA & ST104TS & ST105CV & ST105SA & ST105TA & ST105TS & ST106CV & ST106SA & ST106TA & ST106TS & ST107CV & ST107SA & ST107TA & ST107TS & ST108CV & ST108SA & ST108TA & ST108TS & ST109CV & ST109SA & ST109TA & ST109TS & ST10CV & ST110CV & ST110SA & ST110TA & ST110TS & ST111CV & ST111SA & ST111TA & ST111TS & ST112SV & ST113CV & ST113SA & ST113TA & ST113TS & ST114CV & ST114SA & ST114TA & ST114TS & ST115CV & ST115SA & ST115TA & ST115TS & ST116CV & ST116SA & ST116TA & ST116TS & ST117CV & ST117SA & ST117TA & ST117TS & ST118CV & ST118SA & ST118TA & ST118TS & ST119CV & ST119SA & ST119TA & ST119TS & ST11SV & ST120SV & ST121CV & ST121SA & ST121TA & ST121TS & ST123CV & ST123SA & ST123TA & ST123TS & ST124SV & ST127SV & ST128SV & ST129CV & ST129SA & ST129TA & ST129TS & ST12SV & ST130CV & ST130SA & ST130TA & ST130TS & ST13CV & ST13SA & ST13TA & ST13TS & ST14CV & ST14SA & ST14TA & ST14TS & ST15CV & ST15SA & ST15TA & ST15TS & ST16SV & ST17SV & ST18SV & ST19SV & ST1SV & ST20SV & ST21SV & ST23CV & ST23SA & ST23TA & ST23TS & ST24CV & ST24SA & ST24TA & ST24TS & ST25CV & ST25SA & ST25TA & ST25TS & ST26CV & ST26SA & ST26TA & ST26TS & ST27SA & ST29SV & ST2SV & ST30SV & ST31CV & ST31SA & ST31TA & ST31TS & ST32CV & ST32SA & ST32TA & ST32TS & ST34CV & ST34SA & ST34TA & ST34TS & ST35CV & ST35SA & ST35TA & ST35TS & ST36CV & ST36SA & ST36TA & ST36TS & ST37SV & ST38CV & ST38SA & ST38TA & ST38TS & ST39CV & ST39SA & ST39TA & ST39TS & ST3SV & ST40CV & ST40SA & ST40TA & ST40TS & ST42SV & ST43CV & ST43SA & ST43TA & ST43TS & ST44CV & ST44SA & ST44TA & ST44TS & ST45CV & ST45SA & ST45TA & ST45TS & ST46CV & ST46SA & ST46TA & ST46TS & ST47CV & ST47SA & ST47TA & ST47TS & ST48CV & ST48SA & ST48TA & ST48TS & ST49CV & ST49SA & ST49TA & ST49TS & ST4SV & ST50CV & ST50SA & ST50TA & ST50TS & ST51CV & ST51SA & ST51TA & ST51TS & ST52CV & ST52SA & ST52TA & ST52TS & ST53SV & ST54CV & ST54SA & ST54TA & ST54TS & ST55CV & ST55SA & ST55TA & ST55TS & ST56CV & ST56SA & ST56TA & ST56TS & ST57CV & ST57SA & ST57TA & ST57TS & ST58CV & ST58SA & ST58TA & ST58TS & ST59CV & ST59SA & ST59TA & ST59TS & ST5SV & ST60CV & ST60SA & ST60TA & ST60TS & ST61SV & ST62CV & ST62SA & ST62TA & ST62TS & ST64CV & ST64SA & ST64TA & ST64TS & ST65SV & ST68SV & ST69SV & ST6SV & ST70SV & ST71SV & ST72CV & ST72SA & ST72TA & ST72TS & ST73CV & ST73SA & ST73TA & ST73TS & ST74CV & ST74SA & ST74TA & ST74TS & ST75SV & ST76SV & ST77SV & ST78SV & ST79SV & ST7SV & ST80SV & ST82CV & ST82SA & ST82TA & ST82TS & ST83CV & ST83SA & ST83TA & ST83TS & ST84CV & ST84SA & ST84TA & ST84TS & ST85CV & ST85SA & ST85TA & ST85TS & ST86SA & ST88SV & ST89SV & ST90CV & ST90SA & ST90TA & ST90TS & ST91CV & ST91SA & ST91TA & ST91TS & ST93CV & ST93SA & ST93TA & ST93TS & ST94CV & ST94SA & ST94TA & ST94TS & ST95CV & ST95SA & ST95TA & ST95TS & ST96SV & ST97CV & ST97SA & ST97TA & ST97TS & ST98CV & ST98SA & ST98TA & ST98TS & ST99CV & ST99SA & ST99TA & ST99TS & ST9SV & DX.6\\\\\n",
       "  & <labelled> & <labelled> & <labelled> & <labelled> & <labelled> & <labelled> & <labelled> & <labelled> & <labelled> & <labelled> & <dbl> & <dbl> & <dbl> & <dbl> & <dbl> & <dbl> & <dbl> & <dbl> & <dbl> & <dbl> & <dbl> & <dbl> & <dbl> & <dbl> & <dbl> & <dbl> & <dbl> & <dbl> & <dbl> & <dbl> & <dbl> & <dbl> & <dbl> & <dbl> & <dbl> & <dbl> & <dbl> & <dbl> & <dbl> & <dbl> & <dbl> & <dbl> & <dbl> & <dbl> & <dbl> & <dbl> & <dbl> & <dbl> & <dbl> & <dbl> & <dbl> & <dbl> & <dbl> & <dbl> & <dbl> & <dbl> & <dbl> & <dbl> & <dbl> & <dbl> & <dbl> & <dbl> & <dbl> & <dbl> & <dbl> & <dbl> & <dbl> & <dbl> & <dbl> & <dbl> & <dbl> & <dbl> & <dbl> & <dbl> & <dbl> & <dbl> & <dbl> & <dbl> & <dbl> & <dbl> & <dbl> & <dbl> & <dbl> & <dbl> & <dbl> & <dbl> & <dbl> & <dbl> & <dbl> & <dbl> & <dbl> & <dbl> & <dbl> & <dbl> & <dbl> & <dbl> & <dbl> & <dbl> & <dbl> & <dbl> & <dbl> & <dbl> & <dbl> & <dbl> & <dbl> & <dbl> & <dbl> & <dbl> & <dbl> & <dbl> & <dbl> & <dbl> & <dbl> & <dbl> & <dbl> & <dbl> & <dbl> & <dbl> & <dbl> & <dbl> & <dbl> & <dbl> & <dbl> & <dbl> & <dbl> & <dbl> & <dbl> & <dbl> & <dbl> & <dbl> & <dbl> & <dbl> & <dbl> & <dbl> & <dbl> & <dbl> & <dbl> & <dbl> & <dbl> & <dbl> & <dbl> & <dbl> & <dbl> & <dbl> & <dbl> & <dbl> & <dbl> & <dbl> & <dbl> & <dbl> & <dbl> & <dbl> & <dbl> & <dbl> & <dbl> & <dbl> & <dbl> & <dbl> & <dbl> & <dbl> & <dbl> & <dbl> & <dbl> & <dbl> & <dbl> & <dbl> & <dbl> & <dbl> & <dbl> & <dbl> & <dbl> & <dbl> & <dbl> & <dbl> & <dbl> & <dbl> & <dbl> & <dbl> & <dbl> & <dbl> & <dbl> & <dbl> & <dbl> & <dbl> & <dbl> & <dbl> & <dbl> & <dbl> & <dbl> & <dbl> & <dbl> & <dbl> & <dbl> & <dbl> & <dbl> & <dbl> & <dbl> & <dbl> & <dbl> & <dbl> & <dbl> & <dbl> & <dbl> & <dbl> & <dbl> & <dbl> & <dbl> & <dbl> & <dbl> & <dbl> & <dbl> & <dbl> & <dbl> & <dbl> & <dbl> & <dbl> & <dbl> & <dbl> & <dbl> & <dbl> & <dbl> & <dbl> & <dbl> & <dbl> & <dbl> & <dbl> & <dbl> & <dbl> & <dbl> & <dbl> & <dbl> & <dbl> & <dbl> & <dbl> & <dbl> & <dbl> & <dbl> & <dbl> & <dbl> & <dbl> & <dbl> & <dbl> & <dbl> & <dbl> & <dbl> & <dbl> & <dbl> & <dbl> & <dbl> & <dbl> & <dbl> & <dbl> & <dbl> & <dbl> & <dbl> & <dbl> & <dbl> & <dbl> & <dbl> & <dbl> & <dbl> & <dbl> & <dbl> & <dbl> & <dbl> & <dbl> & <dbl> & <dbl> & <dbl> & <dbl> & <dbl> & <dbl> & <dbl> & <dbl> & <dbl> & <dbl> & <dbl> & <dbl> & <dbl> & <dbl> & <dbl> & <dbl> & <dbl> & <dbl> & <dbl> & <dbl> & <dbl> & <dbl> & <dbl> & <dbl> & <dbl> & <dbl> & <dbl> & <dbl> & <dbl> & <dbl> & <dbl> & <dbl> & <dbl> & <dbl> & <dbl> & <dbl> & <dbl> & <dbl> & <dbl> & <dbl> & <dbl> & <dbl> & <dbl> & <dbl> & <dbl> & <dbl> & <dbl> & <dbl> & <dbl> & <dbl> & <dbl> & <dbl> & <dbl> & <dbl> & <dbl> & <dbl> & <dbl> & <dbl> & <dbl> & <dbl> & <dbl> & <dbl> & <dbl> & <dbl> & <dbl> & <dbl> & <dbl> & <dbl> & <dbl> & <fct>\\\\\n",
       "\\hline\n",
       "\t1 & 73.9 & Female & 12 & 1 & 5.0 & 12.33 & 24.33 & 24 & 20 & 0 & 1523 & 3153 & 1589 & 1.922 & 0.622 & 1703 & 652 & 2.400 & 0.699 & 3559 & 1516 & 2.230 & 0.542 & 2737 & 828 & 2.687 & 0.805 & 2483 & 1266 & 1.857 & 0.564 & 2054 & 1570 & 1.373 & 0.333 & 7197 & 3691 & 1.771 & 0.688 & 2526 & 1078 & 2.323 & 0.698 & 1471184 & 10713 & 5046 & 2.066 & 0.627 & 6131 & 3164 & 1.918 & 0.584 & 3252 & 1643 & 635 & 2.610 & 0.846 & 11692 & 5230 & 2.082 & 0.610 & 17940 & 6422 & 2.567 & 0.599 & 12086 & 5690 & 1.949 & 0.585 &  8411 & 3236 & 2.298 & 0.647 & 9016 & 3712 & 2.334 & 0.557 & 2195 & 365 & 4.070 & 0.517 & 350 & 5537 & 656 & 239 & 2.319 & 0.599 & 5366 & 5219 & 0.927 & 1.383 & 3453 & 1061 & 6146 & 5357 & 1968 & 2.734 & 0.865 & 841 & 5584 & 1892 & 2.941 & 0.917 & 2021 & 1018 & 2.169 & 0.490 & 1839 & 659 & 2.882 & 0.868 & 4119 & 1694 & 2.371 & 0.553 & 3180 & 32552 & 36871 & 171222 & 22970 & 283732 & 2432 & 2107 & 1230 & 1.631 & 0.378 & 1629 & 270 & 3.941 & 0.568 & 595 & 204 & 2.266 & 0.451 & 8550 & 2949 & 2.678 & 0.671 & 87184.6 & 2662 & 844 &  423 & 12009 & 5354 & 2.156 & 0.561 &  9645 & 3074 & 2.784 & 0.694 & 2058 & 873 & 2.372 & 0.634 & 13654 & 6019 & 2.132 & 0.655 & 6457 & 2456 & 2.557 & 0.809 & 12598 & 4761 & 2666 & 1.778 & 0.550 & 4158 & 1775 & 2.264 & 0.669 & 339 &  9674 & 3036 & 2.707 & 0.623 & 1716 & 2525 & 1225 & 1.885 & 0.705 & 2288 & 726 & 2.704 & 0.805 & 3607 & 1454 & 2.312 & 0.513 & 1696 & 437 & 2.960 & 0.805 & 2810 & 1165 & 2.217 & 0.566 & 1626 & 1322 & 1.272 & 0.279 & 8298 & 4592 & 1.759 & 0.623 & 327 & 3136 & 1231 & 2.543 & 0.482 &  9708 & 5002 & 1.861 & 0.671 & 6410 & 3132 & 2.015 & 0.558 & 3483 & 2005 & 624 & 2.830 & 0.694 & 13743 & 5927 & 2.185 & 0.619 & 16560 & 6333 & 2.514 & 0.660 & 11384 & 5439 & 1.987 & 0.570 &  8602 & 3269 & 2.391 & 0.702 & 7087 & 3007 & 2.328 & 0.526 & 316 & 1885 & 365 & 3.600 & 0.624 & 5810 &  820 & 379 & 1.965 & 0.400 & 5702 & 5418 & 0.962 & 1.466 & 3651 & 32 & 411 &  947 & 430 &  831 & 2486 & 1088 & 2.344 & 0.521 & 1988 & 692 & 2.832 & 0.691 & 3519 & 1643 & 2.039 & 0.516 & 2786 & 33615 & 35643 & 160438 & 287821 & 1167 & 2377 & 2489 & 1235 & 1.784 & 0.570 & 1164 & 222 & 3.163 & 0.781 & 697 & 227 & 2.281 & 0.626 &  8085 & 2777 & 2.693 & 0.634 & 85478.9 & 2310 &  329 & 11058 & 4861 & 2.168 & 0.534 &  9696 & 3237 & 2.653 & 0.734 & 1365 & 593 & 2.179 & 0.624 & 10120 & 4767 & 1.996 & 0.609 & 6613 & 2360 & 2.652 & 0.726 & 12726 & 5275 & 2964 & 1.776 & 0.581 & 2999 & 1341 & 2.122 & 0.532 & 10626 & 3535 & 2.620 & 0.613 &  963 & Dementia\\\\\n",
       "\t2 & 73.9 & Female & 12 & 1 & 2.5 & 14.33 & 24.33 & 26 & 20 & 6 & 1524 & 3130 & 1577 & 1.913 & 0.658 & 1746 & 638 & 2.473 & 0.722 & 3304 & 1475 & 2.187 & 0.618 & 2683 & 832 & 2.632 & 0.835 & 2482 & 1289 & 1.833 & 0.523 & 1945 & 1548 & 1.360 & 0.320 & 6794 & 3715 & 1.677 & 0.689 & 2481 & 1084 & 2.259 & 0.687 & 1459656 &  9809 & 5082 & 1.905 & 0.643 & 5399 & 3244 & 1.727 & 0.540 & 3272 & 1565 & 632 & 2.559 & 0.910 & 10901 & 5300 & 1.983 & 0.599 & 16822 & 6631 & 2.437 & 0.622 & 10609 & 5875 & 1.727 & 0.582 &  8255 & 3232 & 2.276 & 0.670 & 8044 & 3659 & 2.165 & 0.595 & 2159 & 404 & 3.778 & 0.528 & 327 & 5423 & 570 & 241 & 2.071 & 0.510 & 5516 & 5226 & 0.953 & 1.408 & 3296 & 1138 & 6866 & 5292 & 1936 & 2.780 & 0.848 & 876 & 5426 & 1852 & 2.905 & 0.963 & 1878 & 1020 & 2.032 & 0.542 & 1806 & 656 & 2.833 & 0.902 & 3757 & 1742 & 2.189 & 0.502 & 3109 & 33793 & 35075 & 170892 & 23010 & 275161 & 2254 & 1997 & 1217 & 1.577 & 0.349 & 1448 & 286 & 3.489 & 0.691 & 569 & 185 & 2.302 & 0.609 & 8290 & 2978 & 2.569 & 0.735 & 87634.9 & 2540 & 816 &  510 & 10910 & 5451 & 1.989 & 0.571 &  9279 & 3046 & 2.700 & 0.686 & 1896 & 865 & 2.208 & 0.628 & 12806 & 6097 & 2.018 & 0.625 & 6369 & 2459 & 2.540 & 0.795 & 13855 & 4823 & 2652 & 1.800 & 0.553 & 4114 & 1741 & 2.267 & 0.698 & 322 &  9115 & 3104 & 2.549 & 0.691 & 1729 & 2470 & 1220 & 1.855 & 0.693 & 2169 & 716 & 2.598 & 0.821 & 3172 & 1421 & 2.118 & 0.578 & 1677 & 444 & 2.926 & 0.870 & 2590 & 1142 & 2.080 & 0.635 & 1610 & 1306 & 1.268 & 0.308 & 8163 & 4574 & 1.761 & 0.646 & 314 & 2892 & 1270 & 2.361 & 0.549 &  9275 & 5053 & 1.805 & 0.619 & 5648 & 3171 & 1.795 & 0.582 & 3324 & 1832 & 561 & 2.806 & 0.670 & 12700 & 6010 & 2.037 & 0.647 & 15562 & 6409 & 2.370 & 0.663 & 10245 & 5428 & 1.831 & 0.566 &  8297 & 3303 & 2.328 & 0.759 & 6486 & 3140 & 2.147 & 0.618 & 302 & 1826 & 356 & 3.505 & 0.616 & 5723 &  756 & 403 & 1.826 & 0.392 & 5485 & 5375 & 0.937 & 1.425 & 3648 & 52 & 443 &  931 & 409 &  818 & 2095 & 1073 & 2.017 & 0.557 & 1883 & 693 & 2.687 & 0.780 & 3317 & 1676 & 1.934 & 0.545 & 2865 & 34494 & 33234 & 159771 & 276841 & 1232 & 2298 & 2442 & 1322 & 1.662 & 0.607 & 1168 & 219 & 3.204 & 0.810 & 682 & 244 & 2.175 & 0.622 &  8026 & 2932 & 2.573 & 0.680 & 86602.1 & 2406 &  509 &  9361 & 4948 & 1.874 & 0.561 &  9309 & 3290 & 2.526 & 0.816 & 1310 & 628 & 2.104 & 0.588 &  9274 & 4877 & 1.869 & 0.532 & 6292 & 2338 & 2.557 & 0.766 & 14132 & 5347 & 3085 & 1.756 & 0.560 & 3073 & 1356 & 2.161 & 0.506 & 10045 & 3497 & 2.517 & 0.684 & 1021 & Dementia\\\\\n",
       "\t5 & 69.3 & Male   & 14 & 1 & 4.5 & 26.67 & 38.67 & 22 & 19 & 0 & 1526 & 2937 & 1542 & 1.892 & 0.557 & 1258 & 637 & 1.778 & 0.583 & 2483 & 1223 & 1.938 & 0.553 & 1880 & 794 & 1.986 & 0.614 & 3012 & 1631 & 1.824 & 0.523 & 1758 & 1379 & 1.441 & 0.440 & 6581 & 3935 & 1.642 & 0.564 & 2825 & 1300 & 2.266 & 0.685 & 1505151 & 10083 & 5199 & 1.952 & 0.665 & 7324 & 3726 & 2.032 & 0.608 & 4102 & 1620 & 637 & 2.273 & 0.801 & 12206 & 6138 & 1.917 & 0.604 & 13437 & 5719 & 2.203 & 0.656 & 10533 & 5688 & 1.810 & 0.526 &  8038 & 3264 & 2.213 & 0.707 & 6225 & 3208 & 1.968 & 0.596 & 1664 & 519 & 2.873 & 0.703 & 172 & 6042 & 458 & 279 & 1.655 & 0.457 & 5636 & 6072 & 0.840 & 1.270 & 3505 & 1942 & 3203 & 4827 & 2084 & 2.394 & 0.893 & 779 & 4949 & 2041 & 2.401 & 0.811 & 1998 & 1054 & 2.103 & 0.539 &  982 & 471 & 2.246 & 0.911 & 4340 & 2056 & 2.148 & 0.537 & 2065 & 36252 & 33988 & 147451 & 22354 & 247604 & 2349 & 2452 & 1519 & 1.688 & 0.550 &  892 & 362 & 1.973 & 0.685 & 421 & 172 & 1.938 & 0.533 & 9671 & 3802 & 2.317 & 0.776 & 90361.3 & 2759 & 710 & 1485 &  9605 & 4659 & 2.060 & 0.650 &  6997 & 2781 & 2.383 & 0.712 & 1963 & 884 & 2.314 & 0.630 & 10880 & 5101 & 2.005 & 0.581 & 5065 & 2383 & 2.005 & 0.641 & 21224 & 5290 & 2868 & 1.764 & 0.605 & 3373 & 1513 & 2.149 & 0.840 & 355 &  7174 & 2885 & 2.246 & 0.777 & 1826 & 2672 & 1449 & 1.918 & 0.650 & 1460 & 684 & 1.838 & 0.595 & 3692 & 1761 & 1.974 & 0.508 & 1589 & 645 & 2.036 & 0.571 & 1840 & 1054 & 1.822 & 0.536 & 1232 & 1035 & 1.329 & 0.336 & 8015 & 4473 & 1.727 & 0.585 & 368 & 2447 & 1193 & 2.085 & 0.580 & 12069 & 6102 & 1.987 & 0.645 & 6948 & 3723 & 1.908 & 0.522 & 4002 &  902 & 459 & 1.942 & 1.089 & 10132 & 5682 & 1.725 & 0.536 & 13823 & 6145 & 2.111 & 0.656 &  9583 & 5192 & 1.798 & 0.518 &  9378 & 3973 & 2.197 & 0.634 & 9388 & 4271 & 2.157 & 0.619 & 329 & 1975 & 616 & 2.655 & 0.675 & 5861 &  981 & 609 & 1.560 & 0.380 & 5859 & 5831 & 0.909 & 1.243 & 3672 & 54 & 491 & 1006 & 442 &  859 & 1353 &  781 & 1.939 & 0.585 & 2064 & 860 & 2.501 & 0.747 & 3349 & 1710 & 2.013 & 0.597 & 2469 & 37278 & 32365 & 155122 & 249515 & 1461 & 2236 & 2944 & 1507 & 1.819 & 0.685 & 1455 & 475 & 2.484 & 0.944 & 664 & 230 & 2.252 & 0.501 & 10016 & 3627 & 2.521 & 0.771 & 90395.4 & 2565 & 1308 & 11882 & 5834 & 2.079 & 0.595 &  7733 & 3009 & 2.354 & 0.725 & 1938 & 818 & 2.259 & 0.780 & 10806 & 5151 & 2.030 & 0.594 & 5050 & 2237 & 2.091 & 0.670 & 18041 & 6948 & 3639 & 1.909 & 0.656 & 3197 & 1430 & 2.081 & 0.823 &  8220 & 3247 & 2.306 & 0.666 & 2259 & Dementia\\\\\n",
       "\t6 & 69.3 & Male   & 14 & 1 & 8.0 & 31.00 & 42.00 & 17 & 13 & 6 & 1538 & 2844 & 1535 & 1.843 & 0.528 & 1337 & 626 & 1.875 & 0.615 & 2413 & 1217 & 1.921 & 0.532 & 1909 & 752 & 2.164 & 0.661 & 3020 & 1585 & 1.828 & 0.548 & 1639 & 1369 & 1.330 & 0.385 & 6326 & 4047 & 1.527 & 0.509 & 2771 & 1299 & 2.166 & 0.583 & 1500716 &  9517 & 5250 & 1.828 & 0.582 & 7173 & 3706 & 1.981 & 0.535 & 3994 & 1469 & 650 & 2.059 & 0.863 & 11157 & 5918 & 1.802 & 0.590 & 12733 & 5603 & 2.076 & 0.634 & 10430 & 5595 & 1.814 & 0.519 &  7951 & 3276 & 2.204 & 0.666 & 6597 & 3295 & 2.050 & 0.612 & 1729 & 451 & 3.122 & 0.707 & 138 & 5881 & 468 & 292 & 1.599 & 0.412 & 5711 & 6092 & 0.832 & 1.241 & 3403 & 2093 & 3324 & 4773 & 2026 & 2.439 & 0.845 & 799 & 4829 & 2001 & 2.385 & 0.786 & 1908 & 1046 & 1.994 & 0.605 &  986 & 441 & 2.315 & 0.845 & 4140 & 1952 & 2.114 & 0.549 & 1971 & 36396 & 33360 & 145273 & 22486 & 241611 & 2156 & 2476 & 1561 & 1.648 & 0.542 &  866 & 408 & 1.808 & 0.681 & 409 & 160 & 2.020 & 0.444 & 9736 & 3849 & 2.313 & 0.760 & 90660.0 & 2690 & 710 & 1783 & 10385 & 4638 & 2.167 & 0.719 &  6557 & 2865 & 2.228 & 0.686 & 1937 & 866 & 2.237 & 0.635 & 11457 & 5238 & 1.986 & 0.660 & 4929 & 2434 & 1.915 & 0.655 & 23295 & 5208 & 2951 & 1.677 & 0.599 & 3029 & 1542 & 1.925 & 0.660 & 356 &  6693 & 2991 & 2.050 & 0.741 & 1878 & 2593 & 1406 & 1.806 & 0.524 & 1452 & 696 & 1.772 & 0.665 & 3411 & 1741 & 1.836 & 0.494 & 1525 & 677 & 1.850 & 0.562 & 1838 & 1094 & 1.791 & 0.522 & 1136 & 1034 & 1.259 & 0.328 & 7549 & 4544 & 1.633 & 0.552 & 375 & 2329 & 1183 & 1.988 & 0.582 & 11801 & 5985 & 1.946 & 0.615 & 6897 & 3739 & 1.869 & 0.481 & 3908 &  860 & 424 & 1.843 & 0.981 &  9424 & 5689 & 1.608 & 0.481 & 13502 & 6102 & 2.057 & 0.607 &  9801 & 5066 & 1.851 & 0.547 &  9045 & 4028 & 2.081 & 0.678 & 9374 & 4288 & 2.140 & 0.594 & 330 & 1718 & 624 & 2.504 & 0.710 & 5744 &  971 & 635 & 1.513 & 0.363 & 5920 & 5855 & 0.918 & 1.248 & 3583 & 66 & 508 & 1006 & 444 &  929 & 1397 &  805 & 2.005 & 0.520 & 1945 & 852 & 2.352 & 0.735 & 3435 & 1633 & 2.099 & 0.607 & 2305 & 38237 & 31710 & 152985 & 244954 & 1500 & 2315 & 2786 & 1544 & 1.687 & 0.657 & 1613 & 474 & 2.577 & 0.910 & 632 & 216 & 2.202 & 0.554 & 10151 & 3666 & 2.536 & 0.782 & 90455.7 & 2418 & 1410 & 12022 & 5913 & 2.072 & 0.560 &  7463 & 3091 & 2.254 & 0.669 & 1936 & 809 & 2.240 & 0.732 & 10777 & 5323 & 1.966 & 0.579 & 4613 & 2178 & 1.978 & 0.642 & 19744 & 6848 & 3689 & 1.861 & 0.685 & 2879 & 1467 & 1.858 & 0.709 &  7974 & 3343 & 2.206 & 0.611 & 2372 & Dementia\\\\\n",
       "\t8 & 76.3 & Female & 18 & 0 & 0.0 &  4.33 &  9.33 & 30 & 41 & 0 & 1474 & 3580 & 1669 & 2.097 & 0.576 & 1662 & 643 & 2.137 & 0.685 & 3159 & 1242 & 2.326 & 0.563 & 2527 & 697 & 2.987 & 0.826 & 2592 & 1101 & 2.241 & 0.606 & 1961 & 1523 & 1.434 & 0.403 & 9305 & 4663 & 1.815 & 0.634 & 3942 & 1590 & 2.291 & 0.649 & 1619843 & 11561 & 5342 & 2.104 & 0.562 & 7951 & 3852 & 2.001 & 0.599 & 2981 & 1508 & 417 & 2.928 & 0.966 & 14033 & 6139 & 2.113 & 0.638 & 18741 & 7021 & 2.487 & 0.682 & 11312 & 5353 & 2.001 & 0.632 & 10712 & 3881 & 2.484 & 0.791 & 8188 & 3361 & 2.343 & 0.598 & 1930 & 429 & 3.431 & 0.775 & 407 & 6478 & 801 & 287 & 2.375 & 0.489 & 6894 & 5821 & 1.059 & 1.512 & 3057 & 1407 & 4171 & 6005 & 2030 & 2.946 & 1.020 & 995 & 6265 & 2078 & 2.916 & 1.020 & 2134 & 1037 & 2.180 & 0.525 & 2007 & 607 & 3.058 & 0.821 & 8785 & 3659 & 2.344 & 0.608 & 3083 & 34570 & 30883 & 191296 & 17930 & 275916 & 2716 & 2389 & 1463 & 1.599 & 0.396 & 1888 & 430 & 3.123 & 1.048 & 567 & 196 & 2.497 & 0.557 & 8944 & 3273 & 2.502 & 0.780 & 93087.6 & 3291 & 924 &  877 & 13891 & 5597 & 2.316 & 0.612 & 11653 & 3341 & 2.941 & 0.901 & 2021 & 740 & 2.522 & 0.706 & 12541 & 5578 & 2.164 & 0.584 & 6564 & 2385 & 2.740 & 0.960 & 30199 & 5312 & 2814 & 1.811 & 0.619 & 3245 & 1350 & 2.411 & 0.745 & 367 & 11100 & 3680 & 2.666 & 0.669 & 1702 & 2577 & 1279 & 1.969 & 0.579 & 1674 & 668 & 2.091 & 0.670 & 3216 & 1348 & 2.153 & 0.600 & 1532 & 496 & 2.835 & 0.680 & 2450 &  964 & 2.389 & 0.592 & 2138 & 1583 & 1.454 & 0.386 & 8022 & 4231 & 1.777 & 0.627 & 344 & 2646 &  974 & 2.587 & 0.721 & 12494 & 5339 & 2.228 & 0.614 & 9208 & 4303 & 2.052 & 0.606 & 3791 & 2505 & 682 & 3.018 & 1.012 & 12479 & 5568 & 2.124 & 0.679 & 17776 & 6466 & 2.506 & 0.673 & 12304 & 5965 & 1.975 & 0.578 & 11598 & 4055 & 2.536 & 0.682 & 8290 & 3658 & 2.192 & 0.632 & 255 & 1680 & 303 & 3.621 & 0.846 & 6309 & 1009 & 387 & 2.278 & 0.513 & 6327 & 5685 & 1.004 & 1.506 & 3129 & 53 & 412 &  829 & 436 & 1203 & 3213 & 1440 & 2.377 & 0.543 & 2153 & 891 & 2.309 & 0.751 & 6674 & 2562 & 2.479 & 0.590 & 2384 & 36835 & 28982 & 193066 & 279218 & 1385 & 3027 & 2694 & 1551 & 1.683 & 0.489 & 1694 & 310 & 3.429 & 0.887 & 483 & 159 & 2.245 & 0.634 &  7640 & 2804 & 2.492 & 0.753 & 94768.1 & 3595 &  419 & 15970 & 6873 & 2.203 & 0.605 & 10348 & 2971 & 2.993 & 0.808 & 2161 & 721 & 2.683 & 0.827 &  9583 & 4518 & 2.023 & 0.572 & 6311 & 2316 & 2.798 & 0.905 & 23696 & 6635 & 3491 & 1.785 & 0.608 & 4610 & 2059 & 2.120 & 0.689 & 13199 & 4061 & 2.790 & 0.772 &  893 & CN      \\\\\n",
       "\\end{tabular}\n"
      ],
      "text/markdown": [
       "\n",
       "A data.frame: 5 × 336\n",
       "\n",
       "| <!--/--> | AGE &lt;labelled&gt; | PTGENDER &lt;labelled&gt; | PTEDUCAT &lt;labelled&gt; | APOE4 &lt;labelled&gt; | CDRSB &lt;labelled&gt; | ADAS11 &lt;labelled&gt; | ADAS13 &lt;labelled&gt; | MMSE &lt;labelled&gt; | RAVLT.immediate &lt;labelled&gt; | M &lt;labelled&gt; | ⋯ ⋯ | ST98CV &lt;dbl&gt; | ST98SA &lt;dbl&gt; | ST98TA &lt;dbl&gt; | ST98TS &lt;dbl&gt; | ST99CV &lt;dbl&gt; | ST99SA &lt;dbl&gt; | ST99TA &lt;dbl&gt; | ST99TS &lt;dbl&gt; | ST9SV &lt;dbl&gt; | DX.6 &lt;fct&gt; |\n",
       "|---|---|---|---|---|---|---|---|---|---|---|---|---|---|---|---|---|---|---|---|---|---|\n",
       "| 1 | 73.9 | Female | 12 | 1 | 5.0 | 12.33 | 24.33 | 24 | 20 | 0 | ⋯ | 2999 | 1341 | 2.122 | 0.532 | 10626 | 3535 | 2.620 | 0.613 |  963 | Dementia |\n",
       "| 2 | 73.9 | Female | 12 | 1 | 2.5 | 14.33 | 24.33 | 26 | 20 | 6 | ⋯ | 3073 | 1356 | 2.161 | 0.506 | 10045 | 3497 | 2.517 | 0.684 | 1021 | Dementia |\n",
       "| 5 | 69.3 | Male   | 14 | 1 | 4.5 | 26.67 | 38.67 | 22 | 19 | 0 | ⋯ | 3197 | 1430 | 2.081 | 0.823 |  8220 | 3247 | 2.306 | 0.666 | 2259 | Dementia |\n",
       "| 6 | 69.3 | Male   | 14 | 1 | 8.0 | 31.00 | 42.00 | 17 | 13 | 6 | ⋯ | 2879 | 1467 | 1.858 | 0.709 |  7974 | 3343 | 2.206 | 0.611 | 2372 | Dementia |\n",
       "| 8 | 76.3 | Female | 18 | 0 | 0.0 |  4.33 |  9.33 | 30 | 41 | 0 | ⋯ | 4610 | 2059 | 2.120 | 0.689 | 13199 | 4061 | 2.790 | 0.772 |  893 | CN       |\n",
       "\n"
      ],
      "text/plain": [
       "  AGE  PTGENDER PTEDUCAT APOE4 CDRSB ADAS11 ADAS13 MMSE RAVLT.immediate M ⋯\n",
       "1 73.9 Female   12       1     5.0   12.33  24.33  24   20              0 ⋯\n",
       "2 73.9 Female   12       1     2.5   14.33  24.33  26   20              6 ⋯\n",
       "5 69.3 Male     14       1     4.5   26.67  38.67  22   19              0 ⋯\n",
       "6 69.3 Male     14       1     8.0   31.00  42.00  17   13              6 ⋯\n",
       "8 76.3 Female   18       0     0.0    4.33   9.33  30   41              0 ⋯\n",
       "  ST98CV ST98SA ST98TA ST98TS ST99CV ST99SA ST99TA ST99TS ST9SV DX.6    \n",
       "1 2999   1341   2.122  0.532  10626  3535   2.620  0.613   963  Dementia\n",
       "2 3073   1356   2.161  0.506  10045  3497   2.517  0.684  1021  Dementia\n",
       "5 3197   1430   2.081  0.823   8220  3247   2.306  0.666  2259  Dementia\n",
       "6 2879   1467   1.858  0.709   7974  3343   2.206  0.611  2372  Dementia\n",
       "8 4610   2059   2.120  0.689  13199  4061   2.790  0.772   893  CN      "
      ]
     },
     "metadata": {},
     "output_type": "display_data"
    }
   ],
   "source": [
    "test_merge.M06 <- test_merge.M06 %>%\n",
    "    select(-c(RID, VISCODE, DX)) %>%\n",
    "    transform(DX.6 = unlist(DX.6))\n",
    "test_merge.M06 <- test_merge.M06[test_merge.M06$DX.6 != \"MCI\",]\n",
    "test_merge.M06$DX.6 <- factor(test_merge.M06$DX.6)\n",
    "test_merge.M06[1:5,]"
   ]
  },
  {
   "cell_type": "code",
   "execution_count": 25,
   "metadata": {},
   "outputs": [],
   "source": [
    "set.seed(849)\n",
    "m06_cv_model <- train(DX.6 ~ . , data = test_merge.M06, method = \"glmnet\", trControl = cctrl1,metric = \"ROC\",\n",
    "                             tuneGrid = expand.grid(alpha = 1,lambda = seq(0.001,0.1,by = 0.001)))"
   ]
  },
  {
   "cell_type": "code",
   "execution_count": 26,
   "metadata": {},
   "outputs": [
    {
     "data": {
      "text/plain": [
       "glmnet \n",
       "\n",
       "843 samples\n",
       "335 predictors\n",
       "  2 classes: 'CN', 'Dementia' \n",
       "\n",
       "No pre-processing\n",
       "Resampling: Cross-Validated (10 fold) \n",
       "Summary of sample sizes: 759, 758, 759, 758, 759, 759, ... \n",
       "Resampling results across tuning parameters:\n",
       "\n",
       "  lambda  ROC        Sens       Spec     \n",
       "  0.001   0.7962954  0.7259136  0.7476190\n",
       "  0.002   0.8152639  0.7519934  0.7619048\n",
       "  0.003   0.8228919  0.7543743  0.7642857\n",
       "  0.004   0.8241998  0.7495570  0.7595238\n",
       "  0.005   0.8211161  0.7589701  0.7642857\n",
       "  0.006   0.8198782  0.7732558  0.7690476\n",
       "  0.007   0.8192651  0.7803987  0.7642857\n",
       "  0.008   0.8189382  0.7874862  0.7690476\n",
       "  0.009   0.8179112  0.7851606  0.7666667\n",
       "  0.010   0.8171716  0.7921927  0.7690476\n",
       "  0.011   0.8161631  0.7992802  0.7690476\n",
       "  0.012   0.8153061  0.8016611  0.7666667\n",
       "  0.013   0.8131058  0.7968992  0.7666667\n",
       "  0.014   0.8104414  0.7944629  0.7690476\n",
       "  0.015   0.8100894  0.8014950  0.7690476\n",
       "  0.016   0.8099813  0.8038206  0.7666667\n",
       "  0.017   0.8101487  0.7991141  0.7666667\n",
       "  0.018   0.8098653  0.8086379  0.7642857\n",
       "  0.019   0.8087961  0.8086379  0.7738095\n",
       "  0.020   0.8081211  0.8086379  0.7785714\n",
       "  0.021   0.8071692  0.8110188  0.7785714\n",
       "  0.022   0.8062108  0.8110188  0.7785714\n",
       "  0.023   0.8055318  0.8110188  0.7809524\n",
       "  0.024   0.8047487  0.8133998  0.7833333\n",
       "  0.025   0.8042359  0.8157807  0.7833333\n",
       "  0.026   0.8038417  0.8157807  0.7809524\n",
       "  0.027   0.8036163  0.8181617  0.7809524\n",
       "  0.028   0.8035543  0.8181617  0.7809524\n",
       "  0.029   0.8038878  0.8181617  0.7785714\n",
       "  0.030   0.8037758  0.8205426  0.7809524\n",
       "  0.031   0.8034409  0.8205426  0.7833333\n",
       "  0.032   0.8036637  0.8205426  0.7833333\n",
       "  0.033   0.8033236  0.8205426  0.7880952\n",
       "  0.034   0.8030375  0.8205426  0.7880952\n",
       "  0.035   0.8025286  0.8205426  0.7904762\n",
       "  0.036   0.8016334  0.8205426  0.7904762\n",
       "  0.037   0.8016954  0.8181617  0.7904762\n",
       "  0.038   0.8016387  0.8205426  0.7904762\n",
       "  0.039   0.8015214  0.8205426  0.7928571\n",
       "  0.040   0.8014607  0.8205426  0.7928571\n",
       "  0.041   0.8011206  0.8205426  0.7952381\n",
       "  0.042   0.8010626  0.8205426  0.7952381\n",
       "  0.043   0.8004403  0.8205426  0.8000000\n",
       "  0.044   0.8003283  0.8205426  0.8000000\n",
       "  0.045   0.7997667  0.8205426  0.8000000\n",
       "  0.046   0.7996572  0.8229236  0.8000000\n",
       "  0.047   0.7989269  0.8229236  0.7952381\n",
       "  0.048   0.7993237  0.8229236  0.7952381\n",
       "  0.049   0.7990969  0.8229236  0.7952381\n",
       "  0.050   0.7983600  0.8229236  0.7952381\n",
       "  0.051   0.7986421  0.8205980  0.7952381\n",
       "  0.052   0.7987515  0.8205980  0.7952381\n",
       "  0.053   0.7988056  0.8205980  0.7952381\n",
       "  0.054   0.7992564  0.8205980  0.7928571\n",
       "  0.055   0.7986395  0.8205980  0.7928571\n",
       "  0.056   0.7984140  0.8205980  0.7928571\n",
       "  0.057   0.7982439  0.8205980  0.7928571\n",
       "  0.058   0.7979064  0.8205980  0.7928571\n",
       "  0.059   0.7979078  0.8205980  0.7928571\n",
       "  0.060   0.7977377  0.8205980  0.7928571\n",
       "  0.061   0.7975123  0.8205980  0.7928571\n",
       "  0.062   0.7973989  0.8205980  0.7928571\n",
       "  0.063   0.7974028  0.8205980  0.7928571\n",
       "  0.064   0.7973475  0.8205980  0.7928571\n",
       "  0.065   0.7968992  0.8205980  0.7928571\n",
       "  0.066   0.7971273  0.8205980  0.7928571\n",
       "  0.067   0.7969572  0.8205980  0.7928571\n",
       "  0.068   0.7968452  0.8205980  0.7928571\n",
       "  0.069   0.7969572  0.8205980  0.7928571\n",
       "  0.070   0.7970680  0.8205980  0.7928571\n",
       "  0.071   0.7969005  0.8205980  0.7928571\n",
       "  0.072   0.7967331  0.8205980  0.7928571\n",
       "  0.073   0.7966211  0.8205980  0.7928571\n",
       "  0.074   0.7967292  0.8205980  0.7928571\n",
       "  0.075   0.7965064  0.8205980  0.7928571\n",
       "  0.076   0.7965064  0.8205980  0.7928571\n",
       "  0.077   0.7963402  0.8205980  0.7928571\n",
       "  0.078   0.7964523  0.8205980  0.7928571\n",
       "  0.079   0.7959988  0.8205980  0.7928571\n",
       "  0.080   0.7958287  0.8205980  0.7928571\n",
       "  0.081   0.7955492  0.8205980  0.7928571\n",
       "  0.082   0.7959447  0.8205980  0.7928571\n",
       "  0.083   0.7959461  0.8205980  0.7928571\n",
       "  0.084   0.7961161  0.8205980  0.7904762\n",
       "  0.085   0.7961728  0.8205980  0.7904762\n",
       "  0.086   0.7961148  0.8205980  0.7880952\n",
       "  0.087   0.7960067  0.8205980  0.7880952\n",
       "  0.088   0.7958366  0.8205980  0.7880952\n",
       "  0.089   0.7956666  0.8205980  0.7880952\n",
       "  0.090   0.7952117  0.8205980  0.7904762\n",
       "  0.091   0.7951564  0.8205980  0.7904762\n",
       "  0.092   0.7954952  0.8229790  0.7904762\n",
       "  0.093   0.7954952  0.8229790  0.7904762\n",
       "  0.094   0.7953264  0.8229790  0.7904762\n",
       "  0.095   0.7951511  0.8229790  0.7928571\n",
       "  0.096   0.7950983  0.8229790  0.7928571\n",
       "  0.097   0.7949296  0.8229790  0.7928571\n",
       "  0.098   0.7949850  0.8253045  0.7928571\n",
       "  0.099   0.7948175  0.8253045  0.7928571\n",
       "  0.100   0.7946448  0.8253045  0.7904762\n",
       "\n",
       "Tuning parameter 'alpha' was held constant at a value of 1\n",
       "ROC was used to select the optimal model using the largest value.\n",
       "The final values used for the model were alpha = 1 and lambda = 0.004."
      ]
     },
     "metadata": {},
     "output_type": "display_data"
    }
   ],
   "source": [
    "m06_cv_model"
   ]
  },
  {
   "cell_type": "code",
   "execution_count": 27,
   "metadata": {},
   "outputs": [
    {
     "name": "stderr",
     "output_type": "stream",
     "text": [
      "Warning message in `[<-.data.frame`(`*tmp*`, inx[matched], value = list(DX.12 = structure(c(3L, :\n",
      "“replacement element 1 has 983 rows to replace 973 rows”"
     ]
    },
    {
     "data": {
      "text/html": [
       "<table>\n",
       "<caption>A data.frame: 5 × 336</caption>\n",
       "<thead>\n",
       "\t<tr><th></th><th scope=col>AGE</th><th scope=col>PTGENDER</th><th scope=col>PTEDUCAT</th><th scope=col>APOE4</th><th scope=col>CDRSB</th><th scope=col>ADAS11</th><th scope=col>ADAS13</th><th scope=col>MMSE</th><th scope=col>RAVLT.immediate</th><th scope=col>M</th><th scope=col>⋯</th><th scope=col>ST98CV</th><th scope=col>ST98SA</th><th scope=col>ST98TA</th><th scope=col>ST98TS</th><th scope=col>ST99CV</th><th scope=col>ST99SA</th><th scope=col>ST99TA</th><th scope=col>ST99TS</th><th scope=col>ST9SV</th><th scope=col>DX.12</th></tr>\n",
       "\t<tr><th></th><th scope=col>&lt;labelled&gt;</th><th scope=col>&lt;labelled&gt;</th><th scope=col>&lt;labelled&gt;</th><th scope=col>&lt;labelled&gt;</th><th scope=col>&lt;labelled&gt;</th><th scope=col>&lt;labelled&gt;</th><th scope=col>&lt;labelled&gt;</th><th scope=col>&lt;labelled&gt;</th><th scope=col>&lt;labelled&gt;</th><th scope=col>&lt;labelled&gt;</th><th scope=col>⋯</th><th scope=col>&lt;dbl&gt;</th><th scope=col>&lt;dbl&gt;</th><th scope=col>&lt;dbl&gt;</th><th scope=col>&lt;dbl&gt;</th><th scope=col>&lt;dbl&gt;</th><th scope=col>&lt;dbl&gt;</th><th scope=col>&lt;dbl&gt;</th><th scope=col>&lt;dbl&gt;</th><th scope=col>&lt;dbl&gt;</th><th scope=col>&lt;fct&gt;</th></tr>\n",
       "</thead>\n",
       "<tbody>\n",
       "\t<tr><th scope=row>1</th><td>73.9</td><td>Female</td><td>12</td><td>1</td><td>5.0</td><td>12.33</td><td>24.33</td><td>24</td><td>20</td><td> 0</td><td>⋯</td><td>2999</td><td>1341</td><td>2.122</td><td>0.532</td><td>10626</td><td>3535</td><td>2.620</td><td>0.613</td><td> 963</td><td>Dementia</td></tr>\n",
       "\t<tr><th scope=row>3</th><td>73.9</td><td>Female</td><td>12</td><td>1</td><td>4.0</td><td>23.33</td><td>35.33</td><td>25</td><td>21</td><td>12</td><td>⋯</td><td>2938</td><td>1316</td><td>2.113</td><td>0.565</td><td>10033</td><td>3593</td><td>2.479</td><td>0.665</td><td>1046</td><td>Dementia</td></tr>\n",
       "\t<tr><th scope=row>5</th><td>69.3</td><td>Male  </td><td>14</td><td>1</td><td>4.5</td><td>26.67</td><td>38.67</td><td>22</td><td>19</td><td> 0</td><td>⋯</td><td>3197</td><td>1430</td><td>2.081</td><td>0.823</td><td> 8220</td><td>3247</td><td>2.306</td><td>0.666</td><td>2259</td><td>Dementia</td></tr>\n",
       "\t<tr><th scope=row>8</th><td>76.3</td><td>Female</td><td>18</td><td>0</td><td>0.0</td><td> 4.33</td><td> 9.33</td><td>30</td><td>41</td><td> 0</td><td>⋯</td><td>4610</td><td>2059</td><td>2.120</td><td>0.689</td><td>13199</td><td>4061</td><td>2.790</td><td>0.772</td><td> 893</td><td>CN      </td></tr>\n",
       "\t<tr><th scope=row>10</th><td>76.3</td><td>Female</td><td>18</td><td>0</td><td>0.0</td><td> 4.33</td><td> 9.33</td><td>29</td><td>34</td><td>12</td><td>⋯</td><td>4599</td><td>2050</td><td>2.150</td><td>0.752</td><td>12979</td><td>3996</td><td>2.741</td><td>0.793</td><td> 877</td><td>CN      </td></tr>\n",
       "</tbody>\n",
       "</table>\n"
      ],
      "text/latex": [
       "A data.frame: 5 × 336\n",
       "\\begin{tabular}{r|llllllllllllllllllllllllllllllllllllllllllllllllllllllllllllllllllllllllllllllllllllllllllllllllllllllllllllllllllllllllllllllllllllllllllllllllllllllllllllllllllllllllllllllllllllllllllllllllllllllllllllllllllllllllllllllllllllllllllllllllllllllllllllllllllllllllllllllllllllllllllllllllllllllllllllllllllllllllllllllllllllllllllllllll}\n",
       "  & AGE & PTGENDER & PTEDUCAT & APOE4 & CDRSB & ADAS11 & ADAS13 & MMSE & RAVLT.immediate & M & ST101SV & ST102CV & ST102SA & ST102TA & ST102TS & ST103CV & ST103SA & ST103TA & ST103TS & ST104CV & ST104SA & ST104TA & ST104TS & ST105CV & ST105SA & ST105TA & ST105TS & ST106CV & ST106SA & ST106TA & ST106TS & ST107CV & ST107SA & ST107TA & ST107TS & ST108CV & ST108SA & ST108TA & ST108TS & ST109CV & ST109SA & ST109TA & ST109TS & ST10CV & ST110CV & ST110SA & ST110TA & ST110TS & ST111CV & ST111SA & ST111TA & ST111TS & ST112SV & ST113CV & ST113SA & ST113TA & ST113TS & ST114CV & ST114SA & ST114TA & ST114TS & ST115CV & ST115SA & ST115TA & ST115TS & ST116CV & ST116SA & ST116TA & ST116TS & ST117CV & ST117SA & ST117TA & ST117TS & ST118CV & ST118SA & ST118TA & ST118TS & ST119CV & ST119SA & ST119TA & ST119TS & ST11SV & ST120SV & ST121CV & ST121SA & ST121TA & ST121TS & ST123CV & ST123SA & ST123TA & ST123TS & ST124SV & ST127SV & ST128SV & ST129CV & ST129SA & ST129TA & ST129TS & ST12SV & ST130CV & ST130SA & ST130TA & ST130TS & ST13CV & ST13SA & ST13TA & ST13TS & ST14CV & ST14SA & ST14TA & ST14TS & ST15CV & ST15SA & ST15TA & ST15TS & ST16SV & ST17SV & ST18SV & ST19SV & ST1SV & ST20SV & ST21SV & ST23CV & ST23SA & ST23TA & ST23TS & ST24CV & ST24SA & ST24TA & ST24TS & ST25CV & ST25SA & ST25TA & ST25TS & ST26CV & ST26SA & ST26TA & ST26TS & ST27SA & ST29SV & ST2SV & ST30SV & ST31CV & ST31SA & ST31TA & ST31TS & ST32CV & ST32SA & ST32TA & ST32TS & ST34CV & ST34SA & ST34TA & ST34TS & ST35CV & ST35SA & ST35TA & ST35TS & ST36CV & ST36SA & ST36TA & ST36TS & ST37SV & ST38CV & ST38SA & ST38TA & ST38TS & ST39CV & ST39SA & ST39TA & ST39TS & ST3SV & ST40CV & ST40SA & ST40TA & ST40TS & ST42SV & ST43CV & ST43SA & ST43TA & ST43TS & ST44CV & ST44SA & ST44TA & ST44TS & ST45CV & ST45SA & ST45TA & ST45TS & ST46CV & ST46SA & ST46TA & ST46TS & ST47CV & ST47SA & ST47TA & ST47TS & ST48CV & ST48SA & ST48TA & ST48TS & ST49CV & ST49SA & ST49TA & ST49TS & ST4SV & ST50CV & ST50SA & ST50TA & ST50TS & ST51CV & ST51SA & ST51TA & ST51TS & ST52CV & ST52SA & ST52TA & ST52TS & ST53SV & ST54CV & ST54SA & ST54TA & ST54TS & ST55CV & ST55SA & ST55TA & ST55TS & ST56CV & ST56SA & ST56TA & ST56TS & ST57CV & ST57SA & ST57TA & ST57TS & ST58CV & ST58SA & ST58TA & ST58TS & ST59CV & ST59SA & ST59TA & ST59TS & ST5SV & ST60CV & ST60SA & ST60TA & ST60TS & ST61SV & ST62CV & ST62SA & ST62TA & ST62TS & ST64CV & ST64SA & ST64TA & ST64TS & ST65SV & ST68SV & ST69SV & ST6SV & ST70SV & ST71SV & ST72CV & ST72SA & ST72TA & ST72TS & ST73CV & ST73SA & ST73TA & ST73TS & ST74CV & ST74SA & ST74TA & ST74TS & ST75SV & ST76SV & ST77SV & ST78SV & ST79SV & ST7SV & ST80SV & ST82CV & ST82SA & ST82TA & ST82TS & ST83CV & ST83SA & ST83TA & ST83TS & ST84CV & ST84SA & ST84TA & ST84TS & ST85CV & ST85SA & ST85TA & ST85TS & ST86SA & ST88SV & ST89SV & ST90CV & ST90SA & ST90TA & ST90TS & ST91CV & ST91SA & ST91TA & ST91TS & ST93CV & ST93SA & ST93TA & ST93TS & ST94CV & ST94SA & ST94TA & ST94TS & ST95CV & ST95SA & ST95TA & ST95TS & ST96SV & ST97CV & ST97SA & ST97TA & ST97TS & ST98CV & ST98SA & ST98TA & ST98TS & ST99CV & ST99SA & ST99TA & ST99TS & ST9SV & DX.12\\\\\n",
       "  & <labelled> & <labelled> & <labelled> & <labelled> & <labelled> & <labelled> & <labelled> & <labelled> & <labelled> & <labelled> & <dbl> & <dbl> & <dbl> & <dbl> & <dbl> & <dbl> & <dbl> & <dbl> & <dbl> & <dbl> & <dbl> & <dbl> & <dbl> & <dbl> & <dbl> & <dbl> & <dbl> & <dbl> & <dbl> & <dbl> & <dbl> & <dbl> & <dbl> & <dbl> & <dbl> & <dbl> & <dbl> & <dbl> & <dbl> & <dbl> & <dbl> & <dbl> & <dbl> & <dbl> & <dbl> & <dbl> & <dbl> & <dbl> & <dbl> & <dbl> & <dbl> & <dbl> & <dbl> & <dbl> & <dbl> & <dbl> & <dbl> & <dbl> & <dbl> & <dbl> & <dbl> & <dbl> & <dbl> & <dbl> & <dbl> & <dbl> & <dbl> & <dbl> & <dbl> & <dbl> & <dbl> & <dbl> & <dbl> & <dbl> & <dbl> & <dbl> & <dbl> & <dbl> & <dbl> & <dbl> & <dbl> & <dbl> & <dbl> & <dbl> & <dbl> & <dbl> & <dbl> & <dbl> & <dbl> & <dbl> & <dbl> & <dbl> & <dbl> & <dbl> & <dbl> & <dbl> & <dbl> & <dbl> & <dbl> & <dbl> & <dbl> & <dbl> & <dbl> & <dbl> & <dbl> & <dbl> & <dbl> & <dbl> & <dbl> & <dbl> & <dbl> & <dbl> & <dbl> & <dbl> & <dbl> & <dbl> & <dbl> & <dbl> & <dbl> & <dbl> & <dbl> & <dbl> & <dbl> & <dbl> & <dbl> & <dbl> & <dbl> & <dbl> & <dbl> & <dbl> & <dbl> & <dbl> & <dbl> & <dbl> & <dbl> & <dbl> & <dbl> & <dbl> & <dbl> & <dbl> & <dbl> & <dbl> & <dbl> & <dbl> & <dbl> & <dbl> & <dbl> & <dbl> & <dbl> & <dbl> & <dbl> & <dbl> & <dbl> & <dbl> & <dbl> & <dbl> & <dbl> & <dbl> & <dbl> & <dbl> & <dbl> & <dbl> & <dbl> & <dbl> & <dbl> & <dbl> & <dbl> & <dbl> & <dbl> & <dbl> & <dbl> & <dbl> & <dbl> & <dbl> & <dbl> & <dbl> & <dbl> & <dbl> & <dbl> & <dbl> & <dbl> & <dbl> & <dbl> & <dbl> & <dbl> & <dbl> & <dbl> & <dbl> & <dbl> & <dbl> & <dbl> & <dbl> & <dbl> & <dbl> & <dbl> & <dbl> & <dbl> & <dbl> & <dbl> & <dbl> & <dbl> & <dbl> & <dbl> & <dbl> & <dbl> & <dbl> & <dbl> & <dbl> & <dbl> & <dbl> & <dbl> & <dbl> & <dbl> & <dbl> & <dbl> & <dbl> & <dbl> & <dbl> & <dbl> & <dbl> & <dbl> & <dbl> & <dbl> & <dbl> & <dbl> & <dbl> & <dbl> & <dbl> & <dbl> & <dbl> & <dbl> & <dbl> & <dbl> & <dbl> & <dbl> & <dbl> & <dbl> & <dbl> & <dbl> & <dbl> & <dbl> & <dbl> & <dbl> & <dbl> & <dbl> & <dbl> & <dbl> & <dbl> & <dbl> & <dbl> & <dbl> & <dbl> & <dbl> & <dbl> & <dbl> & <dbl> & <dbl> & <dbl> & <dbl> & <dbl> & <dbl> & <dbl> & <dbl> & <dbl> & <dbl> & <dbl> & <dbl> & <dbl> & <dbl> & <dbl> & <dbl> & <dbl> & <dbl> & <dbl> & <dbl> & <dbl> & <dbl> & <dbl> & <dbl> & <dbl> & <dbl> & <dbl> & <dbl> & <dbl> & <dbl> & <dbl> & <dbl> & <dbl> & <dbl> & <dbl> & <dbl> & <dbl> & <dbl> & <dbl> & <dbl> & <dbl> & <dbl> & <dbl> & <dbl> & <dbl> & <dbl> & <dbl> & <dbl> & <dbl> & <dbl> & <dbl> & <dbl> & <dbl> & <dbl> & <dbl> & <dbl> & <dbl> & <dbl> & <dbl> & <dbl> & <dbl> & <dbl> & <dbl> & <dbl> & <dbl> & <dbl> & <dbl> & <dbl> & <dbl> & <dbl> & <dbl> & <dbl> & <dbl> & <dbl> & <dbl> & <dbl> & <dbl> & <dbl> & <dbl> & <dbl> & <fct>\\\\\n",
       "\\hline\n",
       "\t1 & 73.9 & Female & 12 & 1 & 5.0 & 12.33 & 24.33 & 24 & 20 &  0 & 1523 & 3153 & 1589 & 1.922 & 0.622 & 1703 & 652 & 2.400 & 0.699 & 3559 & 1516 & 2.230 & 0.542 & 2737 & 828 & 2.687 & 0.805 & 2483 & 1266 & 1.857 & 0.564 & 2054 & 1570 & 1.373 & 0.333 & 7197 & 3691 & 1.771 & 0.688 & 2526 & 1078 & 2.323 & 0.698 & 1471184 & 10713 & 5046 & 2.066 & 0.627 & 6131 & 3164 & 1.918 & 0.584 & 3252 & 1643 & 635 & 2.610 & 0.846 & 11692 & 5230 & 2.082 & 0.610 & 17940 & 6422 & 2.567 & 0.599 & 12086 & 5690 & 1.949 & 0.585 &  8411 & 3236 & 2.298 & 0.647 & 9016 & 3712 & 2.334 & 0.557 & 2195 & 365 & 4.070 & 0.517 & 350 & 5537 & 656 & 239 & 2.319 & 0.599 & 5366 & 5219 & 0.927 & 1.383 & 3453 & 1061 & 6146 & 5357 & 1968 & 2.734 & 0.865 & 841 & 5584 & 1892 & 2.941 & 0.917 & 2021 & 1018 & 2.169 & 0.490 & 1839 & 659 & 2.882 & 0.868 & 4119 & 1694 & 2.371 & 0.553 & 3180 & 32552 & 36871 & 171222 & 22970 & 283732 & 2432 & 2107 & 1230 & 1.631 & 0.378 & 1629 & 270 & 3.941 & 0.568 & 595 & 204 & 2.266 & 0.451 & 8550 & 2949 & 2.678 & 0.671 & 87184.6 & 2662 & 844 &  423 & 12009 & 5354 & 2.156 & 0.561 &  9645 & 3074 & 2.784 & 0.694 & 2058 & 873 & 2.372 & 0.634 & 13654 & 6019 & 2.132 & 0.655 & 6457 & 2456 & 2.557 & 0.809 & 12598 & 4761 & 2666 & 1.778 & 0.550 & 4158 & 1775 & 2.264 & 0.669 & 339 &  9674 & 3036 & 2.707 & 0.623 & 1716 & 2525 & 1225 & 1.885 & 0.705 & 2288 & 726 & 2.704 & 0.805 & 3607 & 1454 & 2.312 & 0.513 & 1696 & 437 & 2.960 & 0.805 & 2810 & 1165 & 2.217 & 0.566 & 1626 & 1322 & 1.272 & 0.279 & 8298 & 4592 & 1.759 & 0.623 & 327 & 3136 & 1231 & 2.543 & 0.482 &  9708 & 5002 & 1.861 & 0.671 & 6410 & 3132 & 2.015 & 0.558 & 3483 & 2005 & 624 & 2.830 & 0.694 & 13743 & 5927 & 2.185 & 0.619 & 16560 & 6333 & 2.514 & 0.660 & 11384 & 5439 & 1.987 & 0.570 &  8602 & 3269 & 2.391 & 0.702 & 7087 & 3007 & 2.328 & 0.526 & 316 & 1885 & 365 & 3.600 & 0.624 & 5810 &  820 & 379 & 1.965 & 0.400 & 5702 & 5418 & 0.962 & 1.466 & 3651 & 32 & 411 &  947 & 430 &  831 & 2486 & 1088 & 2.344 & 0.521 & 1988 & 692 & 2.832 & 0.691 & 3519 & 1643 & 2.039 & 0.516 & 2786 & 33615 & 35643 & 160438 & 287821 & 1167 & 2377 & 2489 & 1235 & 1.784 & 0.570 & 1164 & 222 & 3.163 & 0.781 & 697 & 227 & 2.281 & 0.626 &  8085 & 2777 & 2.693 & 0.634 & 85478.9 & 2310 &  329 & 11058 & 4861 & 2.168 & 0.534 &  9696 & 3237 & 2.653 & 0.734 & 1365 & 593 & 2.179 & 0.624 & 10120 & 4767 & 1.996 & 0.609 & 6613 & 2360 & 2.652 & 0.726 & 12726 & 5275 & 2964 & 1.776 & 0.581 & 2999 & 1341 & 2.122 & 0.532 & 10626 & 3535 & 2.620 & 0.613 &  963 & Dementia\\\\\n",
       "\t3 & 73.9 & Female & 12 & 1 & 4.0 & 23.33 & 35.33 & 25 & 21 & 12 & 1513 & 3097 & 1569 & 1.885 & 0.624 & 1665 & 637 & 2.377 & 0.745 & 3158 & 1503 & 2.050 & 0.638 & 2636 & 833 & 2.573 & 0.848 & 2442 & 1293 & 1.828 & 0.511 & 2012 & 1607 & 1.330 & 0.320 & 6661 & 3668 & 1.664 & 0.678 & 2379 & 1057 & 2.203 & 0.695 & 1467272 &  9710 & 4953 & 1.913 & 0.635 & 5581 & 3242 & 1.772 & 0.532 & 3311 & 1691 & 630 & 2.635 & 0.805 & 10978 & 5206 & 1.981 & 0.608 & 17032 & 6521 & 2.459 & 0.652 & 11071 & 5805 & 1.806 & 0.542 &  8136 & 3329 & 2.200 & 0.684 & 8249 & 3721 & 2.174 & 0.575 & 2028 & 376 & 3.710 & 0.526 & 305 & 5240 & 600 & 233 & 2.206 & 0.587 & 5388 & 5207 & 0.954 & 1.422 & 3324 & 1208 & 7955 & 5261 & 1905 & 2.730 & 0.936 & 843 & 5279 & 1899 & 2.751 & 0.943 & 1638 &  997 & 1.780 & 0.490 & 1778 & 654 & 2.749 & 0.844 & 3832 & 1699 & 2.236 & 0.558 & 3084 & 35882 & 32462 & 169438 & 22765 & 275172 & 2473 & 1928 & 1170 & 1.552 & 0.351 & 1383 & 249 & 3.566 & 0.665 & 583 & 181 & 2.344 & 0.515 & 7609 & 2836 & 2.495 & 0.713 & 86315.7 & 2758 & 816 &  605 & 10446 & 5304 & 1.931 & 0.589 &  8687 & 3015 & 2.576 & 0.777 & 1861 & 843 & 2.226 & 0.606 & 12252 & 6144 & 1.927 & 0.567 & 6235 & 2448 & 2.464 & 0.788 & 14712 & 4457 & 2568 & 1.712 & 0.515 & 4151 & 1678 & 2.351 & 0.755 & 327 &  8524 & 3086 & 2.393 & 0.666 & 1693 & 2368 & 1236 & 1.783 & 0.610 & 2130 & 680 & 2.640 & 0.857 & 3254 & 1402 & 2.177 & 0.579 & 1660 & 420 & 2.943 & 0.981 & 2611 & 1127 & 2.117 & 0.548 & 1653 & 1316 & 1.307 & 0.325 & 7884 & 4602 & 1.685 & 0.594 & 325 & 2967 & 1236 & 2.415 & 0.603 &  8705 & 4941 & 1.706 & 0.632 & 5581 & 3120 & 1.775 & 0.583 & 3397 & 1916 & 599 & 2.809 & 0.740 & 12769 & 5872 & 2.036 & 0.645 & 15795 & 6270 & 2.391 & 0.670 &  9949 & 5421 & 1.777 & 0.537 &  7753 & 3284 & 2.194 & 0.722 & 6116 & 3042 & 2.052 & 0.583 & 283 & 1736 & 364 & 3.356 & 0.655 & 5783 &  804 & 358 & 2.033 & 0.459 & 5663 & 5380 & 0.978 & 1.473 & 3567 & 67 & 421 &  930 & 433 &  895 & 2340 & 1123 & 2.190 & 0.488 & 1814 & 691 & 2.498 & 0.717 & 3263 & 1670 & 1.906 & 0.529 & 2858 & 35364 & 32116 & 161386 & 276618 & 1230 & 2511 & 2482 & 1291 & 1.734 & 0.583 & 1029 & 207 & 3.082 & 0.855 & 763 & 233 & 2.377 & 0.686 &  8033 & 2789 & 2.697 & 0.581 & 86086.6 & 2160 &  563 &  9865 & 4939 & 1.955 & 0.566 &  9336 & 3258 & 2.539 & 0.724 & 1251 & 613 & 2.029 & 0.544 & 10279 & 4786 & 2.054 & 0.603 & 6339 & 2359 & 2.531 & 0.766 & 15395 & 5377 & 3008 & 1.797 & 0.579 & 2938 & 1316 & 2.113 & 0.565 & 10033 & 3593 & 2.479 & 0.665 & 1046 & Dementia\\\\\n",
       "\t5 & 69.3 & Male   & 14 & 1 & 4.5 & 26.67 & 38.67 & 22 & 19 &  0 & 1526 & 2937 & 1542 & 1.892 & 0.557 & 1258 & 637 & 1.778 & 0.583 & 2483 & 1223 & 1.938 & 0.553 & 1880 & 794 & 1.986 & 0.614 & 3012 & 1631 & 1.824 & 0.523 & 1758 & 1379 & 1.441 & 0.440 & 6581 & 3935 & 1.642 & 0.564 & 2825 & 1300 & 2.266 & 0.685 & 1505151 & 10083 & 5199 & 1.952 & 0.665 & 7324 & 3726 & 2.032 & 0.608 & 4102 & 1620 & 637 & 2.273 & 0.801 & 12206 & 6138 & 1.917 & 0.604 & 13437 & 5719 & 2.203 & 0.656 & 10533 & 5688 & 1.810 & 0.526 &  8038 & 3264 & 2.213 & 0.707 & 6225 & 3208 & 1.968 & 0.596 & 1664 & 519 & 2.873 & 0.703 & 172 & 6042 & 458 & 279 & 1.655 & 0.457 & 5636 & 6072 & 0.840 & 1.270 & 3505 & 1942 & 3203 & 4827 & 2084 & 2.394 & 0.893 & 779 & 4949 & 2041 & 2.401 & 0.811 & 1998 & 1054 & 2.103 & 0.539 &  982 & 471 & 2.246 & 0.911 & 4340 & 2056 & 2.148 & 0.537 & 2065 & 36252 & 33988 & 147451 & 22354 & 247604 & 2349 & 2452 & 1519 & 1.688 & 0.550 &  892 & 362 & 1.973 & 0.685 & 421 & 172 & 1.938 & 0.533 & 9671 & 3802 & 2.317 & 0.776 & 90361.3 & 2759 & 710 & 1485 &  9605 & 4659 & 2.060 & 0.650 &  6997 & 2781 & 2.383 & 0.712 & 1963 & 884 & 2.314 & 0.630 & 10880 & 5101 & 2.005 & 0.581 & 5065 & 2383 & 2.005 & 0.641 & 21224 & 5290 & 2868 & 1.764 & 0.605 & 3373 & 1513 & 2.149 & 0.840 & 355 &  7174 & 2885 & 2.246 & 0.777 & 1826 & 2672 & 1449 & 1.918 & 0.650 & 1460 & 684 & 1.838 & 0.595 & 3692 & 1761 & 1.974 & 0.508 & 1589 & 645 & 2.036 & 0.571 & 1840 & 1054 & 1.822 & 0.536 & 1232 & 1035 & 1.329 & 0.336 & 8015 & 4473 & 1.727 & 0.585 & 368 & 2447 & 1193 & 2.085 & 0.580 & 12069 & 6102 & 1.987 & 0.645 & 6948 & 3723 & 1.908 & 0.522 & 4002 &  902 & 459 & 1.942 & 1.089 & 10132 & 5682 & 1.725 & 0.536 & 13823 & 6145 & 2.111 & 0.656 &  9583 & 5192 & 1.798 & 0.518 &  9378 & 3973 & 2.197 & 0.634 & 9388 & 4271 & 2.157 & 0.619 & 329 & 1975 & 616 & 2.655 & 0.675 & 5861 &  981 & 609 & 1.560 & 0.380 & 5859 & 5831 & 0.909 & 1.243 & 3672 & 54 & 491 & 1006 & 442 &  859 & 1353 &  781 & 1.939 & 0.585 & 2064 & 860 & 2.501 & 0.747 & 3349 & 1710 & 2.013 & 0.597 & 2469 & 37278 & 32365 & 155122 & 249515 & 1461 & 2236 & 2944 & 1507 & 1.819 & 0.685 & 1455 & 475 & 2.484 & 0.944 & 664 & 230 & 2.252 & 0.501 & 10016 & 3627 & 2.521 & 0.771 & 90395.4 & 2565 & 1308 & 11882 & 5834 & 2.079 & 0.595 &  7733 & 3009 & 2.354 & 0.725 & 1938 & 818 & 2.259 & 0.780 & 10806 & 5151 & 2.030 & 0.594 & 5050 & 2237 & 2.091 & 0.670 & 18041 & 6948 & 3639 & 1.909 & 0.656 & 3197 & 1430 & 2.081 & 0.823 &  8220 & 3247 & 2.306 & 0.666 & 2259 & Dementia\\\\\n",
       "\t8 & 76.3 & Female & 18 & 0 & 0.0 &  4.33 &  9.33 & 30 & 41 &  0 & 1474 & 3580 & 1669 & 2.097 & 0.576 & 1662 & 643 & 2.137 & 0.685 & 3159 & 1242 & 2.326 & 0.563 & 2527 & 697 & 2.987 & 0.826 & 2592 & 1101 & 2.241 & 0.606 & 1961 & 1523 & 1.434 & 0.403 & 9305 & 4663 & 1.815 & 0.634 & 3942 & 1590 & 2.291 & 0.649 & 1619843 & 11561 & 5342 & 2.104 & 0.562 & 7951 & 3852 & 2.001 & 0.599 & 2981 & 1508 & 417 & 2.928 & 0.966 & 14033 & 6139 & 2.113 & 0.638 & 18741 & 7021 & 2.487 & 0.682 & 11312 & 5353 & 2.001 & 0.632 & 10712 & 3881 & 2.484 & 0.791 & 8188 & 3361 & 2.343 & 0.598 & 1930 & 429 & 3.431 & 0.775 & 407 & 6478 & 801 & 287 & 2.375 & 0.489 & 6894 & 5821 & 1.059 & 1.512 & 3057 & 1407 & 4171 & 6005 & 2030 & 2.946 & 1.020 & 995 & 6265 & 2078 & 2.916 & 1.020 & 2134 & 1037 & 2.180 & 0.525 & 2007 & 607 & 3.058 & 0.821 & 8785 & 3659 & 2.344 & 0.608 & 3083 & 34570 & 30883 & 191296 & 17930 & 275916 & 2716 & 2389 & 1463 & 1.599 & 0.396 & 1888 & 430 & 3.123 & 1.048 & 567 & 196 & 2.497 & 0.557 & 8944 & 3273 & 2.502 & 0.780 & 93087.6 & 3291 & 924 &  877 & 13891 & 5597 & 2.316 & 0.612 & 11653 & 3341 & 2.941 & 0.901 & 2021 & 740 & 2.522 & 0.706 & 12541 & 5578 & 2.164 & 0.584 & 6564 & 2385 & 2.740 & 0.960 & 30199 & 5312 & 2814 & 1.811 & 0.619 & 3245 & 1350 & 2.411 & 0.745 & 367 & 11100 & 3680 & 2.666 & 0.669 & 1702 & 2577 & 1279 & 1.969 & 0.579 & 1674 & 668 & 2.091 & 0.670 & 3216 & 1348 & 2.153 & 0.600 & 1532 & 496 & 2.835 & 0.680 & 2450 &  964 & 2.389 & 0.592 & 2138 & 1583 & 1.454 & 0.386 & 8022 & 4231 & 1.777 & 0.627 & 344 & 2646 &  974 & 2.587 & 0.721 & 12494 & 5339 & 2.228 & 0.614 & 9208 & 4303 & 2.052 & 0.606 & 3791 & 2505 & 682 & 3.018 & 1.012 & 12479 & 5568 & 2.124 & 0.679 & 17776 & 6466 & 2.506 & 0.673 & 12304 & 5965 & 1.975 & 0.578 & 11598 & 4055 & 2.536 & 0.682 & 8290 & 3658 & 2.192 & 0.632 & 255 & 1680 & 303 & 3.621 & 0.846 & 6309 & 1009 & 387 & 2.278 & 0.513 & 6327 & 5685 & 1.004 & 1.506 & 3129 & 53 & 412 &  829 & 436 & 1203 & 3213 & 1440 & 2.377 & 0.543 & 2153 & 891 & 2.309 & 0.751 & 6674 & 2562 & 2.479 & 0.590 & 2384 & 36835 & 28982 & 193066 & 279218 & 1385 & 3027 & 2694 & 1551 & 1.683 & 0.489 & 1694 & 310 & 3.429 & 0.887 & 483 & 159 & 2.245 & 0.634 &  7640 & 2804 & 2.492 & 0.753 & 94768.1 & 3595 &  419 & 15970 & 6873 & 2.203 & 0.605 & 10348 & 2971 & 2.993 & 0.808 & 2161 & 721 & 2.683 & 0.827 &  9583 & 4518 & 2.023 & 0.572 & 6311 & 2316 & 2.798 & 0.905 & 23696 & 6635 & 3491 & 1.785 & 0.608 & 4610 & 2059 & 2.120 & 0.689 & 13199 & 4061 & 2.790 & 0.772 &  893 & CN      \\\\\n",
       "\t10 & 76.3 & Female & 18 & 0 & 0.0 &  4.33 &  9.33 & 29 & 34 & 12 & 1515 & 3500 & 1684 & 2.060 & 0.640 & 1578 & 628 & 2.084 & 0.742 & 2910 & 1266 & 2.136 & 0.591 & 2411 & 706 & 2.873 & 0.851 & 2495 & 1067 & 2.241 & 0.606 & 1919 & 1539 & 1.392 & 0.370 & 9168 & 4671 & 1.792 & 0.690 & 3925 & 1636 & 2.281 & 0.699 & 1610467 & 11005 & 5366 & 1.994 & 0.576 & 7980 & 3862 & 1.996 & 0.626 & 2985 & 1516 & 422 & 2.946 & 0.986 & 14108 & 6127 & 2.142 & 0.646 & 18704 & 7039 & 2.485 & 0.730 & 10877 & 5262 & 1.970 & 0.648 & 10917 & 3869 & 2.521 & 0.807 & 8099 & 3315 & 2.341 & 0.660 & 1997 & 377 & 3.758 & 0.704 & 434 & 6199 & 813 & 288 & 2.383 & 0.493 & 6419 & 5783 & 1.023 & 1.470 & 2997 & 1373 & 4270 & 5980 & 2039 & 2.935 & 1.021 & 947 & 6208 & 2042 & 2.918 & 1.022 & 2141 & 1055 & 2.171 & 0.555 & 2154 & 607 & 3.260 & 0.888 & 8968 & 3676 & 2.367 & 0.604 & 3142 & 34377 & 30513 & 189724 & 17712 & 272423 & 2449 & 2305 & 1471 & 1.532 & 0.346 & 1772 & 422 & 3.016 & 1.029 & 604 & 189 & 2.695 & 0.407 & 8536 & 3225 & 2.443 & 0.764 & 93192.5 & 3179 & 883 & 1021 & 14034 & 5557 & 2.348 & 0.623 & 11157 & 3259 & 2.846 & 0.881 & 1944 & 744 & 2.447 & 0.662 & 12458 & 5699 & 2.088 & 0.631 & 6303 & 2444 & 2.578 & 0.908 & 30604 & 5221 & 2819 & 1.745 & 0.634 & 3116 & 1352 & 2.309 & 0.704 & 350 & 10839 & 3643 & 2.609 & 0.679 & 1737 & 2529 & 1302 & 1.952 & 0.577 & 1656 & 672 & 2.016 & 0.723 & 3278 & 1331 & 2.243 & 0.615 & 1434 & 513 & 2.638 & 0.583 & 2380 &  936 & 2.371 & 0.663 & 2031 & 1580 & 1.370 & 0.352 & 8037 & 4181 & 1.788 & 0.660 & 368 & 2578 &  994 & 2.538 & 0.748 & 12674 & 5324 & 2.243 & 0.608 & 9242 & 4352 & 2.059 & 0.610 & 3844 & 2467 & 703 & 2.950 & 1.149 & 12449 & 5620 & 2.107 & 0.652 & 17559 & 6516 & 2.500 & 0.687 & 12260 & 5960 & 1.997 & 0.575 & 11196 & 3997 & 2.461 & 0.709 & 8141 & 3665 & 2.133 & 0.603 & 245 & 1656 & 304 & 3.556 & 0.810 & 6274 & 1023 & 380 & 2.294 & 0.516 & 6201 & 5742 & 0.971 & 1.470 & 3136 & 37 & 402 &  691 & 479 & 1328 & 3246 & 1440 & 2.362 & 0.503 & 2238 & 862 & 2.349 & 0.880 & 6501 & 2558 & 2.435 & 0.627 & 2480 & 36042 & 29366 & 192392 & 280648 & 1452 & 3031 & 2646 & 1552 & 1.656 & 0.466 & 1620 & 322 & 3.251 & 0.774 & 505 & 156 & 2.355 & 0.656 &  7293 & 2715 & 2.415 & 0.823 & 94296.0 & 3631 &  472 & 15522 & 6908 & 2.164 & 0.603 & 10032 & 2911 & 2.955 & 0.876 & 2049 & 735 & 2.530 & 0.822 &  9083 & 4513 & 1.925 & 0.585 & 6232 & 2273 & 2.784 & 0.916 & 24251 & 6766 & 3434 & 1.810 & 0.631 & 4599 & 2050 & 2.150 & 0.752 & 12979 & 3996 & 2.741 & 0.793 &  877 & CN      \\\\\n",
       "\\end{tabular}\n"
      ],
      "text/markdown": [
       "\n",
       "A data.frame: 5 × 336\n",
       "\n",
       "| <!--/--> | AGE &lt;labelled&gt; | PTGENDER &lt;labelled&gt; | PTEDUCAT &lt;labelled&gt; | APOE4 &lt;labelled&gt; | CDRSB &lt;labelled&gt; | ADAS11 &lt;labelled&gt; | ADAS13 &lt;labelled&gt; | MMSE &lt;labelled&gt; | RAVLT.immediate &lt;labelled&gt; | M &lt;labelled&gt; | ⋯ ⋯ | ST98CV &lt;dbl&gt; | ST98SA &lt;dbl&gt; | ST98TA &lt;dbl&gt; | ST98TS &lt;dbl&gt; | ST99CV &lt;dbl&gt; | ST99SA &lt;dbl&gt; | ST99TA &lt;dbl&gt; | ST99TS &lt;dbl&gt; | ST9SV &lt;dbl&gt; | DX.12 &lt;fct&gt; |\n",
       "|---|---|---|---|---|---|---|---|---|---|---|---|---|---|---|---|---|---|---|---|---|---|\n",
       "| 1 | 73.9 | Female | 12 | 1 | 5.0 | 12.33 | 24.33 | 24 | 20 |  0 | ⋯ | 2999 | 1341 | 2.122 | 0.532 | 10626 | 3535 | 2.620 | 0.613 |  963 | Dementia |\n",
       "| 3 | 73.9 | Female | 12 | 1 | 4.0 | 23.33 | 35.33 | 25 | 21 | 12 | ⋯ | 2938 | 1316 | 2.113 | 0.565 | 10033 | 3593 | 2.479 | 0.665 | 1046 | Dementia |\n",
       "| 5 | 69.3 | Male   | 14 | 1 | 4.5 | 26.67 | 38.67 | 22 | 19 |  0 | ⋯ | 3197 | 1430 | 2.081 | 0.823 |  8220 | 3247 | 2.306 | 0.666 | 2259 | Dementia |\n",
       "| 8 | 76.3 | Female | 18 | 0 | 0.0 |  4.33 |  9.33 | 30 | 41 |  0 | ⋯ | 4610 | 2059 | 2.120 | 0.689 | 13199 | 4061 | 2.790 | 0.772 |  893 | CN       |\n",
       "| 10 | 76.3 | Female | 18 | 0 | 0.0 |  4.33 |  9.33 | 29 | 34 | 12 | ⋯ | 4599 | 2050 | 2.150 | 0.752 | 12979 | 3996 | 2.741 | 0.793 |  877 | CN       |\n",
       "\n"
      ],
      "text/plain": [
       "   AGE  PTGENDER PTEDUCAT APOE4 CDRSB ADAS11 ADAS13 MMSE RAVLT.immediate M  ⋯\n",
       "1  73.9 Female   12       1     5.0   12.33  24.33  24   20               0 ⋯\n",
       "3  73.9 Female   12       1     4.0   23.33  35.33  25   21              12 ⋯\n",
       "5  69.3 Male     14       1     4.5   26.67  38.67  22   19               0 ⋯\n",
       "8  76.3 Female   18       0     0.0    4.33   9.33  30   41               0 ⋯\n",
       "10 76.3 Female   18       0     0.0    4.33   9.33  29   34              12 ⋯\n",
       "   ST98CV ST98SA ST98TA ST98TS ST99CV ST99SA ST99TA ST99TS ST9SV DX.12   \n",
       "1  2999   1341   2.122  0.532  10626  3535   2.620  0.613   963  Dementia\n",
       "3  2938   1316   2.113  0.565  10033  3593   2.479  0.665  1046  Dementia\n",
       "5  3197   1430   2.081  0.823   8220  3247   2.306  0.666  2259  Dementia\n",
       "8  4610   2059   2.120  0.689  13199  4061   2.790  0.772   893  CN      \n",
       "10 4599   2050   2.150  0.752  12979  3996   2.741  0.793   877  CN      "
      ]
     },
     "metadata": {},
     "output_type": "display_data"
    }
   ],
   "source": [
    "test_merge.M12 <- test_merge.M12 %>%\n",
    "    select(-c(RID, VISCODE, DX)) %>%\n",
    "    transform(DX.12 = unlist(DX.12))\n",
    "test_merge.M12 <- test_merge.M12[test_merge.M12$DX.12 != \"MCI\",]\n",
    "test_merge.M12$DX.12 <- factor(test_merge.M12$DX.12)\n",
    "test_merge.M12[1:5,]"
   ]
  },
  {
   "cell_type": "code",
   "execution_count": 28,
   "metadata": {},
   "outputs": [],
   "source": [
    "m12_cv_model <- train(DX.12 ~ . , data = test_merge.M12, method = \"glmnet\", trControl = cctrl1,metric = \"ROC\",\n",
    "                             tuneGrid = expand.grid(alpha = 1,lambda = seq(0.001,0.1,by = 0.001)))"
   ]
  },
  {
   "cell_type": "code",
   "execution_count": 29,
   "metadata": {},
   "outputs": [
    {
     "data": {
      "text/plain": [
       "glmnet \n",
       "\n",
       "951 samples\n",
       "335 predictors\n",
       "  2 classes: 'CN', 'Dementia' \n",
       "\n",
       "No pre-processing\n",
       "Resampling: Cross-Validated (10 fold) \n",
       "Summary of sample sizes: 855, 856, 856, 856, 857, 856, ... \n",
       "Resampling results across tuning parameters:\n",
       "\n",
       "  lambda  ROC        Sens       Spec       \n",
       "  0.001   0.6806323  0.7308897  0.563360324\n",
       "  0.002   0.6897585  0.7326754  0.571322537\n",
       "  0.003   0.6923343  0.7362469  0.547638327\n",
       "  0.004   0.6895702  0.7433271  0.531983806\n",
       "  0.005   0.6858850  0.7573622  0.516194332\n",
       "  0.006   0.6824650  0.7714599  0.484615385\n",
       "  0.007   0.6808709  0.7750000  0.466396761\n",
       "  0.008   0.6776963  0.7785088  0.445344130\n",
       "  0.009   0.6745011  0.7925439  0.421794872\n",
       "  0.010   0.6733465  0.7977757  0.392982456\n",
       "  0.011   0.6726473  0.8083333  0.374561404\n",
       "  0.012   0.6735252  0.8135965  0.353778677\n",
       "  0.013   0.6722972  0.8171053  0.335492578\n",
       "  0.014   0.6702457  0.8259085  0.324966262\n",
       "  0.015   0.6692002  0.8347431  0.322334683\n",
       "  0.016   0.6659739  0.8347431  0.314507422\n",
       "  0.017   0.6627006  0.8435464  0.309244265\n",
       "  0.018   0.6600765  0.8488409  0.298717949\n",
       "  0.019   0.6568006  0.8506266  0.282928475\n",
       "  0.020   0.6537780  0.8576754  0.272402159\n",
       "  0.021   0.6491749  0.8594298  0.264507422\n",
       "  0.022   0.6464767  0.8700188  0.259244265\n",
       "  0.023   0.6443093  0.8752820  0.256612686\n",
       "  0.024   0.6421213  0.8840539  0.253981107\n",
       "  0.025   0.6395486  0.8858083  0.243454791\n",
       "  0.026   0.6364565  0.8875627  0.222672065\n",
       "  0.027   0.6346516  0.8910714  0.220107962\n",
       "  0.028   0.6346422  0.9015977  0.212213225\n",
       "  0.029   0.6343106  0.9033521  0.204385965\n",
       "  0.030   0.6340732  0.9103697  0.196491228\n",
       "  0.031   0.6333832  0.9173872  0.180701754\n",
       "  0.032   0.6316792  0.9191416  0.172874494\n",
       "  0.033   0.6295539  0.9244361  0.167611336\n",
       "  0.034   0.6269610  0.9385338  0.149190283\n",
       "  0.035   0.6248328  0.9420426  0.136167341\n",
       "  0.036   0.6209909  0.9420426  0.128272605\n",
       "  0.037   0.6189100  0.9490915  0.109986505\n",
       "  0.038   0.6156647  0.9561090  0.107354926\n",
       "  0.039   0.6135856  0.9596178  0.102091768\n",
       "  0.040   0.6107205  0.9596178  0.096828610\n",
       "  0.041   0.6090452  0.9648810  0.091632928\n",
       "  0.042   0.6073766  0.9666353  0.083738192\n",
       "  0.043   0.6048210  0.9684211  0.075843455\n",
       "  0.044   0.6032161  0.9701754  0.070715250\n",
       "  0.045   0.6005993  0.9754386  0.057557355\n",
       "  0.046   0.5990415  0.9789474  0.054925776\n",
       "  0.047   0.5969302  0.9807018  0.044466937\n",
       "  0.048   0.5947167  0.9877193  0.036572200\n",
       "  0.049   0.5927872  0.9894737  0.028677463\n",
       "  0.050   0.5914179  0.9894737  0.018286100\n",
       "  0.051   0.5890691  0.9912281  0.013157895\n",
       "  0.052   0.5872198  0.9929825  0.002631579\n",
       "  0.053   0.5854238  0.9964912  0.002631579\n",
       "  0.054   0.5837597  0.9964912  0.000000000\n",
       "  0.055   0.5829646  0.9964912  0.000000000\n",
       "  0.056   0.5807567  0.9964912  0.000000000\n",
       "  0.057   0.5786830  0.9982456  0.000000000\n",
       "  0.058   0.5760095  0.9982456  0.000000000\n",
       "  0.059   0.5739708  0.9982456  0.000000000\n",
       "  0.060   0.5717246  1.0000000  0.000000000\n",
       "  0.061   0.5695137  1.0000000  0.000000000\n",
       "  0.062   0.5672160  1.0000000  0.000000000\n",
       "  0.063   0.5643948  1.0000000  0.000000000\n",
       "  0.064   0.5621868  1.0000000  0.000000000\n",
       "  0.065   0.5544823  1.0000000  0.000000000\n",
       "  0.066   0.5529544  1.0000000  0.000000000\n",
       "  0.067   0.5491799  1.0000000  0.000000000\n",
       "  0.068   0.5448456  1.0000000  0.000000000\n",
       "  0.069   0.5414714  1.0000000  0.000000000\n",
       "  0.070   0.5395785  1.0000000  0.000000000\n",
       "  0.071   0.5266515  1.0000000  0.000000000\n",
       "  0.072   0.5158943  1.0000000  0.000000000\n",
       "  0.073   0.5159866  1.0000000  0.000000000\n",
       "  0.074   0.5158020  1.0000000  0.000000000\n",
       "  0.075   0.5028358  1.0000000  0.000000000\n",
       "  0.076   0.4926131  1.0000000  0.000000000\n",
       "  0.077   0.4921976  1.0000000  0.000000000\n",
       "  0.078   0.4855494  1.0000000  0.000000000\n",
       "  0.079   0.4857572  1.0000000  0.000000000\n",
       "  0.080   0.4857572  1.0000000  0.000000000\n",
       "  0.081   0.4857572  1.0000000  0.000000000\n",
       "  0.082   0.4857572  1.0000000  0.000000000\n",
       "  0.083   0.4896353  1.0000000  0.000000000\n",
       "  0.084   0.4896353  1.0000000  0.000000000\n",
       "  0.085   0.4896353  1.0000000  0.000000000\n",
       "  0.086   0.4896353  1.0000000  0.000000000\n",
       "  0.087   0.5000000  1.0000000  0.000000000\n",
       "  0.088   0.5000000  1.0000000  0.000000000\n",
       "  0.089   0.5000000  1.0000000  0.000000000\n",
       "  0.090   0.5000000  1.0000000  0.000000000\n",
       "  0.091   0.5000000  1.0000000  0.000000000\n",
       "  0.092   0.5000000  1.0000000  0.000000000\n",
       "  0.093   0.5000000  1.0000000  0.000000000\n",
       "  0.094   0.5000000  1.0000000  0.000000000\n",
       "  0.095   0.5000000  1.0000000  0.000000000\n",
       "  0.096   0.5000000  1.0000000  0.000000000\n",
       "  0.097   0.5000000  1.0000000  0.000000000\n",
       "  0.098   0.5000000  1.0000000  0.000000000\n",
       "  0.099   0.5000000  1.0000000  0.000000000\n",
       "  0.100   0.5000000  1.0000000  0.000000000\n",
       "\n",
       "Tuning parameter 'alpha' was held constant at a value of 1\n",
       "ROC was used to select the optimal model using the largest value.\n",
       "The final values used for the model were alpha = 1 and lambda = 0.003."
      ]
     },
     "metadata": {},
     "output_type": "display_data"
    }
   ],
   "source": [
    "m12_cv_model"
   ]
  },
  {
   "cell_type": "code",
   "execution_count": 30,
   "metadata": {},
   "outputs": [
    {
     "name": "stderr",
     "output_type": "stream",
     "text": [
      "Warning message in `[<-.data.frame`(`*tmp*`, inx[matched], value = list(DX.18 = structure(c(3L, :\n",
      "“replacement element 1 has 328 rows to replace 325 rows”"
     ]
    },
    {
     "data": {
      "text/html": [
       "<table>\n",
       "<caption>A data.frame: 5 × 336</caption>\n",
       "<thead>\n",
       "\t<tr><th></th><th scope=col>AGE</th><th scope=col>PTGENDER</th><th scope=col>PTEDUCAT</th><th scope=col>APOE4</th><th scope=col>CDRSB</th><th scope=col>ADAS11</th><th scope=col>ADAS13</th><th scope=col>MMSE</th><th scope=col>RAVLT.immediate</th><th scope=col>M</th><th scope=col>⋯</th><th scope=col>ST98CV</th><th scope=col>ST98SA</th><th scope=col>ST98TA</th><th scope=col>ST98TS</th><th scope=col>ST99CV</th><th scope=col>ST99SA</th><th scope=col>ST99TA</th><th scope=col>ST99TS</th><th scope=col>ST9SV</th><th scope=col>DX.18</th></tr>\n",
       "\t<tr><th></th><th scope=col>&lt;labelled&gt;</th><th scope=col>&lt;labelled&gt;</th><th scope=col>&lt;labelled&gt;</th><th scope=col>&lt;labelled&gt;</th><th scope=col>&lt;labelled&gt;</th><th scope=col>&lt;labelled&gt;</th><th scope=col>&lt;labelled&gt;</th><th scope=col>&lt;labelled&gt;</th><th scope=col>&lt;labelled&gt;</th><th scope=col>&lt;labelled&gt;</th><th scope=col>⋯</th><th scope=col>&lt;dbl&gt;</th><th scope=col>&lt;dbl&gt;</th><th scope=col>&lt;dbl&gt;</th><th scope=col>&lt;dbl&gt;</th><th scope=col>&lt;dbl&gt;</th><th scope=col>&lt;dbl&gt;</th><th scope=col>&lt;dbl&gt;</th><th scope=col>&lt;dbl&gt;</th><th scope=col>&lt;dbl&gt;</th><th scope=col>&lt;fct&gt;</th></tr>\n",
       "</thead>\n",
       "<tbody>\n",
       "\t<tr><th scope=row>2</th><td>73.9</td><td>Female</td><td>12</td><td>1</td><td>2.5</td><td>14.33</td><td>24.33</td><td>26</td><td>20</td><td>6</td><td>⋯</td><td>3073</td><td>1356</td><td>2.161</td><td>0.506</td><td>10045</td><td>3497</td><td>2.517</td><td>0.684</td><td>1021</td><td>Dementia</td></tr>\n",
       "\t<tr><th scope=row>9</th><td>76.3</td><td>Female</td><td>18</td><td>0</td><td>0.0</td><td> 3.67</td><td> 4.67</td><td>30</td><td>45</td><td>6</td><td>⋯</td><td>4683</td><td>2028</td><td>2.177</td><td>0.701</td><td>13154</td><td>3979</td><td>2.771</td><td>0.774</td><td> 862</td><td>CN      </td></tr>\n",
       "\t<tr><th scope=row>19</th><td>75.8</td><td>Male  </td><td>16</td><td>2</td><td>2.0</td><td> 7.67</td><td>10.67</td><td>25</td><td>42</td><td>6</td><td>⋯</td><td>4850</td><td>1924</td><td>2.328</td><td>0.733</td><td>11746</td><td>3431</td><td>2.817</td><td>0.680</td><td>1386</td><td>CN      </td></tr>\n",
       "\t<tr><th scope=row>34</th><td>78.3</td><td>Female</td><td>13</td><td>0</td><td>0.0</td><td> 8.00</td><td>14.00</td><td>27</td><td>42</td><td>6</td><td>⋯</td><td>4269</td><td>1708</td><td>2.447</td><td>0.663</td><td>11500</td><td>3601</td><td>2.754</td><td>0.600</td><td>1310</td><td>CN      </td></tr>\n",
       "\t<tr><th scope=row>40</th><td>70.7</td><td>Female</td><td>13</td><td>0</td><td>2.0</td><td>12.33</td><td>18.33</td><td>27</td><td>23</td><td>6</td><td>⋯</td><td>3679</td><td>1414</td><td>2.299</td><td>0.770</td><td> 9605</td><td>2864</td><td>2.804</td><td>0.663</td><td>2032</td><td>Dementia</td></tr>\n",
       "</tbody>\n",
       "</table>\n"
      ],
      "text/latex": [
       "A data.frame: 5 × 336\n",
       "\\begin{tabular}{r|llllllllllllllllllllllllllllllllllllllllllllllllllllllllllllllllllllllllllllllllllllllllllllllllllllllllllllllllllllllllllllllllllllllllllllllllllllllllllllllllllllllllllllllllllllllllllllllllllllllllllllllllllllllllllllllllllllllllllllllllllllllllllllllllllllllllllllllllllllllllllllllllllllllllllllllllllllllllllllllllllllllllllllllll}\n",
       "  & AGE & PTGENDER & PTEDUCAT & APOE4 & CDRSB & ADAS11 & ADAS13 & MMSE & RAVLT.immediate & M & ST101SV & ST102CV & ST102SA & ST102TA & ST102TS & ST103CV & ST103SA & ST103TA & ST103TS & ST104CV & ST104SA & ST104TA & ST104TS & ST105CV & ST105SA & ST105TA & ST105TS & ST106CV & ST106SA & ST106TA & ST106TS & ST107CV & ST107SA & ST107TA & ST107TS & ST108CV & ST108SA & ST108TA & ST108TS & ST109CV & ST109SA & ST109TA & ST109TS & ST10CV & ST110CV & ST110SA & ST110TA & ST110TS & ST111CV & ST111SA & ST111TA & ST111TS & ST112SV & ST113CV & ST113SA & ST113TA & ST113TS & ST114CV & ST114SA & ST114TA & ST114TS & ST115CV & ST115SA & ST115TA & ST115TS & ST116CV & ST116SA & ST116TA & ST116TS & ST117CV & ST117SA & ST117TA & ST117TS & ST118CV & ST118SA & ST118TA & ST118TS & ST119CV & ST119SA & ST119TA & ST119TS & ST11SV & ST120SV & ST121CV & ST121SA & ST121TA & ST121TS & ST123CV & ST123SA & ST123TA & ST123TS & ST124SV & ST127SV & ST128SV & ST129CV & ST129SA & ST129TA & ST129TS & ST12SV & ST130CV & ST130SA & ST130TA & ST130TS & ST13CV & ST13SA & ST13TA & ST13TS & ST14CV & ST14SA & ST14TA & ST14TS & ST15CV & ST15SA & ST15TA & ST15TS & ST16SV & ST17SV & ST18SV & ST19SV & ST1SV & ST20SV & ST21SV & ST23CV & ST23SA & ST23TA & ST23TS & ST24CV & ST24SA & ST24TA & ST24TS & ST25CV & ST25SA & ST25TA & ST25TS & ST26CV & ST26SA & ST26TA & ST26TS & ST27SA & ST29SV & ST2SV & ST30SV & ST31CV & ST31SA & ST31TA & ST31TS & ST32CV & ST32SA & ST32TA & ST32TS & ST34CV & ST34SA & ST34TA & ST34TS & ST35CV & ST35SA & ST35TA & ST35TS & ST36CV & ST36SA & ST36TA & ST36TS & ST37SV & ST38CV & ST38SA & ST38TA & ST38TS & ST39CV & ST39SA & ST39TA & ST39TS & ST3SV & ST40CV & ST40SA & ST40TA & ST40TS & ST42SV & ST43CV & ST43SA & ST43TA & ST43TS & ST44CV & ST44SA & ST44TA & ST44TS & ST45CV & ST45SA & ST45TA & ST45TS & ST46CV & ST46SA & ST46TA & ST46TS & ST47CV & ST47SA & ST47TA & ST47TS & ST48CV & ST48SA & ST48TA & ST48TS & ST49CV & ST49SA & ST49TA & ST49TS & ST4SV & ST50CV & ST50SA & ST50TA & ST50TS & ST51CV & ST51SA & ST51TA & ST51TS & ST52CV & ST52SA & ST52TA & ST52TS & ST53SV & ST54CV & ST54SA & ST54TA & ST54TS & ST55CV & ST55SA & ST55TA & ST55TS & ST56CV & ST56SA & ST56TA & ST56TS & ST57CV & ST57SA & ST57TA & ST57TS & ST58CV & ST58SA & ST58TA & ST58TS & ST59CV & ST59SA & ST59TA & ST59TS & ST5SV & ST60CV & ST60SA & ST60TA & ST60TS & ST61SV & ST62CV & ST62SA & ST62TA & ST62TS & ST64CV & ST64SA & ST64TA & ST64TS & ST65SV & ST68SV & ST69SV & ST6SV & ST70SV & ST71SV & ST72CV & ST72SA & ST72TA & ST72TS & ST73CV & ST73SA & ST73TA & ST73TS & ST74CV & ST74SA & ST74TA & ST74TS & ST75SV & ST76SV & ST77SV & ST78SV & ST79SV & ST7SV & ST80SV & ST82CV & ST82SA & ST82TA & ST82TS & ST83CV & ST83SA & ST83TA & ST83TS & ST84CV & ST84SA & ST84TA & ST84TS & ST85CV & ST85SA & ST85TA & ST85TS & ST86SA & ST88SV & ST89SV & ST90CV & ST90SA & ST90TA & ST90TS & ST91CV & ST91SA & ST91TA & ST91TS & ST93CV & ST93SA & ST93TA & ST93TS & ST94CV & ST94SA & ST94TA & ST94TS & ST95CV & ST95SA & ST95TA & ST95TS & ST96SV & ST97CV & ST97SA & ST97TA & ST97TS & ST98CV & ST98SA & ST98TA & ST98TS & ST99CV & ST99SA & ST99TA & ST99TS & ST9SV & DX.18\\\\\n",
       "  & <labelled> & <labelled> & <labelled> & <labelled> & <labelled> & <labelled> & <labelled> & <labelled> & <labelled> & <labelled> & <dbl> & <dbl> & <dbl> & <dbl> & <dbl> & <dbl> & <dbl> & <dbl> & <dbl> & <dbl> & <dbl> & <dbl> & <dbl> & <dbl> & <dbl> & <dbl> & <dbl> & <dbl> & <dbl> & <dbl> & <dbl> & <dbl> & <dbl> & <dbl> & <dbl> & <dbl> & <dbl> & <dbl> & <dbl> & <dbl> & <dbl> & <dbl> & <dbl> & <dbl> & <dbl> & <dbl> & <dbl> & <dbl> & <dbl> & <dbl> & <dbl> & <dbl> & <dbl> & <dbl> & <dbl> & <dbl> & <dbl> & <dbl> & <dbl> & <dbl> & <dbl> & <dbl> & <dbl> & <dbl> & <dbl> & <dbl> & <dbl> & <dbl> & <dbl> & <dbl> & <dbl> & <dbl> & <dbl> & <dbl> & <dbl> & <dbl> & <dbl> & <dbl> & <dbl> & <dbl> & <dbl> & <dbl> & <dbl> & <dbl> & <dbl> & <dbl> & <dbl> & <dbl> & <dbl> & <dbl> & <dbl> & <dbl> & <dbl> & <dbl> & <dbl> & <dbl> & <dbl> & <dbl> & <dbl> & <dbl> & <dbl> & <dbl> & <dbl> & <dbl> & <dbl> & <dbl> & <dbl> & <dbl> & <dbl> & <dbl> & <dbl> & <dbl> & <dbl> & <dbl> & <dbl> & <dbl> & <dbl> & <dbl> & <dbl> & <dbl> & <dbl> & <dbl> & <dbl> & <dbl> & <dbl> & <dbl> & <dbl> & <dbl> & <dbl> & <dbl> & <dbl> & <dbl> & <dbl> & <dbl> & <dbl> & <dbl> & <dbl> & <dbl> & <dbl> & <dbl> & <dbl> & <dbl> & <dbl> & <dbl> & <dbl> & <dbl> & <dbl> & <dbl> & <dbl> & <dbl> & <dbl> & <dbl> & <dbl> & <dbl> & <dbl> & <dbl> & <dbl> & <dbl> & <dbl> & <dbl> & <dbl> & <dbl> & <dbl> & <dbl> & <dbl> & <dbl> & <dbl> & <dbl> & <dbl> & <dbl> & <dbl> & <dbl> & <dbl> & <dbl> & <dbl> & <dbl> & <dbl> & <dbl> & <dbl> & <dbl> & <dbl> & <dbl> & <dbl> & <dbl> & <dbl> & <dbl> & <dbl> & <dbl> & <dbl> & <dbl> & <dbl> & <dbl> & <dbl> & <dbl> & <dbl> & <dbl> & <dbl> & <dbl> & <dbl> & <dbl> & <dbl> & <dbl> & <dbl> & <dbl> & <dbl> & <dbl> & <dbl> & <dbl> & <dbl> & <dbl> & <dbl> & <dbl> & <dbl> & <dbl> & <dbl> & <dbl> & <dbl> & <dbl> & <dbl> & <dbl> & <dbl> & <dbl> & <dbl> & <dbl> & <dbl> & <dbl> & <dbl> & <dbl> & <dbl> & <dbl> & <dbl> & <dbl> & <dbl> & <dbl> & <dbl> & <dbl> & <dbl> & <dbl> & <dbl> & <dbl> & <dbl> & <dbl> & <dbl> & <dbl> & <dbl> & <dbl> & <dbl> & <dbl> & <dbl> & <dbl> & <dbl> & <dbl> & <dbl> & <dbl> & <dbl> & <dbl> & <dbl> & <dbl> & <dbl> & <dbl> & <dbl> & <dbl> & <dbl> & <dbl> & <dbl> & <dbl> & <dbl> & <dbl> & <dbl> & <dbl> & <dbl> & <dbl> & <dbl> & <dbl> & <dbl> & <dbl> & <dbl> & <dbl> & <dbl> & <dbl> & <dbl> & <dbl> & <dbl> & <dbl> & <dbl> & <dbl> & <dbl> & <dbl> & <dbl> & <dbl> & <dbl> & <dbl> & <dbl> & <dbl> & <dbl> & <dbl> & <dbl> & <dbl> & <dbl> & <dbl> & <dbl> & <dbl> & <dbl> & <dbl> & <dbl> & <dbl> & <dbl> & <dbl> & <dbl> & <dbl> & <dbl> & <dbl> & <dbl> & <dbl> & <dbl> & <dbl> & <dbl> & <dbl> & <dbl> & <dbl> & <dbl> & <dbl> & <dbl> & <dbl> & <dbl> & <dbl> & <dbl> & <dbl> & <dbl> & <dbl> & <dbl> & <dbl> & <dbl> & <dbl> & <dbl> & <fct>\\\\\n",
       "\\hline\n",
       "\t2 & 73.9 & Female & 12 & 1 & 2.5 & 14.33 & 24.33 & 26 & 20 & 6 & 1524 & 3130 & 1577 & 1.913 & 0.658 & 1746 & 638 & 2.473 & 0.722 & 3304 & 1475 & 2.187 & 0.618 & 2683 & 832 & 2.632 & 0.835 & 2482 & 1289 & 1.833 & 0.523 & 1945 & 1548 & 1.360 & 0.320 & 6794 & 3715 & 1.677 & 0.689 & 2481 & 1084 & 2.259 & 0.687 & 1459656 &  9809 & 5082 & 1.905 & 0.643 & 5399 & 3244 & 1.727 & 0.540 & 3272 & 1565 & 632 & 2.559 & 0.910 & 10901 & 5300 & 1.983 & 0.599 & 16822 & 6631 & 2.437 & 0.622 & 10609 & 5875 & 1.727 & 0.582 &  8255 & 3232 & 2.276 & 0.670 &  8044 & 3659 & 2.165 & 0.595 & 2159 & 404 & 3.778 & 0.528 & 327 & 5423 & 570 & 241 & 2.071 & 0.510 & 5516 & 5226 & 0.953 & 1.408 & 3296 & 1138 & 6866 & 5292 & 1936 & 2.780 & 0.848 &  876 & 5426 & 1852 & 2.905 & 0.963 & 1878 & 1020 & 2.032 & 0.542 & 1806 & 656 & 2.833 & 0.902 & 3757 & 1742 & 2.189 & 0.502 & 3109 & 33793 & 35075 & 170892 & 23010 & 275161 & 2254 & 1997 & 1217 & 1.577 & 0.349 & 1448 & 286 & 3.489 & 0.691 & 569 & 185 & 2.302 & 0.609 &  8290 & 2978 & 2.569 & 0.735 & 87634.9 & 2540 & 816 & 510 & 10910 & 5451 & 1.989 & 0.571 &  9279 & 3046 & 2.700 & 0.686 & 1896 & 865 & 2.208 & 0.628 & 12806 & 6097 & 2.018 & 0.625 & 6369 & 2459 & 2.540 & 0.795 & 13855 & 4823 & 2652 & 1.800 & 0.553 & 4114 & 1741 & 2.267 & 0.698 & 322 &  9115 & 3104 & 2.549 & 0.691 & 1729 & 2470 & 1220 & 1.855 & 0.693 & 2169 & 716 & 2.598 & 0.821 & 3172 & 1421 & 2.118 & 0.578 & 1677 & 444 & 2.926 & 0.870 & 2590 & 1142 & 2.080 & 0.635 & 1610 & 1306 & 1.268 & 0.308 & 8163 & 4574 & 1.761 & 0.646 & 314 & 2892 & 1270 & 2.361 & 0.549 &  9275 & 5053 & 1.805 & 0.619 & 5648 & 3171 & 1.795 & 0.582 & 3324 & 1832 & 561 & 2.806 & 0.670 & 12700 & 6010 & 2.037 & 0.647 & 15562 & 6409 & 2.370 & 0.663 & 10245 & 5428 & 1.831 & 0.566 &  8297 & 3303 & 2.328 & 0.759 &  6486 & 3140 & 2.147 & 0.618 & 302 & 1826 & 356 & 3.505 & 0.616 & 5723 & 756 & 403 & 1.826 & 0.392 & 5485 & 5375 & 0.937 & 1.425 & 3648 & 52 & 443 &  931 & 409 &  818 & 2095 & 1073 & 2.017 & 0.557 & 1883 & 693 & 2.687 & 0.780 & 3317 & 1676 & 1.934 & 0.545 & 2865 & 34494 & 33234 & 159771 & 276841 & 1232 & 2298 & 2442 & 1322 & 1.662 & 0.607 & 1168 & 219 & 3.204 & 0.810 & 682 & 244 & 2.175 & 0.622 & 8026 & 2932 & 2.573 & 0.680 & 86602.1 & 2406 & 509 &  9361 & 4948 & 1.874 & 0.561 &  9309 & 3290 & 2.526 & 0.816 & 1310 & 628 & 2.104 & 0.588 &  9274 & 4877 & 1.869 & 0.532 & 6292 & 2338 & 2.557 & 0.766 & 14132 & 5347 & 3085 & 1.756 & 0.560 & 3073 & 1356 & 2.161 & 0.506 & 10045 & 3497 & 2.517 & 0.684 & 1021 & Dementia\\\\\n",
       "\t9 & 76.3 & Female & 18 & 0 & 0.0 &  3.67 &  4.67 & 30 & 45 & 6 & 1522 & 3476 & 1701 & 1.998 & 0.587 & 1646 & 616 & 2.189 & 0.722 & 3044 & 1275 & 2.237 & 0.522 & 2483 & 718 & 2.875 & 0.819 & 2482 & 1075 & 2.197 & 0.584 & 2039 & 1524 & 1.474 & 0.428 & 9191 & 4704 & 1.794 & 0.650 & 3972 & 1607 & 2.310 & 0.670 & 1619261 & 11302 & 5332 & 2.061 & 0.588 & 7931 & 3831 & 1.974 & 0.611 & 2940 & 1501 & 407 & 2.922 & 0.982 & 14224 & 6132 & 2.137 & 0.620 & 19122 & 6868 & 2.552 & 0.714 & 10967 & 5353 & 1.951 & 0.643 & 10751 & 3869 & 2.491 & 0.766 &  8208 & 3318 & 2.358 & 0.608 & 2085 & 387 & 3.809 & 0.634 & 425 & 6390 & 817 & 292 & 2.340 & 0.450 & 6450 & 5754 & 1.021 & 1.512 & 3046 & 1376 & 4414 & 6049 & 1994 & 2.969 & 1.094 &  978 & 6367 & 2051 & 3.019 & 1.002 & 2106 & 1024 & 2.158 & 0.573 & 2047 & 631 & 3.083 & 0.923 & 9001 & 3517 & 2.406 & 0.653 & 3079 & 34330 & 31494 & 191867 & 17885 & 272050 & 2711 & 2401 & 1458 & 1.609 & 0.410 & 1838 & 430 & 3.096 & 0.994 & 573 & 182 & 2.617 & 0.476 &  8670 & 3192 & 2.480 & 0.775 & 91902.3 & 3096 & 905 & 859 & 13838 & 5509 & 2.316 & 0.622 & 11466 & 3242 & 2.968 & 0.908 & 1995 & 719 & 2.564 & 0.685 & 12410 & 5637 & 2.112 & 0.558 & 6669 & 2401 & 2.717 & 0.937 & 30420 & 5219 & 2777 & 1.798 & 0.598 & 3297 & 1261 & 2.521 & 0.788 & 351 & 11111 & 3521 & 2.699 & 0.711 & 1598 & 2541 & 1307 & 1.920 & 0.601 & 1652 & 656 & 2.069 & 0.721 & 3161 & 1345 & 2.129 & 0.599 & 1540 & 504 & 2.813 & 0.651 & 2491 &  923 & 2.476 & 0.654 & 2143 & 1580 & 1.441 & 0.403 & 7887 & 4278 & 1.731 & 0.633 & 355 & 2589 &  973 & 2.520 & 0.815 & 12514 & 5400 & 2.195 & 0.682 & 9327 & 4252 & 2.085 & 0.613 & 3991 & 2550 & 696 & 2.984 & 1.108 & 12534 & 5412 & 2.149 & 0.704 & 18076 & 6330 & 2.560 & 0.684 & 12358 & 5854 & 2.003 & 0.627 & 11541 & 3956 & 2.534 & 0.755 &  8377 & 3654 & 2.195 & 0.622 & 272 & 1639 & 326 & 3.426 & 0.799 & 6364 & 973 & 368 & 2.240 & 0.518 & 6164 & 5675 & 0.975 & 1.512 & 3256 & 40 & 389 &  845 & 415 & 1185 & 3095 & 1404 & 2.275 & 0.518 & 2218 & 868 & 2.440 & 0.790 & 6476 & 2505 & 2.442 & 0.578 & 2361 & 35826 & 29849 & 192975 & 280881 & 1381 & 3131 & 2628 & 1552 & 1.661 & 0.472 & 1758 & 314 & 3.516 & 0.895 & 506 & 153 & 2.381 & 0.548 & 7327 & 2720 & 2.469 & 0.780 & 93906.0 & 3505 & 365 & 15743 & 6898 & 2.161 & 0.625 & 10337 & 2909 & 3.019 & 0.843 & 2057 & 739 & 2.579 & 0.857 &  9215 & 4420 & 2.001 & 0.558 & 6395 & 2288 & 2.831 & 0.908 & 23946 & 6723 & 3380 & 1.841 & 0.635 & 4683 & 2028 & 2.177 & 0.701 & 13154 & 3979 & 2.771 & 0.774 &  862 & CN      \\\\\n",
       "\t19 & 75.8 & Male   & 16 & 2 & 2.0 &  7.67 & 10.67 & 25 & 42 & 6 & 1611 & 3758 & 1582 & 2.211 & 0.760 & 1673 & 662 & 2.206 & 0.797 & 2943 & 1032 & 2.531 & 0.670 & 1695 & 486 & 2.787 & 0.630 & 4039 & 1502 & 2.376 & 0.624 & 1953 & 1411 & 1.384 & 0.354 & 6771 & 3795 & 1.657 & 0.619 & 3491 & 1295 & 2.514 & 0.615 & 1652104 & 11009 & 4271 & 2.365 & 0.707 & 8219 & 3899 & 2.081 & 0.585 & 4194 & 1467 & 454 & 2.695 & 0.565 & 12319 & 4856 & 2.226 & 0.647 & 19161 & 6596 & 2.627 & 0.605 & 11844 & 4852 & 2.253 & 0.630 &  9514 & 3182 & 2.574 & 0.762 & 10208 & 4125 & 2.295 & 0.641 & 1510 & 293 & 3.906 & 0.621 & 187 & 6197 & 845 & 278 & 2.539 & 0.582 & 6086 & 5335 & 1.051 & 1.515 & 3444 & 1327 & 4742 & 5685 & 2125 & 2.608 & 0.876 &  996 & 5621 & 2000 & 2.670 & 0.945 & 2940 & 1486 & 2.063 & 0.551 & 2034 & 840 & 2.131 & 0.730 & 5837 & 2140 & 2.501 & 0.571 & 3640 & 37464 & 34964 & 207487 & 20421 & 287337 & 2420 & 2046 & 1305 & 1.598 & 0.451 & 2013 & 368 & 3.865 & 0.701 & 416 &  83 & 3.199 & 0.295 & 10325 & 3292 & 2.722 & 0.774 & 86549.6 & 2851 & 925 & 447 & 13775 & 5153 & 2.424 & 0.633 &  8399 & 2517 & 3.005 & 0.653 & 1990 & 768 & 2.505 & 0.623 & 10429 & 4582 & 2.139 & 0.634 & 6424 & 2272 & 2.495 & 0.774 & 28846 & 6259 & 3235 & 1.822 & 0.627 & 3294 & 1363 & 2.141 & 0.740 & 341 & 10015 & 2928 & 2.872 & 0.715 & 1711 & 2853 & 1429 & 1.975 & 0.542 & 2133 & 911 & 2.117 & 0.700 & 4466 & 1484 & 2.611 & 0.611 & 2059 & 602 & 2.716 & 0.603 & 3186 & 1194 & 2.289 & 0.624 & 1347 & 1030 & 1.366 & 0.334 & 6791 & 3576 & 1.737 & 0.632 & 424 & 3151 & 1405 & 2.202 & 0.667 & 10163 & 4342 & 2.240 & 0.695 & 8589 & 3715 & 2.348 & 0.671 & 4887 & 2346 & 868 & 2.519 & 0.497 & 11455 & 4542 & 2.234 & 0.607 & 19798 & 6945 & 2.508 & 0.651 & 13147 & 5229 & 2.293 & 0.662 & 11232 & 3720 & 2.636 & 0.724 &  9301 & 3586 & 2.370 & 0.609 & 326 & 1950 & 360 & 3.641 & 0.578 & 6247 & 938 & 360 & 2.288 & 0.515 & 6598 & 5796 & 1.017 & 1.412 & 3507 & 83 & 342 &  944 & 526 & 1195 & 2188 &  875 & 2.514 & 0.636 & 2084 & 774 & 2.333 & 0.727 & 5478 & 2025 & 2.555 & 0.604 & 3410 & 40990 & 32727 & 190760 & 300971 & 1802 & 2787 & 2592 & 1515 & 1.688 & 0.497 & 2446 & 388 & 3.868 & 0.741 & 682 & 172 & 2.767 & 0.451 & 8132 & 2792 & 2.633 & 0.746 & 85990.9 & 3166 & 418 & 12711 & 4846 & 2.401 & 0.628 & 10887 & 3171 & 2.894 & 0.797 & 2255 & 937 & 2.268 & 0.573 & 12006 & 4942 & 2.302 & 0.717 & 6029 & 2251 & 2.430 & 0.757 & 19381 & 6013 & 2970 & 1.768 & 0.762 & 4850 & 1924 & 2.328 & 0.733 & 11746 & 3431 & 2.817 & 0.680 & 1386 & CN      \\\\\n",
       "\t34 & 78.3 & Female & 13 & 0 & 0.0 &  8.00 & 14.00 & 27 & 42 & 6 & 1542 & 3237 & 1437 & 2.146 & 0.641 & 1871 & 608 & 2.642 & 0.951 & 2465 &  985 & 2.298 & 0.523 & 1918 & 621 & 2.609 & 0.711 & 2598 & 1040 & 2.197 & 0.602 & 1832 & 1441 & 1.419 & 0.430 & 7232 & 4127 & 1.637 & 0.643 & 2836 & 1057 & 2.531 & 0.564 & 1424309 & 12356 & 5436 & 2.163 & 0.660 & 6824 & 3081 & 2.193 & 0.580 & 3750 & 1200 & 429 & 2.802 & 1.045 & 14297 & 6214 & 2.106 & 0.603 & 17795 & 6246 & 2.540 & 0.648 & 11292 & 5435 & 1.969 & 0.536 &  9199 & 3172 & 2.571 & 0.640 &  9496 & 3866 & 2.330 & 0.706 & 2220 & 337 & 4.239 & 0.547 & 369 & 5456 & 658 & 268 & 2.287 & 0.489 & 6562 & 5154 & 1.259 & 1.593 & 3641 &  909 & 3314 & 5000 & 1786 & 2.836 & 0.846 & 1155 & 5288 & 1832 & 2.860 & 0.779 & 2049 &  989 & 2.160 & 0.463 & 1531 & 516 & 2.761 & 0.704 & 5201 & 2050 & 2.414 & 0.638 & 3525 & 33350 & 37486 & 185616 & 22127 & 288485 & 1738 & 2201 & 1350 & 1.616 & 0.517 & 1883 & 383 & 3.740 & 0.671 & 612 & 171 & 2.540 & 0.583 &  8013 & 2723 & 2.699 & 0.830 & 84979.9 & 3451 & 888 & 250 & 10278 & 4429 & 2.233 & 0.601 & 11759 & 3730 & 2.827 & 0.722 & 2080 & 757 & 2.608 & 0.623 &  9025 & 4487 & 1.987 & 0.536 & 6287 & 2276 & 2.558 & 0.737 &  7823 & 4835 & 2581 & 1.820 & 0.579 & 3448 & 1304 & 2.456 & 0.764 & 423 &  8505 & 2735 & 2.675 & 0.658 & 1556 & 3013 & 1298 & 2.153 & 0.585 & 1926 & 556 & 3.048 & 1.062 & 4214 & 1820 & 2.083 & 0.555 & 1953 & 651 & 2.355 & 0.718 & 2411 & 1110 & 2.025 & 0.608 & 1388 & 1123 & 1.346 & 0.323 & 7285 & 4047 & 1.678 & 0.606 & 379 & 2535 &  934 & 2.569 & 0.685 & 11346 & 4979 & 2.111 & 0.668 & 6792 & 2993 & 2.258 & 0.634 & 3700 & 2394 & 774 & 2.832 & 0.726 & 12776 & 5485 & 2.027 & 0.692 & 17998 & 6438 & 2.537 & 0.617 & 12080 & 5720 & 1.968 & 0.644 &  9717 & 3391 & 2.538 & 0.714 & 11767 & 4528 & 2.351 & 0.658 & 468 & 1723 & 311 & 3.865 & 0.609 & 6148 & 806 & 381 & 2.084 & 0.319 & 6240 & 5323 & 1.140 & 1.512 & 3602 & 33 & 370 & 1118 & 422 & 1091 & 1925 &  990 & 2.122 & 0.544 & 1874 & 758 & 2.321 & 0.634 & 4592 & 1795 & 2.300 & 0.593 & 3146 & 33912 & 35499 & 180652 & 291705 &  916 & 2273 & 2495 & 1504 & 1.708 & 0.540 & 2194 & 374 & 3.988 & 0.715 & 887 & 225 & 2.906 & 0.421 & 8595 & 2938 & 2.669 & 0.735 & 85299.1 & 3667 & 240 & 13186 & 5362 & 2.274 & 0.628 &  9007 & 2810 & 2.893 & 0.634 & 1850 & 640 & 2.666 & 0.751 &  8080 & 3675 & 2.032 & 0.555 & 5646 & 2198 & 2.475 & 0.741 &  5914 & 5181 & 2861 & 1.788 & 0.489 & 4269 & 1708 & 2.447 & 0.663 & 11500 & 3601 & 2.754 & 0.600 & 1310 & CN      \\\\\n",
       "\t40 & 70.7 & Female & 13 & 0 & 2.0 & 12.33 & 18.33 & 27 & 23 & 6 & 1231 & 3265 & 1431 & 2.206 & 0.692 & 1681 & 584 & 2.401 & 0.728 & 3889 & 1293 & 2.722 & 0.510 & 2143 & 718 & 2.533 & 0.631 & 2854 & 1066 & 2.392 & 0.534 & 2144 & 1701 & 1.338 & 0.352 & 7291 & 4072 & 1.658 & 0.595 & 3789 & 1293 & 2.730 & 0.503 & 1516892 & 10265 & 4404 & 2.257 & 0.706 & 7595 & 3251 & 2.147 & 0.618 & 3358 & 1739 & 497 & 2.978 & 0.701 & 12916 & 5150 & 2.240 & 0.642 & 19596 & 6739 & 2.700 & 0.612 & 10114 & 4595 & 2.046 & 0.653 &  8850 & 3053 & 2.595 & 0.673 &  8467 & 3197 & 2.449 & 0.673 & 1922 & 369 & 3.816 & 0.596 & 385 & 5845 & 640 & 246 & 2.312 & 0.529 & 5589 & 5012 & 1.008 & 1.470 & 3321 &  943 & 2611 & 5874 & 2004 & 2.993 & 0.907 &  734 & 5633 & 2019 & 2.692 & 0.880 & 1722 &  800 & 2.293 & 0.454 & 1750 & 472 & 3.185 & 0.594 & 5418 & 1993 & 2.584 & 0.485 & 2699 & 35591 & 36692 & 168225 & 23778 & 269367 & 1917 & 2736 & 1282 & 2.011 & 0.684 & 1627 & 272 & 3.654 & 0.888 & 714 & 185 & 2.906 & 0.517 &  9842 & 3365 & 2.657 & 0.680 & 81796.9 & 3152 & 718 & 349 &  9735 & 4082 & 2.266 & 0.569 & 12151 & 3419 & 3.063 & 0.777 & 1643 & 545 & 2.932 & 0.788 &  9186 & 4500 & 1.995 & 0.571 & 6754 & 2240 & 2.771 & 0.698 & 10410 & 5713 & 2821 & 1.949 & 0.690 & 3626 & 1484 & 2.243 & 0.784 & 341 &  7909 & 2454 & 2.717 & 0.703 & 1384 & 3045 & 1304 & 2.198 & 0.656 & 1953 & 640 & 2.484 & 0.775 & 4356 & 1494 & 2.572 & 0.530 & 2029 & 562 & 2.775 & 0.645 & 3312 & 1300 & 2.307 & 0.591 & 1714 & 1276 & 1.554 & 0.429 & 8035 & 4109 & 1.818 & 0.626 & 323 & 3423 & 1205 & 2.580 & 0.541 & 10682 & 4568 & 2.233 & 0.653 & 7506 & 3016 & 2.362 & 0.598 & 3945 & 2429 & 667 & 3.129 & 0.732 & 11931 & 4791 & 2.256 & 0.663 & 18605 & 6241 & 2.742 & 0.609 & 11755 & 5188 & 2.139 & 0.637 &  8580 & 3125 & 2.471 & 0.722 &  9857 & 3794 & 2.417 & 0.587 & 324 & 2310 & 399 & 3.793 & 0.775 & 5905 & 780 & 310 & 2.260 & 0.496 & 5930 & 4959 & 1.059 & 1.522 & 3462 & 35 & 351 &  940 & 360 &  856 & 1935 &  848 & 2.368 & 0.463 & 2253 & 696 & 3.003 & 0.657 & 3947 & 1595 & 2.403 & 0.597 & 2480 & 36256 & 37851 & 163332 & 266365 &  828 & 1705 & 2381 & 1274 & 1.812 & 0.450 & 1757 & 271 & 4.006 & 0.805 & 795 & 175 & 3.234 & 0.362 & 7100 & 2454 & 2.667 & 0.745 & 81282.0 & 3078 & 276 & 12327 & 5043 & 2.279 & 0.639 & 10326 & 2750 & 3.094 & 0.779 & 1565 & 548 & 2.746 & 0.811 & 10260 & 4624 & 2.126 & 0.656 & 6289 & 2257 & 2.666 & 0.776 & 10554 & 5222 & 2896 & 1.732 & 0.710 & 3679 & 1414 & 2.299 & 0.770 &  9605 & 2864 & 2.804 & 0.663 & 2032 & Dementia\\\\\n",
       "\\end{tabular}\n"
      ],
      "text/markdown": [
       "\n",
       "A data.frame: 5 × 336\n",
       "\n",
       "| <!--/--> | AGE &lt;labelled&gt; | PTGENDER &lt;labelled&gt; | PTEDUCAT &lt;labelled&gt; | APOE4 &lt;labelled&gt; | CDRSB &lt;labelled&gt; | ADAS11 &lt;labelled&gt; | ADAS13 &lt;labelled&gt; | MMSE &lt;labelled&gt; | RAVLT.immediate &lt;labelled&gt; | M &lt;labelled&gt; | ⋯ ⋯ | ST98CV &lt;dbl&gt; | ST98SA &lt;dbl&gt; | ST98TA &lt;dbl&gt; | ST98TS &lt;dbl&gt; | ST99CV &lt;dbl&gt; | ST99SA &lt;dbl&gt; | ST99TA &lt;dbl&gt; | ST99TS &lt;dbl&gt; | ST9SV &lt;dbl&gt; | DX.18 &lt;fct&gt; |\n",
       "|---|---|---|---|---|---|---|---|---|---|---|---|---|---|---|---|---|---|---|---|---|---|\n",
       "| 2 | 73.9 | Female | 12 | 1 | 2.5 | 14.33 | 24.33 | 26 | 20 | 6 | ⋯ | 3073 | 1356 | 2.161 | 0.506 | 10045 | 3497 | 2.517 | 0.684 | 1021 | Dementia |\n",
       "| 9 | 76.3 | Female | 18 | 0 | 0.0 |  3.67 |  4.67 | 30 | 45 | 6 | ⋯ | 4683 | 2028 | 2.177 | 0.701 | 13154 | 3979 | 2.771 | 0.774 |  862 | CN       |\n",
       "| 19 | 75.8 | Male   | 16 | 2 | 2.0 |  7.67 | 10.67 | 25 | 42 | 6 | ⋯ | 4850 | 1924 | 2.328 | 0.733 | 11746 | 3431 | 2.817 | 0.680 | 1386 | CN       |\n",
       "| 34 | 78.3 | Female | 13 | 0 | 0.0 |  8.00 | 14.00 | 27 | 42 | 6 | ⋯ | 4269 | 1708 | 2.447 | 0.663 | 11500 | 3601 | 2.754 | 0.600 | 1310 | CN       |\n",
       "| 40 | 70.7 | Female | 13 | 0 | 2.0 | 12.33 | 18.33 | 27 | 23 | 6 | ⋯ | 3679 | 1414 | 2.299 | 0.770 |  9605 | 2864 | 2.804 | 0.663 | 2032 | Dementia |\n",
       "\n"
      ],
      "text/plain": [
       "   AGE  PTGENDER PTEDUCAT APOE4 CDRSB ADAS11 ADAS13 MMSE RAVLT.immediate M ⋯\n",
       "2  73.9 Female   12       1     2.5   14.33  24.33  26   20              6 ⋯\n",
       "9  76.3 Female   18       0     0.0    3.67   4.67  30   45              6 ⋯\n",
       "19 75.8 Male     16       2     2.0    7.67  10.67  25   42              6 ⋯\n",
       "34 78.3 Female   13       0     0.0    8.00  14.00  27   42              6 ⋯\n",
       "40 70.7 Female   13       0     2.0   12.33  18.33  27   23              6 ⋯\n",
       "   ST98CV ST98SA ST98TA ST98TS ST99CV ST99SA ST99TA ST99TS ST9SV DX.18   \n",
       "2  3073   1356   2.161  0.506  10045  3497   2.517  0.684  1021  Dementia\n",
       "9  4683   2028   2.177  0.701  13154  3979   2.771  0.774   862  CN      \n",
       "19 4850   1924   2.328  0.733  11746  3431   2.817  0.680  1386  CN      \n",
       "34 4269   1708   2.447  0.663  11500  3601   2.754  0.600  1310  CN      \n",
       "40 3679   1414   2.299  0.770   9605  2864   2.804  0.663  2032  Dementia"
      ]
     },
     "metadata": {},
     "output_type": "display_data"
    }
   ],
   "source": [
    "test_merge.M18 <- test_merge.M18 %>%\n",
    "    select(-c(RID, VISCODE, DX)) %>%\n",
    "    transform(DX.18 = unlist(DX.18))\n",
    "test_merge.M18 <- test_merge.M18[test_merge.M18$DX.18 != \"MCI\",]\n",
    "test_merge.M18$DX.18 <- factor(test_merge.M18$DX.18)\n",
    "test_merge.M18[1:5,]"
   ]
  },
  {
   "cell_type": "code",
   "execution_count": 31,
   "metadata": {},
   "outputs": [],
   "source": [
    "m18_cv_model <- train(DX.18 ~ . , data = test_merge.M18, method = \"glmnet\", trControl = cctrl1,metric = \"ROC\",\n",
    "                             tuneGrid = expand.grid(alpha = 1,lambda = seq(0.001,0.1,by = 0.001)))"
   ]
  },
  {
   "cell_type": "code",
   "execution_count": 32,
   "metadata": {},
   "outputs": [
    {
     "data": {
      "text/plain": [
       "glmnet \n",
       "\n",
       "325 samples\n",
       "335 predictors\n",
       "  2 classes: 'CN', 'Dementia' \n",
       "\n",
       "No pre-processing\n",
       "Resampling: Cross-Validated (10 fold) \n",
       "Summary of sample sizes: 293, 292, 292, 293, 292, 292, ... \n",
       "Resampling results across tuning parameters:\n",
       "\n",
       "  lambda  ROC        Sens       Spec     \n",
       "  0.001   0.5980454  0.6460784  0.5357143\n",
       "  0.002   0.5980454  0.6460784  0.5357143\n",
       "  0.003   0.6091099  0.6516340  0.5361905\n",
       "  0.004   0.6214083  0.6516340  0.5500000\n",
       "  0.005   0.6295191  0.6578431  0.5433333\n",
       "  0.006   0.6409975  0.6581699  0.5500000\n",
       "  0.007   0.6559539  0.6696078  0.5638095\n",
       "  0.008   0.6624774  0.6692810  0.5504762\n",
       "  0.009   0.6713321  0.6918301  0.5504762\n",
       "  0.010   0.6793557  0.6973856  0.5571429\n",
       "  0.011   0.6880626  0.7143791  0.5771429\n",
       "  0.012   0.6983022  0.7143791  0.5904762\n",
       "  0.013   0.7096623  0.7088235  0.5971429\n",
       "  0.014   0.7152661  0.7199346  0.5971429\n",
       "  0.015   0.7213414  0.7313725  0.6038095\n",
       "  0.016   0.7270106  0.7254902  0.6171429\n",
       "  0.017   0.7327062  0.7369281  0.6238095\n",
       "  0.018   0.7372985  0.7428105  0.6304762\n",
       "  0.019   0.7437302  0.7486928  0.6371429\n",
       "  0.020   0.7501930  0.7715686  0.6371429\n",
       "  0.021   0.7552132  0.7715686  0.6304762\n",
       "  0.022   0.7609570  0.7771242  0.6304762\n",
       "  0.023   0.7644522  0.7774510  0.6371429\n",
       "  0.024   0.7656769  0.7830065  0.6438095\n",
       "  0.025   0.7652194  0.7944444  0.6438095\n",
       "  0.026   0.7656116  0.7944444  0.6371429\n",
       "  0.027   0.7620650  0.8000000  0.6371429\n",
       "  0.028   0.7608403  0.8000000  0.6438095\n",
       "  0.029   0.7615811  0.8003268  0.6504762\n",
       "  0.030   0.7611796  0.8058824  0.6504762\n",
       "  0.031   0.7619686  0.8058824  0.6504762\n",
       "  0.032   0.7607828  0.8058824  0.6504762\n",
       "  0.033   0.7596499  0.8058824  0.6438095\n",
       "  0.034   0.7611749  0.8058824  0.6438095\n",
       "  0.035   0.7599984  0.8058824  0.6504762\n",
       "  0.036   0.7595534  0.8003268  0.6438095\n",
       "  0.037   0.7580237  0.8003268  0.6438095\n",
       "  0.038   0.7568861  0.8003268  0.6366667\n",
       "  0.039   0.7576439  0.8003268  0.6366667\n",
       "  0.040   0.7594865  0.8003268  0.6366667\n",
       "  0.041   0.7602007  0.8003268  0.6366667\n",
       "  0.042   0.7586492  0.8003268  0.6366667\n",
       "  0.043   0.7566885  0.8003268  0.6366667\n",
       "  0.044   0.7550887  0.8003268  0.6366667\n",
       "  0.045   0.7516418  0.8058824  0.6433333\n",
       "  0.046   0.7524043  0.8058824  0.6433333\n",
       "  0.047   0.7490056  0.8117647  0.6433333\n",
       "  0.048   0.7482384  0.8117647  0.6433333\n",
       "  0.049   0.7459290  0.8117647  0.6433333\n",
       "  0.050   0.7463477  0.8117647  0.6438095\n",
       "  0.051   0.7455633  0.8117647  0.6438095\n",
       "  0.052   0.7444740  0.8117647  0.6438095\n",
       "  0.053   0.7441083  0.8117647  0.6304762\n",
       "  0.054   0.7463477  0.8117647  0.6371429\n",
       "  0.055   0.7459819  0.8117647  0.6371429\n",
       "  0.056   0.7452194  0.8117647  0.6366667\n",
       "  0.057   0.7440865  0.8117647  0.6433333\n",
       "  0.058   0.7452194  0.8117647  0.6433333\n",
       "  0.059   0.7448708  0.8117647  0.6433333\n",
       "  0.060   0.7448973  0.8117647  0.6433333\n",
       "  0.061   0.7441783  0.8117647  0.6366667\n",
       "  0.062   0.7418736  0.8117647  0.6433333\n",
       "  0.063   0.7410411  0.8117647  0.6433333\n",
       "  0.064   0.7414115  0.8117647  0.6366667\n",
       "  0.065   0.7414115  0.8117647  0.6366667\n",
       "  0.066   0.7414115  0.8117647  0.6366667\n",
       "  0.067   0.7414161  0.8117647  0.6300000\n",
       "  0.068   0.7417865  0.8117647  0.6300000\n",
       "  0.069   0.7420868  0.8117647  0.6366667\n",
       "  0.070   0.7420868  0.8058824  0.6366667\n",
       "  0.071   0.7416900  0.8058824  0.6366667\n",
       "  0.072   0.7409493  0.8058824  0.6366667\n",
       "  0.073   0.7416682  0.8058824  0.6366667\n",
       "  0.074   0.7412589  0.8058824  0.6366667\n",
       "  0.075   0.7431544  0.8058824  0.6366667\n",
       "  0.076   0.7435994  0.8058824  0.6366667\n",
       "  0.077   0.7440134  0.8058824  0.6300000\n",
       "  0.078   0.7443838  0.8058824  0.6300000\n",
       "  0.079   0.7443838  0.8000000  0.6300000\n",
       "  0.080   0.7436383  0.8000000  0.6300000\n",
       "  0.081   0.7432415  0.8000000  0.6300000\n",
       "  0.082   0.7432197  0.8000000  0.6300000\n",
       "  0.083   0.7435683  0.8000000  0.6300000\n",
       "  0.084   0.7446748  0.8000000  0.6300000\n",
       "  0.085   0.7446312  0.8000000  0.6300000\n",
       "  0.086   0.7449798  0.8000000  0.6233333\n",
       "  0.087   0.7441861  0.8000000  0.6233333\n",
       "  0.088   0.7449704  0.8000000  0.6166667\n",
       "  0.089   0.7457330  0.8000000  0.6166667\n",
       "  0.090   0.7464737  0.8000000  0.6166667\n",
       "  0.091   0.7464472  0.8000000  0.6166667\n",
       "  0.092   0.7464472  0.8000000  0.6166667\n",
       "  0.093   0.7460504  0.8000000  0.6166667\n",
       "  0.094   0.7464426  0.8058824  0.6166667\n",
       "  0.095   0.7460458  0.8058824  0.6166667\n",
       "  0.096   0.7464426  0.8058824  0.6233333\n",
       "  0.097   0.7460458  0.8058824  0.6233333\n",
       "  0.098   0.7464379  0.8058824  0.6233333\n",
       "  0.099   0.7471786  0.8058824  0.6161905\n",
       "  0.100   0.7475708  0.8058824  0.6095238\n",
       "\n",
       "Tuning parameter 'alpha' was held constant at a value of 1\n",
       "ROC was used to select the optimal model using the largest value.\n",
       "The final values used for the model were alpha = 1 and lambda = 0.024."
      ]
     },
     "metadata": {},
     "output_type": "display_data"
    }
   ],
   "source": [
    "m18_cv_model"
   ]
  },
  {
   "cell_type": "markdown",
   "metadata": {},
   "source": [
    "# Predict Abeta"
   ]
  },
  {
   "cell_type": "code",
   "execution_count": null,
   "metadata": {},
   "outputs": [],
   "source": [
    "\"\"\"\n",
    "*CHANGE: \n",
    "- Here I should plot some figures to show the result, and then include those \n",
    "    important variables to train a glm model. \n",
    "- Here I should use a `scale` and `center` function to pre-process data,\n",
    "    preProcess = c(scale,cente)\n",
    "    should consider enlarge the range of lambda.\n",
    "- Consider using Boruta algorithm to find out the important variables.\n",
    "\n",
    "\"\"\""
   ]
  },
  {
   "cell_type": "code",
   "execution_count": 53,
   "metadata": {},
   "outputs": [],
   "source": [
    "abeta_prediction <- merge(test_merge, adnimerge[,c(\"ABETA\", \"RID\", \"VISCODE\")], by = c(\"RID\", \"VISCODE\")) %>%\n",
    "    select( -c(\"RID\", \"VISCODE\", \"DX\", M)) %>%\n",
    "    na.omit()\n",
    "\n",
    "abeta_prediction$ABETA <- as.numeric(gsub(\"[><]\", \"\", abeta_prediction$ABETA))\n",
    "abeta_prediction <- abeta_prediction[!is.na(abeta_prediction$ABETA),]"
   ]
  },
  {
   "cell_type": "code",
   "execution_count": 57,
   "metadata": {},
   "outputs": [],
   "source": [
    "cctrl1 <- trainControl(method=\"cv\", number=10, returnResamp=\"all\") \n",
    "\n",
    "abeta_cv_model <- train(ABETA ~ . , data = abeta_prediction, method = \"glmnet\", trControl = cctrl1,\n",
    "                             tuneGrid = expand.grid(alpha = 1,lambda = seq(0.001,0.1,by = 0.001)))"
   ]
  },
  {
   "cell_type": "code",
   "execution_count": 58,
   "metadata": {},
   "outputs": [
    {
     "data": {
      "text/plain": [
       "glmnet \n",
       "\n",
       "869 samples\n",
       "334 predictors\n",
       "\n",
       "No pre-processing\n",
       "Resampling: Cross-Validated (10 fold) \n",
       "Summary of sample sizes: 783, 781, 781, 783, 783, 781, ... \n",
       "Resampling results across tuning parameters:\n",
       "\n",
       "  lambda  RMSE      Rsquared   MAE     \n",
       "  0.001   357.3368  0.4459651  272.8315\n",
       "  0.002   357.3368  0.4459651  272.8315\n",
       "  0.003   357.3368  0.4459651  272.8315\n",
       "  0.004   357.3368  0.4459651  272.8315\n",
       "  0.005   357.3368  0.4459651  272.8315\n",
       "  0.006   357.3368  0.4459651  272.8315\n",
       "  0.007   357.3368  0.4459651  272.8315\n",
       "  0.008   357.3368  0.4459651  272.8315\n",
       "  0.009   357.3368  0.4459651  272.8315\n",
       "  0.010   357.3368  0.4459651  272.8315\n",
       "  0.011   357.3368  0.4459651  272.8315\n",
       "  0.012   357.3368  0.4459651  272.8315\n",
       "  0.013   357.3368  0.4459651  272.8315\n",
       "  0.014   357.3368  0.4459651  272.8315\n",
       "  0.015   357.3368  0.4459651  272.8315\n",
       "  0.016   357.3368  0.4459651  272.8315\n",
       "  0.017   357.3368  0.4459651  272.8315\n",
       "  0.018   357.3368  0.4459651  272.8315\n",
       "  0.019   357.3368  0.4459651  272.8315\n",
       "  0.020   357.3368  0.4459651  272.8315\n",
       "  0.021   357.3368  0.4459651  272.8315\n",
       "  0.022   357.3368  0.4459651  272.8315\n",
       "  0.023   357.3046  0.4460065  272.8107\n",
       "  0.024   357.1859  0.4461664  272.7231\n",
       "  0.025   357.0556  0.4463359  272.6272\n",
       "  0.026   356.9294  0.4465005  272.5341\n",
       "  0.027   356.8057  0.4466634  272.4413\n",
       "  0.028   356.6825  0.4468259  272.3486\n",
       "  0.029   356.5579  0.4469907  272.2551\n",
       "  0.030   356.4358  0.4471519  272.1631\n",
       "  0.031   356.3203  0.4473043  272.0748\n",
       "  0.032   356.2084  0.4474523  271.9888\n",
       "  0.033   356.0949  0.4476028  271.9012\n",
       "  0.034   355.9763  0.4477597  271.8099\n",
       "  0.035   355.8589  0.4479162  271.7199\n",
       "  0.036   355.7424  0.4480724  271.6303\n",
       "  0.037   355.6305  0.4482232  271.5438\n",
       "  0.038   355.5177  0.4483747  271.4564\n",
       "  0.039   355.4027  0.4485274  271.3676\n",
       "  0.040   355.2928  0.4486730  271.2833\n",
       "  0.041   355.1869  0.4488127  271.2031\n",
       "  0.042   355.0814  0.4489515  271.1233\n",
       "  0.043   354.9760  0.4490900  271.0440\n",
       "  0.044   354.8691  0.4492296  270.9635\n",
       "  0.045   354.7628  0.4493672  270.8838\n",
       "  0.046   354.6576  0.4495032  270.8050\n",
       "  0.047   354.5529  0.4496386  270.7264\n",
       "  0.048   354.4492  0.4497741  270.6482\n",
       "  0.049   354.3462  0.4499094  270.5703\n",
       "  0.050   354.2419  0.4500467  270.4914\n",
       "  0.051   354.1375  0.4501836  270.4124\n",
       "  0.052   354.0335  0.4503201  270.3335\n",
       "  0.053   353.9293  0.4504576  270.2540\n",
       "  0.054   353.8261  0.4505938  270.1751\n",
       "  0.055   353.7234  0.4507293  270.0965\n",
       "  0.056   353.6212  0.4508643  270.0180\n",
       "  0.057   353.5193  0.4509989  269.9395\n",
       "  0.058   353.4161  0.4511319  269.8609\n",
       "  0.059   353.3132  0.4512639  269.7831\n",
       "  0.060   353.2113  0.4513945  269.7067\n",
       "  0.061   353.1100  0.4515245  269.6308\n",
       "  0.062   353.0090  0.4516541  269.5551\n",
       "  0.063   352.9101  0.4517803  269.4805\n",
       "  0.064   352.8158  0.4518997  269.4092\n",
       "  0.065   352.7212  0.4520193  269.3376\n",
       "  0.066   352.6266  0.4521385  269.2656\n",
       "  0.067   352.5322  0.4522576  269.1936\n",
       "  0.068   352.4381  0.4523762  269.1216\n",
       "  0.069   352.3440  0.4524945  269.0498\n",
       "  0.070   352.2500  0.4526122  268.9802\n",
       "  0.071   352.1575  0.4527272  268.9125\n",
       "  0.072   352.0659  0.4528407  268.8449\n",
       "  0.073   351.9750  0.4529533  268.7777\n",
       "  0.074   351.8847  0.4530652  268.7107\n",
       "  0.075   351.7947  0.4531766  268.6437\n",
       "  0.076   351.7049  0.4532878  268.5766\n",
       "  0.077   351.6148  0.4533986  268.5091\n",
       "  0.078   351.5250  0.4535081  268.4415\n",
       "  0.079   351.4361  0.4536160  268.3738\n",
       "  0.080   351.3474  0.4537234  268.3059\n",
       "  0.081   351.2588  0.4538303  268.2378\n",
       "  0.082   351.1706  0.4539368  268.1698\n",
       "  0.083   351.0829  0.4540425  268.1018\n",
       "  0.084   350.9972  0.4541458  268.0352\n",
       "  0.085   350.9127  0.4542471  267.9693\n",
       "  0.086   350.8283  0.4543480  267.9032\n",
       "  0.087   350.7444  0.4544482  267.8375\n",
       "  0.088   350.6605  0.4545475  267.7719\n",
       "  0.089   350.5768  0.4546461  267.7062\n",
       "  0.090   350.4934  0.4547443  267.6406\n",
       "  0.091   350.4106  0.4548415  267.5752\n",
       "  0.092   350.3297  0.4549347  267.5118\n",
       "  0.093   350.2494  0.4550274  267.4490\n",
       "  0.094   350.1697  0.4551189  267.3866\n",
       "  0.095   350.0902  0.4552091  267.3238\n",
       "  0.096   350.0112  0.4552985  267.2610\n",
       "  0.097   349.9327  0.4553872  267.1982\n",
       "  0.098   349.8546  0.4554754  267.1355\n",
       "  0.099   349.7768  0.4555633  267.0730\n",
       "  0.100   349.6994  0.4556517  267.0107\n",
       "\n",
       "Tuning parameter 'alpha' was held constant at a value of 1\n",
       "RMSE was used to select the optimal model using the smallest value.\n",
       "The final values used for the model were alpha = 1 and lambda = 0.1."
      ]
     },
     "metadata": {},
     "output_type": "display_data"
    }
   ],
   "source": [
    "abeta_cv_model"
   ]
  },
  {
   "cell_type": "code",
   "execution_count": 61,
   "metadata": {},
   "outputs": [
    {
     "data": {
      "text/html": [
       "<table>\n",
       "<caption>A data.frame: 100 × 8</caption>\n",
       "<thead>\n",
       "\t<tr><th scope=col>alpha</th><th scope=col>lambda</th><th scope=col>RMSE</th><th scope=col>Rsquared</th><th scope=col>MAE</th><th scope=col>RMSESD</th><th scope=col>RsquaredSD</th><th scope=col>MAESD</th></tr>\n",
       "\t<tr><th scope=col>&lt;dbl&gt;</th><th scope=col>&lt;dbl&gt;</th><th scope=col>&lt;dbl&gt;</th><th scope=col>&lt;dbl&gt;</th><th scope=col>&lt;dbl&gt;</th><th scope=col>&lt;dbl&gt;</th><th scope=col>&lt;dbl&gt;</th><th scope=col>&lt;dbl&gt;</th></tr>\n",
       "</thead>\n",
       "<tbody>\n",
       "\t<tr><td>1</td><td>0.001</td><td>357.3368</td><td>0.4459651</td><td>272.8315</td><td>35.62944</td><td>0.08728948</td><td>20.77377</td></tr>\n",
       "\t<tr><td>1</td><td>0.002</td><td>357.3368</td><td>0.4459651</td><td>272.8315</td><td>35.62944</td><td>0.08728948</td><td>20.77377</td></tr>\n",
       "\t<tr><td>1</td><td>0.003</td><td>357.3368</td><td>0.4459651</td><td>272.8315</td><td>35.62944</td><td>0.08728948</td><td>20.77377</td></tr>\n",
       "\t<tr><td>1</td><td>0.004</td><td>357.3368</td><td>0.4459651</td><td>272.8315</td><td>35.62944</td><td>0.08728948</td><td>20.77377</td></tr>\n",
       "\t<tr><td>1</td><td>0.005</td><td>357.3368</td><td>0.4459651</td><td>272.8315</td><td>35.62944</td><td>0.08728948</td><td>20.77377</td></tr>\n",
       "\t<tr><td>1</td><td>0.006</td><td>357.3368</td><td>0.4459651</td><td>272.8315</td><td>35.62944</td><td>0.08728948</td><td>20.77377</td></tr>\n",
       "\t<tr><td>1</td><td>0.007</td><td>357.3368</td><td>0.4459651</td><td>272.8315</td><td>35.62944</td><td>0.08728948</td><td>20.77377</td></tr>\n",
       "\t<tr><td>1</td><td>0.008</td><td>357.3368</td><td>0.4459651</td><td>272.8315</td><td>35.62944</td><td>0.08728948</td><td>20.77377</td></tr>\n",
       "\t<tr><td>1</td><td>0.009</td><td>357.3368</td><td>0.4459651</td><td>272.8315</td><td>35.62944</td><td>0.08728948</td><td>20.77377</td></tr>\n",
       "\t<tr><td>1</td><td>0.010</td><td>357.3368</td><td>0.4459651</td><td>272.8315</td><td>35.62944</td><td>0.08728948</td><td>20.77377</td></tr>\n",
       "\t<tr><td>1</td><td>0.011</td><td>357.3368</td><td>0.4459651</td><td>272.8315</td><td>35.62944</td><td>0.08728948</td><td>20.77377</td></tr>\n",
       "\t<tr><td>1</td><td>0.012</td><td>357.3368</td><td>0.4459651</td><td>272.8315</td><td>35.62944</td><td>0.08728948</td><td>20.77377</td></tr>\n",
       "\t<tr><td>1</td><td>0.013</td><td>357.3368</td><td>0.4459651</td><td>272.8315</td><td>35.62944</td><td>0.08728948</td><td>20.77377</td></tr>\n",
       "\t<tr><td>1</td><td>0.014</td><td>357.3368</td><td>0.4459651</td><td>272.8315</td><td>35.62944</td><td>0.08728948</td><td>20.77377</td></tr>\n",
       "\t<tr><td>1</td><td>0.015</td><td>357.3368</td><td>0.4459651</td><td>272.8315</td><td>35.62944</td><td>0.08728948</td><td>20.77377</td></tr>\n",
       "\t<tr><td>1</td><td>0.016</td><td>357.3368</td><td>0.4459651</td><td>272.8315</td><td>35.62944</td><td>0.08728948</td><td>20.77377</td></tr>\n",
       "\t<tr><td>1</td><td>0.017</td><td>357.3368</td><td>0.4459651</td><td>272.8315</td><td>35.62944</td><td>0.08728948</td><td>20.77377</td></tr>\n",
       "\t<tr><td>1</td><td>0.018</td><td>357.3368</td><td>0.4459651</td><td>272.8315</td><td>35.62944</td><td>0.08728948</td><td>20.77377</td></tr>\n",
       "\t<tr><td>1</td><td>0.019</td><td>357.3368</td><td>0.4459651</td><td>272.8315</td><td>35.62944</td><td>0.08728948</td><td>20.77377</td></tr>\n",
       "\t<tr><td>1</td><td>0.020</td><td>357.3368</td><td>0.4459651</td><td>272.8315</td><td>35.62944</td><td>0.08728948</td><td>20.77377</td></tr>\n",
       "\t<tr><td>1</td><td>0.021</td><td>357.3368</td><td>0.4459651</td><td>272.8315</td><td>35.62944</td><td>0.08728948</td><td>20.77377</td></tr>\n",
       "\t<tr><td>1</td><td>0.022</td><td>357.3368</td><td>0.4459651</td><td>272.8315</td><td>35.62944</td><td>0.08728948</td><td>20.77377</td></tr>\n",
       "\t<tr><td>1</td><td>0.023</td><td>357.3046</td><td>0.4460065</td><td>272.8107</td><td>35.63910</td><td>0.08730562</td><td>20.77263</td></tr>\n",
       "\t<tr><td>1</td><td>0.024</td><td>357.1859</td><td>0.4461664</td><td>272.7231</td><td>35.65327</td><td>0.08731786</td><td>20.76599</td></tr>\n",
       "\t<tr><td>1</td><td>0.025</td><td>357.0556</td><td>0.4463359</td><td>272.6272</td><td>35.64735</td><td>0.08731863</td><td>20.75265</td></tr>\n",
       "\t<tr><td>1</td><td>0.026</td><td>356.9294</td><td>0.4465005</td><td>272.5341</td><td>35.64181</td><td>0.08731862</td><td>20.74056</td></tr>\n",
       "\t<tr><td>1</td><td>0.027</td><td>356.8057</td><td>0.4466634</td><td>272.4413</td><td>35.63967</td><td>0.08731869</td><td>20.72810</td></tr>\n",
       "\t<tr><td>1</td><td>0.028</td><td>356.6825</td><td>0.4468259</td><td>272.3486</td><td>35.63766</td><td>0.08731986</td><td>20.71597</td></tr>\n",
       "\t<tr><td>1</td><td>0.029</td><td>356.5579</td><td>0.4469907</td><td>272.2551</td><td>35.63549</td><td>0.08732040</td><td>20.70552</td></tr>\n",
       "\t<tr><td>1</td><td>0.030</td><td>356.4358</td><td>0.4471519</td><td>272.1631</td><td>35.63148</td><td>0.08731840</td><td>20.69507</td></tr>\n",
       "\t<tr><td>⋮</td><td>⋮</td><td>⋮</td><td>⋮</td><td>⋮</td><td>⋮</td><td>⋮</td><td>⋮</td></tr>\n",
       "\t<tr><td>1</td><td>0.071</td><td>352.1575</td><td>0.4527272</td><td>268.9125</td><td>35.37556</td><td>0.08722638</td><td>20.34039</td></tr>\n",
       "\t<tr><td>1</td><td>0.072</td><td>352.0659</td><td>0.4528407</td><td>268.8449</td><td>35.36822</td><td>0.08722478</td><td>20.33207</td></tr>\n",
       "\t<tr><td>1</td><td>0.073</td><td>351.9750</td><td>0.4529533</td><td>268.7777</td><td>35.36195</td><td>0.08722403</td><td>20.32454</td></tr>\n",
       "\t<tr><td>1</td><td>0.074</td><td>351.8847</td><td>0.4530652</td><td>268.7107</td><td>35.35651</td><td>0.08722393</td><td>20.31768</td></tr>\n",
       "\t<tr><td>1</td><td>0.075</td><td>351.7947</td><td>0.4531766</td><td>268.6437</td><td>35.35111</td><td>0.08722383</td><td>20.31090</td></tr>\n",
       "\t<tr><td>1</td><td>0.076</td><td>351.7049</td><td>0.4532878</td><td>268.5766</td><td>35.34508</td><td>0.08722082</td><td>20.30376</td></tr>\n",
       "\t<tr><td>1</td><td>0.077</td><td>351.6148</td><td>0.4533986</td><td>268.5091</td><td>35.33799</td><td>0.08721459</td><td>20.29556</td></tr>\n",
       "\t<tr><td>1</td><td>0.078</td><td>351.5250</td><td>0.4535081</td><td>268.4415</td><td>35.33172</td><td>0.08721047</td><td>20.28737</td></tr>\n",
       "\t<tr><td>1</td><td>0.079</td><td>351.4361</td><td>0.4536160</td><td>268.3738</td><td>35.32573</td><td>0.08720757</td><td>20.27962</td></tr>\n",
       "\t<tr><td>1</td><td>0.080</td><td>351.3474</td><td>0.4537234</td><td>268.3059</td><td>35.31931</td><td>0.08720474</td><td>20.27163</td></tr>\n",
       "\t<tr><td>1</td><td>0.081</td><td>351.2588</td><td>0.4538303</td><td>268.2378</td><td>35.31248</td><td>0.08720197</td><td>20.26334</td></tr>\n",
       "\t<tr><td>1</td><td>0.082</td><td>351.1706</td><td>0.4539368</td><td>268.1698</td><td>35.30568</td><td>0.08719920</td><td>20.25515</td></tr>\n",
       "\t<tr><td>1</td><td>0.083</td><td>351.0829</td><td>0.4540425</td><td>268.1018</td><td>35.29869</td><td>0.08719589</td><td>20.24686</td></tr>\n",
       "\t<tr><td>1</td><td>0.084</td><td>350.9972</td><td>0.4541458</td><td>268.0352</td><td>35.29158</td><td>0.08719098</td><td>20.23915</td></tr>\n",
       "\t<tr><td>1</td><td>0.085</td><td>350.9127</td><td>0.4542471</td><td>267.9693</td><td>35.28394</td><td>0.08718478</td><td>20.23122</td></tr>\n",
       "\t<tr><td>1</td><td>0.086</td><td>350.8283</td><td>0.4543480</td><td>267.9032</td><td>35.27615</td><td>0.08717869</td><td>20.22294</td></tr>\n",
       "\t<tr><td>1</td><td>0.087</td><td>350.7444</td><td>0.4544482</td><td>267.8375</td><td>35.26824</td><td>0.08717258</td><td>20.21417</td></tr>\n",
       "\t<tr><td>1</td><td>0.088</td><td>350.6605</td><td>0.4545475</td><td>267.7719</td><td>35.25941</td><td>0.08716747</td><td>20.20526</td></tr>\n",
       "\t<tr><td>1</td><td>0.089</td><td>350.5768</td><td>0.4546461</td><td>267.7062</td><td>35.25033</td><td>0.08716272</td><td>20.19636</td></tr>\n",
       "\t<tr><td>1</td><td>0.090</td><td>350.4934</td><td>0.4547443</td><td>267.6406</td><td>35.24130</td><td>0.08715799</td><td>20.18753</td></tr>\n",
       "\t<tr><td>1</td><td>0.091</td><td>350.4106</td><td>0.4548415</td><td>267.5752</td><td>35.23209</td><td>0.08715280</td><td>20.17866</td></tr>\n",
       "\t<tr><td>1</td><td>0.092</td><td>350.3297</td><td>0.4549347</td><td>267.5118</td><td>35.22301</td><td>0.08714650</td><td>20.17052</td></tr>\n",
       "\t<tr><td>1</td><td>0.093</td><td>350.2494</td><td>0.4550274</td><td>267.4490</td><td>35.21469</td><td>0.08714071</td><td>20.16312</td></tr>\n",
       "\t<tr><td>1</td><td>0.094</td><td>350.1697</td><td>0.4551189</td><td>267.3866</td><td>35.20644</td><td>0.08713586</td><td>20.15605</td></tr>\n",
       "\t<tr><td>1</td><td>0.095</td><td>350.0902</td><td>0.4552091</td><td>267.3238</td><td>35.19821</td><td>0.08713072</td><td>20.14971</td></tr>\n",
       "\t<tr><td>1</td><td>0.096</td><td>350.0112</td><td>0.4552985</td><td>267.2610</td><td>35.19030</td><td>0.08712567</td><td>20.14366</td></tr>\n",
       "\t<tr><td>1</td><td>0.097</td><td>349.9327</td><td>0.4553872</td><td>267.1982</td><td>35.18329</td><td>0.08712109</td><td>20.13805</td></tr>\n",
       "\t<tr><td>1</td><td>0.098</td><td>349.8546</td><td>0.4554754</td><td>267.1355</td><td>35.17630</td><td>0.08711651</td><td>20.13250</td></tr>\n",
       "\t<tr><td>1</td><td>0.099</td><td>349.7768</td><td>0.4555633</td><td>267.0730</td><td>35.16934</td><td>0.08711193</td><td>20.12696</td></tr>\n",
       "\t<tr><td>1</td><td>0.100</td><td>349.6994</td><td>0.4556517</td><td>267.0107</td><td>35.16198</td><td>0.08710643</td><td>20.12152</td></tr>\n",
       "</tbody>\n",
       "</table>\n"
      ],
      "text/latex": [
       "A data.frame: 100 × 8\n",
       "\\begin{tabular}{r|llllllll}\n",
       " alpha & lambda & RMSE & Rsquared & MAE & RMSESD & RsquaredSD & MAESD\\\\\n",
       " <dbl> & <dbl> & <dbl> & <dbl> & <dbl> & <dbl> & <dbl> & <dbl>\\\\\n",
       "\\hline\n",
       "\t 1 & 0.001 & 357.3368 & 0.4459651 & 272.8315 & 35.62944 & 0.08728948 & 20.77377\\\\\n",
       "\t 1 & 0.002 & 357.3368 & 0.4459651 & 272.8315 & 35.62944 & 0.08728948 & 20.77377\\\\\n",
       "\t 1 & 0.003 & 357.3368 & 0.4459651 & 272.8315 & 35.62944 & 0.08728948 & 20.77377\\\\\n",
       "\t 1 & 0.004 & 357.3368 & 0.4459651 & 272.8315 & 35.62944 & 0.08728948 & 20.77377\\\\\n",
       "\t 1 & 0.005 & 357.3368 & 0.4459651 & 272.8315 & 35.62944 & 0.08728948 & 20.77377\\\\\n",
       "\t 1 & 0.006 & 357.3368 & 0.4459651 & 272.8315 & 35.62944 & 0.08728948 & 20.77377\\\\\n",
       "\t 1 & 0.007 & 357.3368 & 0.4459651 & 272.8315 & 35.62944 & 0.08728948 & 20.77377\\\\\n",
       "\t 1 & 0.008 & 357.3368 & 0.4459651 & 272.8315 & 35.62944 & 0.08728948 & 20.77377\\\\\n",
       "\t 1 & 0.009 & 357.3368 & 0.4459651 & 272.8315 & 35.62944 & 0.08728948 & 20.77377\\\\\n",
       "\t 1 & 0.010 & 357.3368 & 0.4459651 & 272.8315 & 35.62944 & 0.08728948 & 20.77377\\\\\n",
       "\t 1 & 0.011 & 357.3368 & 0.4459651 & 272.8315 & 35.62944 & 0.08728948 & 20.77377\\\\\n",
       "\t 1 & 0.012 & 357.3368 & 0.4459651 & 272.8315 & 35.62944 & 0.08728948 & 20.77377\\\\\n",
       "\t 1 & 0.013 & 357.3368 & 0.4459651 & 272.8315 & 35.62944 & 0.08728948 & 20.77377\\\\\n",
       "\t 1 & 0.014 & 357.3368 & 0.4459651 & 272.8315 & 35.62944 & 0.08728948 & 20.77377\\\\\n",
       "\t 1 & 0.015 & 357.3368 & 0.4459651 & 272.8315 & 35.62944 & 0.08728948 & 20.77377\\\\\n",
       "\t 1 & 0.016 & 357.3368 & 0.4459651 & 272.8315 & 35.62944 & 0.08728948 & 20.77377\\\\\n",
       "\t 1 & 0.017 & 357.3368 & 0.4459651 & 272.8315 & 35.62944 & 0.08728948 & 20.77377\\\\\n",
       "\t 1 & 0.018 & 357.3368 & 0.4459651 & 272.8315 & 35.62944 & 0.08728948 & 20.77377\\\\\n",
       "\t 1 & 0.019 & 357.3368 & 0.4459651 & 272.8315 & 35.62944 & 0.08728948 & 20.77377\\\\\n",
       "\t 1 & 0.020 & 357.3368 & 0.4459651 & 272.8315 & 35.62944 & 0.08728948 & 20.77377\\\\\n",
       "\t 1 & 0.021 & 357.3368 & 0.4459651 & 272.8315 & 35.62944 & 0.08728948 & 20.77377\\\\\n",
       "\t 1 & 0.022 & 357.3368 & 0.4459651 & 272.8315 & 35.62944 & 0.08728948 & 20.77377\\\\\n",
       "\t 1 & 0.023 & 357.3046 & 0.4460065 & 272.8107 & 35.63910 & 0.08730562 & 20.77263\\\\\n",
       "\t 1 & 0.024 & 357.1859 & 0.4461664 & 272.7231 & 35.65327 & 0.08731786 & 20.76599\\\\\n",
       "\t 1 & 0.025 & 357.0556 & 0.4463359 & 272.6272 & 35.64735 & 0.08731863 & 20.75265\\\\\n",
       "\t 1 & 0.026 & 356.9294 & 0.4465005 & 272.5341 & 35.64181 & 0.08731862 & 20.74056\\\\\n",
       "\t 1 & 0.027 & 356.8057 & 0.4466634 & 272.4413 & 35.63967 & 0.08731869 & 20.72810\\\\\n",
       "\t 1 & 0.028 & 356.6825 & 0.4468259 & 272.3486 & 35.63766 & 0.08731986 & 20.71597\\\\\n",
       "\t 1 & 0.029 & 356.5579 & 0.4469907 & 272.2551 & 35.63549 & 0.08732040 & 20.70552\\\\\n",
       "\t 1 & 0.030 & 356.4358 & 0.4471519 & 272.1631 & 35.63148 & 0.08731840 & 20.69507\\\\\n",
       "\t ⋮ & ⋮ & ⋮ & ⋮ & ⋮ & ⋮ & ⋮ & ⋮\\\\\n",
       "\t 1 & 0.071 & 352.1575 & 0.4527272 & 268.9125 & 35.37556 & 0.08722638 & 20.34039\\\\\n",
       "\t 1 & 0.072 & 352.0659 & 0.4528407 & 268.8449 & 35.36822 & 0.08722478 & 20.33207\\\\\n",
       "\t 1 & 0.073 & 351.9750 & 0.4529533 & 268.7777 & 35.36195 & 0.08722403 & 20.32454\\\\\n",
       "\t 1 & 0.074 & 351.8847 & 0.4530652 & 268.7107 & 35.35651 & 0.08722393 & 20.31768\\\\\n",
       "\t 1 & 0.075 & 351.7947 & 0.4531766 & 268.6437 & 35.35111 & 0.08722383 & 20.31090\\\\\n",
       "\t 1 & 0.076 & 351.7049 & 0.4532878 & 268.5766 & 35.34508 & 0.08722082 & 20.30376\\\\\n",
       "\t 1 & 0.077 & 351.6148 & 0.4533986 & 268.5091 & 35.33799 & 0.08721459 & 20.29556\\\\\n",
       "\t 1 & 0.078 & 351.5250 & 0.4535081 & 268.4415 & 35.33172 & 0.08721047 & 20.28737\\\\\n",
       "\t 1 & 0.079 & 351.4361 & 0.4536160 & 268.3738 & 35.32573 & 0.08720757 & 20.27962\\\\\n",
       "\t 1 & 0.080 & 351.3474 & 0.4537234 & 268.3059 & 35.31931 & 0.08720474 & 20.27163\\\\\n",
       "\t 1 & 0.081 & 351.2588 & 0.4538303 & 268.2378 & 35.31248 & 0.08720197 & 20.26334\\\\\n",
       "\t 1 & 0.082 & 351.1706 & 0.4539368 & 268.1698 & 35.30568 & 0.08719920 & 20.25515\\\\\n",
       "\t 1 & 0.083 & 351.0829 & 0.4540425 & 268.1018 & 35.29869 & 0.08719589 & 20.24686\\\\\n",
       "\t 1 & 0.084 & 350.9972 & 0.4541458 & 268.0352 & 35.29158 & 0.08719098 & 20.23915\\\\\n",
       "\t 1 & 0.085 & 350.9127 & 0.4542471 & 267.9693 & 35.28394 & 0.08718478 & 20.23122\\\\\n",
       "\t 1 & 0.086 & 350.8283 & 0.4543480 & 267.9032 & 35.27615 & 0.08717869 & 20.22294\\\\\n",
       "\t 1 & 0.087 & 350.7444 & 0.4544482 & 267.8375 & 35.26824 & 0.08717258 & 20.21417\\\\\n",
       "\t 1 & 0.088 & 350.6605 & 0.4545475 & 267.7719 & 35.25941 & 0.08716747 & 20.20526\\\\\n",
       "\t 1 & 0.089 & 350.5768 & 0.4546461 & 267.7062 & 35.25033 & 0.08716272 & 20.19636\\\\\n",
       "\t 1 & 0.090 & 350.4934 & 0.4547443 & 267.6406 & 35.24130 & 0.08715799 & 20.18753\\\\\n",
       "\t 1 & 0.091 & 350.4106 & 0.4548415 & 267.5752 & 35.23209 & 0.08715280 & 20.17866\\\\\n",
       "\t 1 & 0.092 & 350.3297 & 0.4549347 & 267.5118 & 35.22301 & 0.08714650 & 20.17052\\\\\n",
       "\t 1 & 0.093 & 350.2494 & 0.4550274 & 267.4490 & 35.21469 & 0.08714071 & 20.16312\\\\\n",
       "\t 1 & 0.094 & 350.1697 & 0.4551189 & 267.3866 & 35.20644 & 0.08713586 & 20.15605\\\\\n",
       "\t 1 & 0.095 & 350.0902 & 0.4552091 & 267.3238 & 35.19821 & 0.08713072 & 20.14971\\\\\n",
       "\t 1 & 0.096 & 350.0112 & 0.4552985 & 267.2610 & 35.19030 & 0.08712567 & 20.14366\\\\\n",
       "\t 1 & 0.097 & 349.9327 & 0.4553872 & 267.1982 & 35.18329 & 0.08712109 & 20.13805\\\\\n",
       "\t 1 & 0.098 & 349.8546 & 0.4554754 & 267.1355 & 35.17630 & 0.08711651 & 20.13250\\\\\n",
       "\t 1 & 0.099 & 349.7768 & 0.4555633 & 267.0730 & 35.16934 & 0.08711193 & 20.12696\\\\\n",
       "\t 1 & 0.100 & 349.6994 & 0.4556517 & 267.0107 & 35.16198 & 0.08710643 & 20.12152\\\\\n",
       "\\end{tabular}\n"
      ],
      "text/markdown": [
       "\n",
       "A data.frame: 100 × 8\n",
       "\n",
       "| alpha &lt;dbl&gt; | lambda &lt;dbl&gt; | RMSE &lt;dbl&gt; | Rsquared &lt;dbl&gt; | MAE &lt;dbl&gt; | RMSESD &lt;dbl&gt; | RsquaredSD &lt;dbl&gt; | MAESD &lt;dbl&gt; |\n",
       "|---|---|---|---|---|---|---|---|\n",
       "| 1 | 0.001 | 357.3368 | 0.4459651 | 272.8315 | 35.62944 | 0.08728948 | 20.77377 |\n",
       "| 1 | 0.002 | 357.3368 | 0.4459651 | 272.8315 | 35.62944 | 0.08728948 | 20.77377 |\n",
       "| 1 | 0.003 | 357.3368 | 0.4459651 | 272.8315 | 35.62944 | 0.08728948 | 20.77377 |\n",
       "| 1 | 0.004 | 357.3368 | 0.4459651 | 272.8315 | 35.62944 | 0.08728948 | 20.77377 |\n",
       "| 1 | 0.005 | 357.3368 | 0.4459651 | 272.8315 | 35.62944 | 0.08728948 | 20.77377 |\n",
       "| 1 | 0.006 | 357.3368 | 0.4459651 | 272.8315 | 35.62944 | 0.08728948 | 20.77377 |\n",
       "| 1 | 0.007 | 357.3368 | 0.4459651 | 272.8315 | 35.62944 | 0.08728948 | 20.77377 |\n",
       "| 1 | 0.008 | 357.3368 | 0.4459651 | 272.8315 | 35.62944 | 0.08728948 | 20.77377 |\n",
       "| 1 | 0.009 | 357.3368 | 0.4459651 | 272.8315 | 35.62944 | 0.08728948 | 20.77377 |\n",
       "| 1 | 0.010 | 357.3368 | 0.4459651 | 272.8315 | 35.62944 | 0.08728948 | 20.77377 |\n",
       "| 1 | 0.011 | 357.3368 | 0.4459651 | 272.8315 | 35.62944 | 0.08728948 | 20.77377 |\n",
       "| 1 | 0.012 | 357.3368 | 0.4459651 | 272.8315 | 35.62944 | 0.08728948 | 20.77377 |\n",
       "| 1 | 0.013 | 357.3368 | 0.4459651 | 272.8315 | 35.62944 | 0.08728948 | 20.77377 |\n",
       "| 1 | 0.014 | 357.3368 | 0.4459651 | 272.8315 | 35.62944 | 0.08728948 | 20.77377 |\n",
       "| 1 | 0.015 | 357.3368 | 0.4459651 | 272.8315 | 35.62944 | 0.08728948 | 20.77377 |\n",
       "| 1 | 0.016 | 357.3368 | 0.4459651 | 272.8315 | 35.62944 | 0.08728948 | 20.77377 |\n",
       "| 1 | 0.017 | 357.3368 | 0.4459651 | 272.8315 | 35.62944 | 0.08728948 | 20.77377 |\n",
       "| 1 | 0.018 | 357.3368 | 0.4459651 | 272.8315 | 35.62944 | 0.08728948 | 20.77377 |\n",
       "| 1 | 0.019 | 357.3368 | 0.4459651 | 272.8315 | 35.62944 | 0.08728948 | 20.77377 |\n",
       "| 1 | 0.020 | 357.3368 | 0.4459651 | 272.8315 | 35.62944 | 0.08728948 | 20.77377 |\n",
       "| 1 | 0.021 | 357.3368 | 0.4459651 | 272.8315 | 35.62944 | 0.08728948 | 20.77377 |\n",
       "| 1 | 0.022 | 357.3368 | 0.4459651 | 272.8315 | 35.62944 | 0.08728948 | 20.77377 |\n",
       "| 1 | 0.023 | 357.3046 | 0.4460065 | 272.8107 | 35.63910 | 0.08730562 | 20.77263 |\n",
       "| 1 | 0.024 | 357.1859 | 0.4461664 | 272.7231 | 35.65327 | 0.08731786 | 20.76599 |\n",
       "| 1 | 0.025 | 357.0556 | 0.4463359 | 272.6272 | 35.64735 | 0.08731863 | 20.75265 |\n",
       "| 1 | 0.026 | 356.9294 | 0.4465005 | 272.5341 | 35.64181 | 0.08731862 | 20.74056 |\n",
       "| 1 | 0.027 | 356.8057 | 0.4466634 | 272.4413 | 35.63967 | 0.08731869 | 20.72810 |\n",
       "| 1 | 0.028 | 356.6825 | 0.4468259 | 272.3486 | 35.63766 | 0.08731986 | 20.71597 |\n",
       "| 1 | 0.029 | 356.5579 | 0.4469907 | 272.2551 | 35.63549 | 0.08732040 | 20.70552 |\n",
       "| 1 | 0.030 | 356.4358 | 0.4471519 | 272.1631 | 35.63148 | 0.08731840 | 20.69507 |\n",
       "| ⋮ | ⋮ | ⋮ | ⋮ | ⋮ | ⋮ | ⋮ | ⋮ |\n",
       "| 1 | 0.071 | 352.1575 | 0.4527272 | 268.9125 | 35.37556 | 0.08722638 | 20.34039 |\n",
       "| 1 | 0.072 | 352.0659 | 0.4528407 | 268.8449 | 35.36822 | 0.08722478 | 20.33207 |\n",
       "| 1 | 0.073 | 351.9750 | 0.4529533 | 268.7777 | 35.36195 | 0.08722403 | 20.32454 |\n",
       "| 1 | 0.074 | 351.8847 | 0.4530652 | 268.7107 | 35.35651 | 0.08722393 | 20.31768 |\n",
       "| 1 | 0.075 | 351.7947 | 0.4531766 | 268.6437 | 35.35111 | 0.08722383 | 20.31090 |\n",
       "| 1 | 0.076 | 351.7049 | 0.4532878 | 268.5766 | 35.34508 | 0.08722082 | 20.30376 |\n",
       "| 1 | 0.077 | 351.6148 | 0.4533986 | 268.5091 | 35.33799 | 0.08721459 | 20.29556 |\n",
       "| 1 | 0.078 | 351.5250 | 0.4535081 | 268.4415 | 35.33172 | 0.08721047 | 20.28737 |\n",
       "| 1 | 0.079 | 351.4361 | 0.4536160 | 268.3738 | 35.32573 | 0.08720757 | 20.27962 |\n",
       "| 1 | 0.080 | 351.3474 | 0.4537234 | 268.3059 | 35.31931 | 0.08720474 | 20.27163 |\n",
       "| 1 | 0.081 | 351.2588 | 0.4538303 | 268.2378 | 35.31248 | 0.08720197 | 20.26334 |\n",
       "| 1 | 0.082 | 351.1706 | 0.4539368 | 268.1698 | 35.30568 | 0.08719920 | 20.25515 |\n",
       "| 1 | 0.083 | 351.0829 | 0.4540425 | 268.1018 | 35.29869 | 0.08719589 | 20.24686 |\n",
       "| 1 | 0.084 | 350.9972 | 0.4541458 | 268.0352 | 35.29158 | 0.08719098 | 20.23915 |\n",
       "| 1 | 0.085 | 350.9127 | 0.4542471 | 267.9693 | 35.28394 | 0.08718478 | 20.23122 |\n",
       "| 1 | 0.086 | 350.8283 | 0.4543480 | 267.9032 | 35.27615 | 0.08717869 | 20.22294 |\n",
       "| 1 | 0.087 | 350.7444 | 0.4544482 | 267.8375 | 35.26824 | 0.08717258 | 20.21417 |\n",
       "| 1 | 0.088 | 350.6605 | 0.4545475 | 267.7719 | 35.25941 | 0.08716747 | 20.20526 |\n",
       "| 1 | 0.089 | 350.5768 | 0.4546461 | 267.7062 | 35.25033 | 0.08716272 | 20.19636 |\n",
       "| 1 | 0.090 | 350.4934 | 0.4547443 | 267.6406 | 35.24130 | 0.08715799 | 20.18753 |\n",
       "| 1 | 0.091 | 350.4106 | 0.4548415 | 267.5752 | 35.23209 | 0.08715280 | 20.17866 |\n",
       "| 1 | 0.092 | 350.3297 | 0.4549347 | 267.5118 | 35.22301 | 0.08714650 | 20.17052 |\n",
       "| 1 | 0.093 | 350.2494 | 0.4550274 | 267.4490 | 35.21469 | 0.08714071 | 20.16312 |\n",
       "| 1 | 0.094 | 350.1697 | 0.4551189 | 267.3866 | 35.20644 | 0.08713586 | 20.15605 |\n",
       "| 1 | 0.095 | 350.0902 | 0.4552091 | 267.3238 | 35.19821 | 0.08713072 | 20.14971 |\n",
       "| 1 | 0.096 | 350.0112 | 0.4552985 | 267.2610 | 35.19030 | 0.08712567 | 20.14366 |\n",
       "| 1 | 0.097 | 349.9327 | 0.4553872 | 267.1982 | 35.18329 | 0.08712109 | 20.13805 |\n",
       "| 1 | 0.098 | 349.8546 | 0.4554754 | 267.1355 | 35.17630 | 0.08711651 | 20.13250 |\n",
       "| 1 | 0.099 | 349.7768 | 0.4555633 | 267.0730 | 35.16934 | 0.08711193 | 20.12696 |\n",
       "| 1 | 0.100 | 349.6994 | 0.4556517 | 267.0107 | 35.16198 | 0.08710643 | 20.12152 |\n",
       "\n"
      ],
      "text/plain": [
       "    alpha lambda RMSE     Rsquared  MAE      RMSESD   RsquaredSD MAESD   \n",
       "1   1     0.001  357.3368 0.4459651 272.8315 35.62944 0.08728948 20.77377\n",
       "2   1     0.002  357.3368 0.4459651 272.8315 35.62944 0.08728948 20.77377\n",
       "3   1     0.003  357.3368 0.4459651 272.8315 35.62944 0.08728948 20.77377\n",
       "4   1     0.004  357.3368 0.4459651 272.8315 35.62944 0.08728948 20.77377\n",
       "5   1     0.005  357.3368 0.4459651 272.8315 35.62944 0.08728948 20.77377\n",
       "6   1     0.006  357.3368 0.4459651 272.8315 35.62944 0.08728948 20.77377\n",
       "7   1     0.007  357.3368 0.4459651 272.8315 35.62944 0.08728948 20.77377\n",
       "8   1     0.008  357.3368 0.4459651 272.8315 35.62944 0.08728948 20.77377\n",
       "9   1     0.009  357.3368 0.4459651 272.8315 35.62944 0.08728948 20.77377\n",
       "10  1     0.010  357.3368 0.4459651 272.8315 35.62944 0.08728948 20.77377\n",
       "11  1     0.011  357.3368 0.4459651 272.8315 35.62944 0.08728948 20.77377\n",
       "12  1     0.012  357.3368 0.4459651 272.8315 35.62944 0.08728948 20.77377\n",
       "13  1     0.013  357.3368 0.4459651 272.8315 35.62944 0.08728948 20.77377\n",
       "14  1     0.014  357.3368 0.4459651 272.8315 35.62944 0.08728948 20.77377\n",
       "15  1     0.015  357.3368 0.4459651 272.8315 35.62944 0.08728948 20.77377\n",
       "16  1     0.016  357.3368 0.4459651 272.8315 35.62944 0.08728948 20.77377\n",
       "17  1     0.017  357.3368 0.4459651 272.8315 35.62944 0.08728948 20.77377\n",
       "18  1     0.018  357.3368 0.4459651 272.8315 35.62944 0.08728948 20.77377\n",
       "19  1     0.019  357.3368 0.4459651 272.8315 35.62944 0.08728948 20.77377\n",
       "20  1     0.020  357.3368 0.4459651 272.8315 35.62944 0.08728948 20.77377\n",
       "21  1     0.021  357.3368 0.4459651 272.8315 35.62944 0.08728948 20.77377\n",
       "22  1     0.022  357.3368 0.4459651 272.8315 35.62944 0.08728948 20.77377\n",
       "23  1     0.023  357.3046 0.4460065 272.8107 35.63910 0.08730562 20.77263\n",
       "24  1     0.024  357.1859 0.4461664 272.7231 35.65327 0.08731786 20.76599\n",
       "25  1     0.025  357.0556 0.4463359 272.6272 35.64735 0.08731863 20.75265\n",
       "26  1     0.026  356.9294 0.4465005 272.5341 35.64181 0.08731862 20.74056\n",
       "27  1     0.027  356.8057 0.4466634 272.4413 35.63967 0.08731869 20.72810\n",
       "28  1     0.028  356.6825 0.4468259 272.3486 35.63766 0.08731986 20.71597\n",
       "29  1     0.029  356.5579 0.4469907 272.2551 35.63549 0.08732040 20.70552\n",
       "30  1     0.030  356.4358 0.4471519 272.1631 35.63148 0.08731840 20.69507\n",
       "⋮   ⋮     ⋮      ⋮        ⋮         ⋮        ⋮        ⋮          ⋮       \n",
       "71  1     0.071  352.1575 0.4527272 268.9125 35.37556 0.08722638 20.34039\n",
       "72  1     0.072  352.0659 0.4528407 268.8449 35.36822 0.08722478 20.33207\n",
       "73  1     0.073  351.9750 0.4529533 268.7777 35.36195 0.08722403 20.32454\n",
       "74  1     0.074  351.8847 0.4530652 268.7107 35.35651 0.08722393 20.31768\n",
       "75  1     0.075  351.7947 0.4531766 268.6437 35.35111 0.08722383 20.31090\n",
       "76  1     0.076  351.7049 0.4532878 268.5766 35.34508 0.08722082 20.30376\n",
       "77  1     0.077  351.6148 0.4533986 268.5091 35.33799 0.08721459 20.29556\n",
       "78  1     0.078  351.5250 0.4535081 268.4415 35.33172 0.08721047 20.28737\n",
       "79  1     0.079  351.4361 0.4536160 268.3738 35.32573 0.08720757 20.27962\n",
       "80  1     0.080  351.3474 0.4537234 268.3059 35.31931 0.08720474 20.27163\n",
       "81  1     0.081  351.2588 0.4538303 268.2378 35.31248 0.08720197 20.26334\n",
       "82  1     0.082  351.1706 0.4539368 268.1698 35.30568 0.08719920 20.25515\n",
       "83  1     0.083  351.0829 0.4540425 268.1018 35.29869 0.08719589 20.24686\n",
       "84  1     0.084  350.9972 0.4541458 268.0352 35.29158 0.08719098 20.23915\n",
       "85  1     0.085  350.9127 0.4542471 267.9693 35.28394 0.08718478 20.23122\n",
       "86  1     0.086  350.8283 0.4543480 267.9032 35.27615 0.08717869 20.22294\n",
       "87  1     0.087  350.7444 0.4544482 267.8375 35.26824 0.08717258 20.21417\n",
       "88  1     0.088  350.6605 0.4545475 267.7719 35.25941 0.08716747 20.20526\n",
       "89  1     0.089  350.5768 0.4546461 267.7062 35.25033 0.08716272 20.19636\n",
       "90  1     0.090  350.4934 0.4547443 267.6406 35.24130 0.08715799 20.18753\n",
       "91  1     0.091  350.4106 0.4548415 267.5752 35.23209 0.08715280 20.17866\n",
       "92  1     0.092  350.3297 0.4549347 267.5118 35.22301 0.08714650 20.17052\n",
       "93  1     0.093  350.2494 0.4550274 267.4490 35.21469 0.08714071 20.16312\n",
       "94  1     0.094  350.1697 0.4551189 267.3866 35.20644 0.08713586 20.15605\n",
       "95  1     0.095  350.0902 0.4552091 267.3238 35.19821 0.08713072 20.14971\n",
       "96  1     0.096  350.0112 0.4552985 267.2610 35.19030 0.08712567 20.14366\n",
       "97  1     0.097  349.9327 0.4553872 267.1982 35.18329 0.08712109 20.13805\n",
       "98  1     0.098  349.8546 0.4554754 267.1355 35.17630 0.08711651 20.13250\n",
       "99  1     0.099  349.7768 0.4555633 267.0730 35.16934 0.08711193 20.12696\n",
       "100 1     0.100  349.6994 0.4556517 267.0107 35.16198 0.08710643 20.12152"
      ]
     },
     "metadata": {},
     "output_type": "display_data"
    }
   ],
   "source": [
    "abeta_cv_model[[\"results\"]]"
   ]
  },
  {
   "cell_type": "code",
   "execution_count": null,
   "metadata": {},
   "outputs": [],
   "source": []
  }
 ],
 "metadata": {
  "kernelspec": {
   "display_name": "R",
   "language": "R",
   "name": "ir"
  },
  "language_info": {
   "codemirror_mode": "r",
   "file_extension": ".r",
   "mimetype": "text/x-r-source",
   "name": "R",
   "pygments_lexer": "r",
   "version": "3.5.2"
  }
 },
 "nbformat": 4,
 "nbformat_minor": 2
}
